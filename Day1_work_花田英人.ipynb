{
 "cells": [
  {
   "cell_type": "markdown",
   "metadata": {},
   "source": [
    "# 通し課題 Day1\n",
    "## 目的\n",
    " 課題①　KickStarter Project　\n",
    " https://www.kaggle.com/kemical/kickstarter-projects\n",
    " \n",
    " について分類アルゴリズムを実装評価する。\n",
    " "
   ]
  },
  {
   "cell_type": "markdown",
   "metadata": {},
   "source": [
    "## 前準備\n",
    "以下の処理を実行し、データの処理方針を決定する。"
   ]
  },
  {
   "cell_type": "code",
   "execution_count": 2,
   "metadata": {
    "collapsed": true
   },
   "outputs": [],
   "source": [
    "#各種必要ライブラリのロード\n",
    "%matplotlib inline\n",
    "import pandas as pd\n",
    "import numpy as np\n",
    "import matplotlib.pyplot as plt\n",
    "import seaborn as sns\n",
    "from sklearn.linear_model import SGDClassifier\n",
    "from sklearn.metrics import log_loss, accuracy_score, confusion_matrix"
   ]
  },
  {
   "cell_type": "code",
   "execution_count": 3,
   "metadata": {
    "collapsed": true
   },
   "outputs": [],
   "source": [
    "#データの読込\n",
    "df = pd.read_csv(\"./ks-projects-201801.csv\")"
   ]
  },
  {
   "cell_type": "code",
   "execution_count": 4,
   "metadata": {},
   "outputs": [
    {
     "data": {
      "text/html": [
       "<div>\n",
       "<style scoped>\n",
       "    .dataframe tbody tr th:only-of-type {\n",
       "        vertical-align: middle;\n",
       "    }\n",
       "\n",
       "    .dataframe tbody tr th {\n",
       "        vertical-align: top;\n",
       "    }\n",
       "\n",
       "    .dataframe thead th {\n",
       "        text-align: right;\n",
       "    }\n",
       "</style>\n",
       "<table border=\"1\" class=\"dataframe\">\n",
       "  <thead>\n",
       "    <tr style=\"text-align: right;\">\n",
       "      <th></th>\n",
       "      <th>ID</th>\n",
       "      <th>name</th>\n",
       "      <th>category</th>\n",
       "      <th>main_category</th>\n",
       "      <th>currency</th>\n",
       "      <th>deadline</th>\n",
       "      <th>goal</th>\n",
       "      <th>launched</th>\n",
       "      <th>pledged</th>\n",
       "      <th>state</th>\n",
       "      <th>backers</th>\n",
       "      <th>country</th>\n",
       "      <th>usd pledged</th>\n",
       "      <th>usd_pledged_real</th>\n",
       "      <th>usd_goal_real</th>\n",
       "    </tr>\n",
       "  </thead>\n",
       "  <tbody>\n",
       "    <tr>\n",
       "      <th>378656</th>\n",
       "      <td>999976400</td>\n",
       "      <td>ChknTruk Nationwide Charity Drive 2014 (Canceled)</td>\n",
       "      <td>Documentary</td>\n",
       "      <td>Film &amp; Video</td>\n",
       "      <td>USD</td>\n",
       "      <td>2014-10-17</td>\n",
       "      <td>50000.0</td>\n",
       "      <td>2014-09-17 02:35:30</td>\n",
       "      <td>25.0</td>\n",
       "      <td>canceled</td>\n",
       "      <td>1</td>\n",
       "      <td>US</td>\n",
       "      <td>25.0</td>\n",
       "      <td>25.0</td>\n",
       "      <td>50000.0</td>\n",
       "    </tr>\n",
       "    <tr>\n",
       "      <th>378657</th>\n",
       "      <td>999977640</td>\n",
       "      <td>The Tribe</td>\n",
       "      <td>Narrative Film</td>\n",
       "      <td>Film &amp; Video</td>\n",
       "      <td>USD</td>\n",
       "      <td>2011-07-19</td>\n",
       "      <td>1500.0</td>\n",
       "      <td>2011-06-22 03:35:14</td>\n",
       "      <td>155.0</td>\n",
       "      <td>failed</td>\n",
       "      <td>5</td>\n",
       "      <td>US</td>\n",
       "      <td>155.0</td>\n",
       "      <td>155.0</td>\n",
       "      <td>1500.0</td>\n",
       "    </tr>\n",
       "    <tr>\n",
       "      <th>378658</th>\n",
       "      <td>999986353</td>\n",
       "      <td>Walls of Remedy- New lesbian Romantic Comedy f...</td>\n",
       "      <td>Narrative Film</td>\n",
       "      <td>Film &amp; Video</td>\n",
       "      <td>USD</td>\n",
       "      <td>2010-08-16</td>\n",
       "      <td>15000.0</td>\n",
       "      <td>2010-07-01 19:40:30</td>\n",
       "      <td>20.0</td>\n",
       "      <td>failed</td>\n",
       "      <td>1</td>\n",
       "      <td>US</td>\n",
       "      <td>20.0</td>\n",
       "      <td>20.0</td>\n",
       "      <td>15000.0</td>\n",
       "    </tr>\n",
       "    <tr>\n",
       "      <th>378659</th>\n",
       "      <td>999987933</td>\n",
       "      <td>BioDefense Education Kit</td>\n",
       "      <td>Technology</td>\n",
       "      <td>Technology</td>\n",
       "      <td>USD</td>\n",
       "      <td>2016-02-13</td>\n",
       "      <td>15000.0</td>\n",
       "      <td>2016-01-13 18:13:53</td>\n",
       "      <td>200.0</td>\n",
       "      <td>failed</td>\n",
       "      <td>6</td>\n",
       "      <td>US</td>\n",
       "      <td>200.0</td>\n",
       "      <td>200.0</td>\n",
       "      <td>15000.0</td>\n",
       "    </tr>\n",
       "    <tr>\n",
       "      <th>378660</th>\n",
       "      <td>999988282</td>\n",
       "      <td>Nou Renmen Ayiti!  We Love Haiti!</td>\n",
       "      <td>Performance Art</td>\n",
       "      <td>Art</td>\n",
       "      <td>USD</td>\n",
       "      <td>2011-08-16</td>\n",
       "      <td>2000.0</td>\n",
       "      <td>2011-07-19 09:07:47</td>\n",
       "      <td>524.0</td>\n",
       "      <td>failed</td>\n",
       "      <td>17</td>\n",
       "      <td>US</td>\n",
       "      <td>524.0</td>\n",
       "      <td>524.0</td>\n",
       "      <td>2000.0</td>\n",
       "    </tr>\n",
       "  </tbody>\n",
       "</table>\n",
       "</div>"
      ],
      "text/plain": [
       "               ID                                               name  \\\n",
       "378656  999976400  ChknTruk Nationwide Charity Drive 2014 (Canceled)   \n",
       "378657  999977640                                          The Tribe   \n",
       "378658  999986353  Walls of Remedy- New lesbian Romantic Comedy f...   \n",
       "378659  999987933                           BioDefense Education Kit   \n",
       "378660  999988282                  Nou Renmen Ayiti!  We Love Haiti!   \n",
       "\n",
       "               category main_category currency    deadline     goal  \\\n",
       "378656      Documentary  Film & Video      USD  2014-10-17  50000.0   \n",
       "378657   Narrative Film  Film & Video      USD  2011-07-19   1500.0   \n",
       "378658   Narrative Film  Film & Video      USD  2010-08-16  15000.0   \n",
       "378659       Technology    Technology      USD  2016-02-13  15000.0   \n",
       "378660  Performance Art           Art      USD  2011-08-16   2000.0   \n",
       "\n",
       "                   launched  pledged     state  backers country  usd pledged  \\\n",
       "378656  2014-09-17 02:35:30     25.0  canceled        1      US         25.0   \n",
       "378657  2011-06-22 03:35:14    155.0    failed        5      US        155.0   \n",
       "378658  2010-07-01 19:40:30     20.0    failed        1      US         20.0   \n",
       "378659  2016-01-13 18:13:53    200.0    failed        6      US        200.0   \n",
       "378660  2011-07-19 09:07:47    524.0    failed       17      US        524.0   \n",
       "\n",
       "        usd_pledged_real  usd_goal_real  \n",
       "378656              25.0        50000.0  \n",
       "378657             155.0         1500.0  \n",
       "378658              20.0        15000.0  \n",
       "378659             200.0        15000.0  \n",
       "378660             524.0         2000.0  "
      ]
     },
     "execution_count": 4,
     "metadata": {},
     "output_type": "execute_result"
    }
   ],
   "source": [
    "#データ概要の表示\n",
    "df.tail()"
   ]
  },
  {
   "cell_type": "markdown",
   "metadata": {},
   "source": [
    "- pledged , backer, usd pledged, usd pledged realについてはプロジェクト開始時には不明なデータであるため、処理対象から除外する\n"
   ]
  },
  {
   "cell_type": "code",
   "execution_count": 5,
   "metadata": {
    "collapsed": true
   },
   "outputs": [],
   "source": [
    "#Backers と　pleged　は入れてはならない\n",
    "#箱ひげの方がわかりやすいかも"
   ]
  },
  {
   "cell_type": "code",
   "execution_count": 6,
   "metadata": {
    "collapsed": true
   },
   "outputs": [],
   "source": [
    "#開始時にはわからないデータを除去する\n",
    "df = df.drop('pledged', axis=1)\n",
    "df = df.drop('backers', axis=1)\n",
    "df = df.drop('usd pledged', axis=1)\n",
    "df = df.drop('usd_pledged_real', axis=1)"
   ]
  },
  {
   "cell_type": "code",
   "execution_count": 7,
   "metadata": {
    "scrolled": true
   },
   "outputs": [
    {
     "data": {
      "text/html": [
       "<div>\n",
       "<style scoped>\n",
       "    .dataframe tbody tr th:only-of-type {\n",
       "        vertical-align: middle;\n",
       "    }\n",
       "\n",
       "    .dataframe tbody tr th {\n",
       "        vertical-align: top;\n",
       "    }\n",
       "\n",
       "    .dataframe thead th {\n",
       "        text-align: right;\n",
       "    }\n",
       "</style>\n",
       "<table border=\"1\" class=\"dataframe\">\n",
       "  <thead>\n",
       "    <tr style=\"text-align: right;\">\n",
       "      <th></th>\n",
       "      <th>ID</th>\n",
       "      <th>name</th>\n",
       "      <th>category</th>\n",
       "      <th>main_category</th>\n",
       "      <th>currency</th>\n",
       "      <th>deadline</th>\n",
       "      <th>goal</th>\n",
       "      <th>launched</th>\n",
       "      <th>state</th>\n",
       "      <th>country</th>\n",
       "      <th>usd_goal_real</th>\n",
       "    </tr>\n",
       "  </thead>\n",
       "  <tbody>\n",
       "    <tr>\n",
       "      <th>378656</th>\n",
       "      <td>999976400</td>\n",
       "      <td>ChknTruk Nationwide Charity Drive 2014 (Canceled)</td>\n",
       "      <td>Documentary</td>\n",
       "      <td>Film &amp; Video</td>\n",
       "      <td>USD</td>\n",
       "      <td>2014-10-17</td>\n",
       "      <td>50000.0</td>\n",
       "      <td>2014-09-17 02:35:30</td>\n",
       "      <td>canceled</td>\n",
       "      <td>US</td>\n",
       "      <td>50000.0</td>\n",
       "    </tr>\n",
       "    <tr>\n",
       "      <th>378657</th>\n",
       "      <td>999977640</td>\n",
       "      <td>The Tribe</td>\n",
       "      <td>Narrative Film</td>\n",
       "      <td>Film &amp; Video</td>\n",
       "      <td>USD</td>\n",
       "      <td>2011-07-19</td>\n",
       "      <td>1500.0</td>\n",
       "      <td>2011-06-22 03:35:14</td>\n",
       "      <td>failed</td>\n",
       "      <td>US</td>\n",
       "      <td>1500.0</td>\n",
       "    </tr>\n",
       "    <tr>\n",
       "      <th>378658</th>\n",
       "      <td>999986353</td>\n",
       "      <td>Walls of Remedy- New lesbian Romantic Comedy f...</td>\n",
       "      <td>Narrative Film</td>\n",
       "      <td>Film &amp; Video</td>\n",
       "      <td>USD</td>\n",
       "      <td>2010-08-16</td>\n",
       "      <td>15000.0</td>\n",
       "      <td>2010-07-01 19:40:30</td>\n",
       "      <td>failed</td>\n",
       "      <td>US</td>\n",
       "      <td>15000.0</td>\n",
       "    </tr>\n",
       "    <tr>\n",
       "      <th>378659</th>\n",
       "      <td>999987933</td>\n",
       "      <td>BioDefense Education Kit</td>\n",
       "      <td>Technology</td>\n",
       "      <td>Technology</td>\n",
       "      <td>USD</td>\n",
       "      <td>2016-02-13</td>\n",
       "      <td>15000.0</td>\n",
       "      <td>2016-01-13 18:13:53</td>\n",
       "      <td>failed</td>\n",
       "      <td>US</td>\n",
       "      <td>15000.0</td>\n",
       "    </tr>\n",
       "    <tr>\n",
       "      <th>378660</th>\n",
       "      <td>999988282</td>\n",
       "      <td>Nou Renmen Ayiti!  We Love Haiti!</td>\n",
       "      <td>Performance Art</td>\n",
       "      <td>Art</td>\n",
       "      <td>USD</td>\n",
       "      <td>2011-08-16</td>\n",
       "      <td>2000.0</td>\n",
       "      <td>2011-07-19 09:07:47</td>\n",
       "      <td>failed</td>\n",
       "      <td>US</td>\n",
       "      <td>2000.0</td>\n",
       "    </tr>\n",
       "  </tbody>\n",
       "</table>\n",
       "</div>"
      ],
      "text/plain": [
       "               ID                                               name  \\\n",
       "378656  999976400  ChknTruk Nationwide Charity Drive 2014 (Canceled)   \n",
       "378657  999977640                                          The Tribe   \n",
       "378658  999986353  Walls of Remedy- New lesbian Romantic Comedy f...   \n",
       "378659  999987933                           BioDefense Education Kit   \n",
       "378660  999988282                  Nou Renmen Ayiti!  We Love Haiti!   \n",
       "\n",
       "               category main_category currency    deadline     goal  \\\n",
       "378656      Documentary  Film & Video      USD  2014-10-17  50000.0   \n",
       "378657   Narrative Film  Film & Video      USD  2011-07-19   1500.0   \n",
       "378658   Narrative Film  Film & Video      USD  2010-08-16  15000.0   \n",
       "378659       Technology    Technology      USD  2016-02-13  15000.0   \n",
       "378660  Performance Art           Art      USD  2011-08-16   2000.0   \n",
       "\n",
       "                   launched     state country  usd_goal_real  \n",
       "378656  2014-09-17 02:35:30  canceled      US        50000.0  \n",
       "378657  2011-06-22 03:35:14    failed      US         1500.0  \n",
       "378658  2010-07-01 19:40:30    failed      US        15000.0  \n",
       "378659  2016-01-13 18:13:53    failed      US        15000.0  \n",
       "378660  2011-07-19 09:07:47    failed      US         2000.0  "
      ]
     },
     "execution_count": 7,
     "metadata": {},
     "output_type": "execute_result"
    }
   ],
   "source": [
    "#処理後のデータを表示\n",
    "df.tail()"
   ]
  },
  {
   "cell_type": "markdown",
   "metadata": {},
   "source": [
    "以下の観点でデータ処理上の不都合がないかを確認する\n",
    "- 全体のデータ数\n",
    "- 欠損値の有無\n",
    "- 目的変数が2値かどうか？\n",
    "- カテゴリ変数がどの程度の種別数を持つか？"
   ]
  },
  {
   "cell_type": "code",
   "execution_count": 8,
   "metadata": {},
   "outputs": [
    {
     "name": "stdout",
     "output_type": "stream",
     "text": [
      "<class 'pandas.core.frame.DataFrame'>\n",
      "RangeIndex: 378661 entries, 0 to 378660\n",
      "Data columns (total 11 columns):\n",
      "ID               378661 non-null int64\n",
      "name             378657 non-null object\n",
      "category         378661 non-null object\n",
      "main_category    378661 non-null object\n",
      "currency         378661 non-null object\n",
      "deadline         378661 non-null object\n",
      "goal             378661 non-null float64\n",
      "launched         378661 non-null object\n",
      "state            378661 non-null object\n",
      "country          378661 non-null object\n",
      "usd_goal_real    378661 non-null float64\n",
      "dtypes: float64(2), int64(1), object(8)\n",
      "memory usage: 31.8+ MB\n"
     ]
    }
   ],
   "source": [
    "#データ数\n",
    "df.info()"
   ]
  },
  {
   "cell_type": "markdown",
   "metadata": {},
   "source": [
    "### データ情報についての考察\n",
    "- 全データ数は378661件、目的変数stateをのぞき10個の説明変数がある\n",
    "- non-nullであることから、欠損値はない\n",
    "- ID/goal/usd_goal_real 以外はカテゴリ変数"
   ]
  },
  {
   "cell_type": "markdown",
   "metadata": {},
   "source": [
    "データの概要をつかむため、各カテゴリ変数の種別数と頻度を求める"
   ]
  },
  {
   "cell_type": "code",
   "execution_count": 9,
   "metadata": {},
   "outputs": [
    {
     "name": "stdout",
     "output_type": "stream",
     "text": [
      "ID \t\t element num  = 378661\n",
      "name \t\t element num  = 375765\n",
      "category \t\t element num  = 159\n",
      "main_category \t\t element num  = 15\n",
      "currency \t\t element num  = 14\n",
      "deadline \t\t element num  = 3164\n",
      "goal \t\t element num  = 8353\n",
      "launched \t\t element num  = 378089\n",
      "state \t\t element num  = 6\n",
      "country \t\t element num  = 23\n",
      "usd_goal_real \t\t element num  = 50339\n"
     ]
    }
   ],
   "source": [
    "#データの概要をつかむため、各カテゴリ変数の種別数と頻度を求める\n",
    "#各カテゴリ変数の種別数を求める\n",
    "names = df.columns.values\n",
    "for name in names:\n",
    "    print('{} \\t\\t element num  = {}'.format(name, df[name].unique().size))"
   ]
  },
  {
   "cell_type": "markdown",
   "metadata": {},
   "source": [
    "- ID/name についてはほぼユニークな値が付いており、このままでは使えない\n",
    "- categoryについては159もあるため、ダミー変数の列数が膨大になりそう。いったんはmain_categoryだけで分類を試みる。\n",
    "- launched / deadlineについても日付をうまく処理し、簡易なカテゴリ変数に変換した方がよさそう\n",
    "\n"
   ]
  },
  {
   "cell_type": "code",
   "execution_count": 10,
   "metadata": {},
   "outputs": [
    {
     "name": "stdout",
     "output_type": "stream",
     "text": [
      "[ variable :  category ]\n",
      "\t Product Design :  22314\n",
      "\t Documentary :  16139\n",
      "\t Music :  15727\n",
      "\t Tabletop Games :  14180\n",
      "\t Shorts :  12357\n",
      "\t Video Games :  11830\n",
      "\t Food :  11493\n",
      "\t Film & Video :  10108\n",
      "\t Fiction :  9169\n",
      "\t Fashion :  8554\n",
      "\t Nonfiction :  8318\n",
      "\t Art :  8253\n",
      "\t Apparel :  7166\n",
      "\t Theater :  7057\n",
      "\t Technology :  6930\n",
      "\t Rock :  6758\n",
      "\t Children's Books :  6756\n",
      "\t Apps :  6345\n",
      "\t Publishing :  6018\n",
      "\t Webseries :  5762\n",
      "\t Photography :  5752\n",
      "\t Indie Rock :  5657\n",
      "\t Narrative Film :  5188\n",
      "\t Web :  5153\n",
      "\t Comics :  4996\n",
      "\t Crafts :  4664\n",
      "\t Country & Folk :  4451\n",
      "\t Design :  4199\n",
      "\t Hip-Hop :  3912\n",
      "\t Hardware :  3663\n",
      "\t Pop :  3350\n",
      "\t Painting :  3294\n",
      "\t Games :  3226\n",
      "\t Illustration :  3175\n",
      "\t Accessories :  3165\n",
      "\t Public Art :  3077\n",
      "\t Software :  3048\n",
      "\t Gadgets :  2965\n",
      "\t Restaurants :  2819\n",
      "\t Mixed Media :  2757\n",
      "\t Comic Books :  2743\n",
      "\t Art Books :  2676\n",
      "\t Classical Music :  2613\n",
      "\t Animation :  2541\n",
      "\t Playing Cards :  2497\n",
      "\t Drinks :  2422\n",
      "\t Dance :  2322\n",
      "\t Comedy :  2320\n",
      "\t Drama :  2179\n",
      "\t Electronic Music :  2170\n",
      "\t Performance Art :  2154\n",
      "\t World Music :  2102\n",
      "\t Graphic Design :  2002\n",
      "\t Graphic Novels :  1864\n",
      "\t Jazz :  1850\n",
      "\t Sculpture :  1810\n",
      "\t Small Batch :  1808\n",
      "\t Mobile Games :  1789\n",
      "\t Food Trucks :  1752\n",
      "\t Journalism :  1747\n",
      "\t Photobooks :  1580\n",
      "\t Plays :  1378\n",
      "\t Poetry :  1369\n",
      "\t Digital Art :  1346\n",
      "\t Horror :  1287\n",
      "\t Periodicals :  1265\n",
      "\t Jewelry :  1239\n",
      "\t Wearables :  1233\n",
      "\t DIY :  1173\n",
      "\t Woodworking :  1167\n",
      "\t Farms :  1154\n",
      "\t People :  1103\n",
      "\t Faith :  1092\n",
      "\t Live Games :  1050\n",
      "\t Conceptual Art :  1030\n",
      "\t Television :  1015\n",
      "\t Performances :  1013\n",
      "\t Footwear :  931\n",
      "\t Experimental :  924\n",
      "\t Radio & Podcasts :  923\n",
      "\t Academic :  916\n",
      "\t Musical :  913\n",
      "\t DIY Electronics :  902\n",
      "\t Ready-to-wear :  864\n",
      "\t Spaces :  841\n",
      "\t Festivals :  839\n",
      "\t Young Adult :  821\n",
      "\t Events :  818\n",
      "\t Anthologies :  784\n",
      "\t Fine Art :  776\n",
      "\t Architecture :  760\n",
      "\t Thrillers :  746\n",
      "\t Science Fiction :  744\n",
      "\t Action :  740\n",
      "\t Places :  739\n",
      "\t Print :  727\n",
      "\t Metal :  717\n",
      "\t Music Videos :  709\n",
      "\t 3D Printing :  683\n",
      "\t Sound :  669\n",
      "\t Webcomics :  648\n",
      "\t Vegan :  588\n",
      "\t Nature :  574\n",
      "\t Robots :  572\n",
      "\t Cookbooks :  540\n",
      "\t Childrenswear :  483\n",
      "\t Installations :  482\n",
      "\t R&B :  458\n",
      "\t Candles :  429\n",
      "\t Video :  428\n",
      "\t Gaming Hardware :  428\n",
      "\t Flight :  426\n",
      "\t Farmer's Markets :  424\n",
      "\t Camera Equipment :  416\n",
      "\t Audio :  410\n",
      "\t Interactive Design :  398\n",
      "\t Zines :  391\n",
      "\t Fantasy :  345\n",
      "\t Family :  336\n",
      "\t Immersive :  330\n",
      "\t Calendars :  329\n",
      "\t Space Exploration :  323\n",
      "\t Punk :  317\n",
      "\t Ceramics :  305\n",
      "\t Community Gardens :  298\n",
      "\t Civic Design :  289\n",
      "\t Kids :  285\n",
      "\t Literary Journals :  278\n",
      "\t Textiles :  276\n",
      "\t Couture :  275\n",
      "\t Blues :  268\n",
      "\t Animals :  255\n",
      "\t Fabrication Tools :  250\n",
      "\t Printing :  238\n",
      "\t Makerspaces :  238\n",
      "\t Movie Theaters :  232\n",
      "\t Puzzles :  231\n",
      "\t Bacon :  221\n",
      "\t Stationery :  219\n",
      "\t Photo :  196\n",
      "\t Video Art :  194\n",
      "\t Romance :  190\n",
      "\t Knitting :  181\n",
      "\t Workshops :  164\n",
      "\t Crochet :  162\n",
      "\t Translations :  153\n",
      "\t Pet Fashion :  139\n",
      "\t Glass :  138\n",
      "\t Latin :  137\n",
      "\t Embroidery :  113\n",
      "\t Typography :  108\n",
      "\t Pottery :  100\n",
      "\t Weaving :  93\n",
      "\t Quilts :  81\n",
      "\t Residencies :  69\n",
      "\t Letterpress :  49\n",
      "\t Chiptune :  35\n",
      "\t Literary Spaces :  27\n",
      "\t Taxidermy :  13\n",
      "[ variable :  main_category ]\n",
      "\t Film & Video :  63585\n",
      "\t Music :  51918\n",
      "\t Publishing :  39874\n",
      "\t Games :  35231\n",
      "\t Technology :  32569\n",
      "\t Design :  30070\n",
      "\t Art :  28153\n",
      "\t Food :  24602\n",
      "\t Fashion :  22816\n",
      "\t Theater :  10913\n",
      "\t Comics :  10819\n",
      "\t Photography :  10779\n",
      "\t Crafts :  8809\n",
      "\t Journalism :  4755\n",
      "\t Dance :  3768\n",
      "[ variable :  currency ]\n",
      "\t USD :  295365\n",
      "\t GBP :  34132\n",
      "\t EUR :  17405\n",
      "\t CAD :  14962\n",
      "\t AUD :  7950\n",
      "\t SEK :  1788\n",
      "\t MXN :  1752\n",
      "\t NZD :  1475\n",
      "\t DKK :  1129\n",
      "\t CHF :  768\n",
      "\t NOK :  722\n",
      "\t HKD :  618\n",
      "\t SGD :  555\n",
      "\t JPY :  40\n",
      "[ variable :  state ]\n",
      "\t failed :  197719\n",
      "\t successful :  133956\n",
      "\t canceled :  38779\n",
      "\t undefined :  3562\n",
      "\t live :  2799\n",
      "\t suspended :  1846\n",
      "[ variable :  country ]\n",
      "\t US :  292627\n",
      "\t GB :  33672\n",
      "\t CA :  14756\n",
      "\t AU :  7839\n",
      "\t DE :  4171\n",
      "\t N,0\" :  3797\n",
      "\t FR :  2939\n",
      "\t IT :  2878\n",
      "\t NL :  2868\n",
      "\t ES :  2276\n",
      "\t SE :  1757\n",
      "\t MX :  1752\n",
      "\t NZ :  1447\n",
      "\t DK :  1113\n",
      "\t IE :  811\n",
      "\t CH :  761\n",
      "\t NO :  708\n",
      "\t HK :  618\n",
      "\t BE :  617\n",
      "\t AT :  597\n",
      "\t SG :  555\n",
      "\t LU :  62\n",
      "\t JP :  40\n"
     ]
    }
   ],
   "source": [
    "category_list = ['category', 'main_category', 'currency', 'state', 'country']\n",
    "for cate in category_list:\n",
    "    print('[', 'variable : ', cate, ']')\n",
    "    for index, value in df[cate].value_counts().iteritems():\n",
    "        print('\\t', index, ': ', value)"
   ]
  },
  {
   "cell_type": "code",
   "execution_count": 11,
   "metadata": {},
   "outputs": [
    {
     "name": "stdout",
     "output_type": "stream",
     "text": [
      "failed :  197719\n",
      "successful :  133956\n"
     ]
    }
   ],
   "source": [
    "#stateについてsuccesful及びfailed以外のデータを除去する\n",
    "df_success = df[df['state'] == 'successful']\n",
    "df_failed = df[df['state'] == 'failed']\n",
    "\n",
    "df_input = pd.concat([df_success, df_failed])\n",
    "\n",
    "for index, value in df_input['state'].value_counts().iteritems():\n",
    "    print(index, ': ', value)"
   ]
  },
  {
   "cell_type": "markdown",
   "metadata": {},
   "source": [
    "上記結果を比較し、正しくsuccessfulとfailedのみが抽出されたデータであることが確認できた"
   ]
  },
  {
   "cell_type": "code",
   "execution_count": null,
   "metadata": {
    "collapsed": true
   },
   "outputs": [],
   "source": []
  },
  {
   "cell_type": "code",
   "execution_count": 12,
   "metadata": {},
   "outputs": [
    {
     "name": "stdout",
     "output_type": "stream",
     "text": [
      "[ variable :  category ]\n",
      "[ variable :  main_category ]\n",
      "[ variable :  currency ]\n",
      "[ variable :  country ]\n"
     ]
    },
    {
     "data": {
      "image/png": "[encoded data removed]",
      "text/plain": [
       "<matplotlib.figure.Figure at 0x14a1d320>"
      ]
     },
     "metadata": {},
     "output_type": "display_data"
    }
   ],
   "source": [
    "#各カテゴリごとにsuccess /failの分布をみてみる\n",
    "category_list = ['category', 'main_category', 'currency', 'country']\n",
    "fig, (ax1, ax2, ax3, ax4) = plt.subplots(4, 1, figsize=(30,20))\n",
    "\n",
    "ax_list = [ax1, ax2,  ax3, ax4]\n",
    "\n",
    "for cate, axa in zip(category_list, ax_list):\n",
    "    print('[', 'variable : ', cate, ']')\n",
    "    sns.countplot(x=cate, data=df_input, hue='state', ax=axa)"
   ]
  },
  {
   "cell_type": "markdown",
   "metadata": {},
   "source": [
    "- 一部のカテゴリで失敗しやすい/成功しやすいものがありそう\n",
    "- メインカテゴリについて、food, fashion, film&video, publishing, technology系は失敗率が高そう。\n",
    "- 逆に、Music, Theater,Danceは比較的成功率が高そう\n",
    "- 通貨に依存して失敗/成功が決まることはなさそう\n",
    "- 国によって失敗/成功がきまることはなさそう\n",
    "\n",
    "- 各項目ごとの失敗成功の相対比を出してみてもよいかもしれない。"
   ]
  },
  {
   "cell_type": "code",
   "execution_count": 13,
   "metadata": {},
   "outputs": [
    {
     "data": {
      "image/png": "[encoded data removed]",
      "text/plain": [
       "<matplotlib.figure.Figure at 0x1767c898>"
      ]
     },
     "metadata": {},
     "output_type": "display_data"
    },
    {
     "data": {
      "image/png": "[encoded data removed]",
      "text/plain": [
       "<matplotlib.figure.Figure at 0x237f2208>"
      ]
     },
     "metadata": {},
     "output_type": "display_data"
    },
    {
     "data": {
      "image/png": "[encoded data removed]",
      "text/plain": [
       "<matplotlib.figure.Figure at 0x2386c588>"
      ]
     },
     "metadata": {},
     "output_type": "display_data"
    }
   ],
   "source": [
    "#usd_goal_realについても成功失敗でヒストグラムを出してみる\n",
    "range_min = 0.05*1e6\n",
    "range_max = 0.05*1e7\n",
    "bin_num = 10\n",
    "\n",
    "plt.figure()\n",
    "plt.hist(df_success['usd_goal_real'], bins=bin_num, alpha=0.3, histtype='stepfilled', color='b', range=(range_min, range_max))\n",
    "plt.hist(df_failed['usd_goal_real'], bins=bin_num, alpha=0.3, histtype='stepfilled', color='r', range=(range_min, range_max))\n",
    "plt.show()\n",
    "\n",
    "plt.hist(df_success['usd_goal_real'], bins=bin_num, alpha=0.3, histtype='stepfilled', color='b', range=(range_min, range_max))\n",
    "plt.show()\n",
    "\n",
    "plt.hist(df_failed['usd_goal_real'], bins=bin_num, alpha=0.3, histtype='stepfilled', color='r', range=(range_min, range_max))\n",
    "plt.show()"
   ]
  },
  {
   "cell_type": "code",
   "execution_count": 14,
   "metadata": {},
   "outputs": [
    {
     "data": {
      "image/png": "[encoded data removed]",
      "text/plain": [
       "<matplotlib.figure.Figure at 0x2817a080>"
      ]
     },
     "metadata": {},
     "output_type": "display_data"
    },
    {
     "data": {
      "image/png": "[encoded data removed]",
      "text/plain": [
       "<matplotlib.figure.Figure at 0x238b0e80>"
      ]
     },
     "metadata": {},
     "output_type": "display_data"
    },
    {
     "data": {
      "image/png": "[encoded data removed]",
      "text/plain": [
       "<matplotlib.figure.Figure at 0x281ed278>"
      ]
     },
     "metadata": {},
     "output_type": "display_data"
    },
    {
     "data": {
      "image/png": "[encoded data removed]",
      "text/plain": [
       "<matplotlib.figure.Figure at 0x238ddb00>"
      ]
     },
     "metadata": {},
     "output_type": "display_data"
    },
    {
     "data": {
      "image/png": "[encoded data removed]",
      "text/plain": [
       "<matplotlib.figure.Figure at 0x238f4f28>"
      ]
     },
     "metadata": {},
     "output_type": "display_data"
    },
    {
     "data": {
      "image/png": "[encoded data removed]",
      "text/plain": [
       "<matplotlib.figure.Figure at 0x2362ea20>"
      ]
     },
     "metadata": {},
     "output_type": "display_data"
    }
   ],
   "source": [
    "#usd_goal_realについても成功失敗でヒストグラムを出してみる\n",
    "range_min = 0.0\n",
    "range_max = 1e3\n",
    "bin_num = 10\n",
    "\n",
    "for range_min, range_max in zip([0.0, 1e3], [1e3, 1e6]):\n",
    "\n",
    "    plt.figure()\n",
    "    plt.hist(df_success['usd_goal_real'], bins=bin_num, alpha=0.3, histtype='stepfilled', color='b', range=(range_min, range_max))\n",
    "    plt.hist(df_failed['usd_goal_real'], bins=bin_num, alpha=0.3, histtype='stepfilled', color='r', range=(range_min, range_max))\n",
    "    plt.show()\n",
    "\n",
    "    plt.hist(df_success['usd_goal_real'], bins=bin_num, alpha=0.3, histtype='stepfilled', color='b', range=(range_min, range_max))\n",
    "    plt.show()\n",
    "\n",
    "    plt.hist(df_failed['usd_goal_real'], bins=bin_num, alpha=0.3, histtype='stepfilled', color='r', range=(range_min, range_max))\n",
    "    plt.show()"
   ]
  },
  {
   "cell_type": "markdown",
   "metadata": {},
   "source": [
    "### usd_goal_realの考察\n",
    "- 額が大きくなるほど失敗の可能性が上がっている\n"
   ]
  },
  {
   "cell_type": "code",
   "execution_count": 15,
   "metadata": {},
   "outputs": [
    {
     "data": {
      "image/png": "[encoded data removed]",
      "text/plain": [
       "<matplotlib.figure.Figure at 0x166e0898>"
      ]
     },
     "metadata": {},
     "output_type": "display_data"
    }
   ],
   "source": [
    "#usd_goal_realと国について箱ひげ図を書いてみる\n",
    "plt.ylim(0.0, 1e5)\n",
    "sns.boxplot(x='country', y=\"usd_goal_real\", hue='state', data=df_input, palette=\"PRGn\")\n",
    "sns.despine(offset=10, trim=False)"
   ]
  },
  {
   "cell_type": "code",
   "execution_count": 16,
   "metadata": {},
   "outputs": [
    {
     "data": {
      "image/png": "[encoded data removed]",
      "text/plain": [
       "<matplotlib.figure.Figure at 0x166d56d8>"
      ]
     },
     "metadata": {},
     "output_type": "display_data"
    }
   ],
   "source": [
    "#usd_goal_realと国について箱ひげ図を書いてみる\n",
    "plt.ylim(0.0, 1e5)\n",
    "sns.boxplot(x='main_category', y=\"usd_goal_real\", hue='state', data=df_input, palette=\"PRGn\")\n",
    "sns.despine(offset=10, trim=False)"
   ]
  },
  {
   "cell_type": "markdown",
   "metadata": {},
   "source": [
    "### 箱ひげ図の考察\n",
    "- 国に関係なく、額が低い方が成功しやすく、高い方が失敗しやすいといえそう。\n",
    "- 特定のジャンルにおいては特に金額と成否に関係がないものもありそう"
   ]
  },
  {
   "cell_type": "code",
   "execution_count": 17,
   "metadata": {
    "collapsed": true
   },
   "outputs": [],
   "source": [
    "#日付についても"
   ]
  },
  {
   "cell_type": "markdown",
   "metadata": {},
   "source": [
    "次にカテゴリ変数のdummy変数化を行う。"
   ]
  },
  {
   "cell_type": "code",
   "execution_count": 18,
   "metadata": {
    "scrolled": true
   },
   "outputs": [
    {
     "data": {
      "text/html": [
       "<div>\n",
       "<style scoped>\n",
       "    .dataframe tbody tr th:only-of-type {\n",
       "        vertical-align: middle;\n",
       "    }\n",
       "\n",
       "    .dataframe tbody tr th {\n",
       "        vertical-align: top;\n",
       "    }\n",
       "\n",
       "    .dataframe thead th {\n",
       "        text-align: right;\n",
       "    }\n",
       "</style>\n",
       "<table border=\"1\" class=\"dataframe\">\n",
       "  <thead>\n",
       "    <tr style=\"text-align: right;\">\n",
       "      <th></th>\n",
       "      <th>ID</th>\n",
       "      <th>name</th>\n",
       "      <th>category</th>\n",
       "      <th>main_category</th>\n",
       "      <th>currency</th>\n",
       "      <th>deadline</th>\n",
       "      <th>goal</th>\n",
       "      <th>launched</th>\n",
       "      <th>state</th>\n",
       "      <th>country</th>\n",
       "      <th>...</th>\n",
       "      <th>JP</th>\n",
       "      <th>LU</th>\n",
       "      <th>MX</th>\n",
       "      <th>N,0\"</th>\n",
       "      <th>NL</th>\n",
       "      <th>NO</th>\n",
       "      <th>NZ</th>\n",
       "      <th>SE</th>\n",
       "      <th>SG</th>\n",
       "      <th>US</th>\n",
       "    </tr>\n",
       "  </thead>\n",
       "  <tbody>\n",
       "    <tr>\n",
       "      <th>378654</th>\n",
       "      <td>999975836</td>\n",
       "      <td>Homemade fresh dog food, Cleveland OH</td>\n",
       "      <td>Small Batch</td>\n",
       "      <td>Food</td>\n",
       "      <td>USD</td>\n",
       "      <td>2017-04-19</td>\n",
       "      <td>6500.0</td>\n",
       "      <td>2017-03-20 22:08:22</td>\n",
       "      <td>failed</td>\n",
       "      <td>US</td>\n",
       "      <td>...</td>\n",
       "      <td>0</td>\n",
       "      <td>0</td>\n",
       "      <td>0</td>\n",
       "      <td>0</td>\n",
       "      <td>0</td>\n",
       "      <td>0</td>\n",
       "      <td>0</td>\n",
       "      <td>0</td>\n",
       "      <td>0</td>\n",
       "      <td>1</td>\n",
       "    </tr>\n",
       "    <tr>\n",
       "      <th>378657</th>\n",
       "      <td>999977640</td>\n",
       "      <td>The Tribe</td>\n",
       "      <td>Narrative Film</td>\n",
       "      <td>Film &amp; Video</td>\n",
       "      <td>USD</td>\n",
       "      <td>2011-07-19</td>\n",
       "      <td>1500.0</td>\n",
       "      <td>2011-06-22 03:35:14</td>\n",
       "      <td>failed</td>\n",
       "      <td>US</td>\n",
       "      <td>...</td>\n",
       "      <td>0</td>\n",
       "      <td>0</td>\n",
       "      <td>0</td>\n",
       "      <td>0</td>\n",
       "      <td>0</td>\n",
       "      <td>0</td>\n",
       "      <td>0</td>\n",
       "      <td>0</td>\n",
       "      <td>0</td>\n",
       "      <td>1</td>\n",
       "    </tr>\n",
       "    <tr>\n",
       "      <th>378658</th>\n",
       "      <td>999986353</td>\n",
       "      <td>Walls of Remedy- New lesbian Romantic Comedy f...</td>\n",
       "      <td>Narrative Film</td>\n",
       "      <td>Film &amp; Video</td>\n",
       "      <td>USD</td>\n",
       "      <td>2010-08-16</td>\n",
       "      <td>15000.0</td>\n",
       "      <td>2010-07-01 19:40:30</td>\n",
       "      <td>failed</td>\n",
       "      <td>US</td>\n",
       "      <td>...</td>\n",
       "      <td>0</td>\n",
       "      <td>0</td>\n",
       "      <td>0</td>\n",
       "      <td>0</td>\n",
       "      <td>0</td>\n",
       "      <td>0</td>\n",
       "      <td>0</td>\n",
       "      <td>0</td>\n",
       "      <td>0</td>\n",
       "      <td>1</td>\n",
       "    </tr>\n",
       "    <tr>\n",
       "      <th>378659</th>\n",
       "      <td>999987933</td>\n",
       "      <td>BioDefense Education Kit</td>\n",
       "      <td>Technology</td>\n",
       "      <td>Technology</td>\n",
       "      <td>USD</td>\n",
       "      <td>2016-02-13</td>\n",
       "      <td>15000.0</td>\n",
       "      <td>2016-01-13 18:13:53</td>\n",
       "      <td>failed</td>\n",
       "      <td>US</td>\n",
       "      <td>...</td>\n",
       "      <td>0</td>\n",
       "      <td>0</td>\n",
       "      <td>0</td>\n",
       "      <td>0</td>\n",
       "      <td>0</td>\n",
       "      <td>0</td>\n",
       "      <td>0</td>\n",
       "      <td>0</td>\n",
       "      <td>0</td>\n",
       "      <td>1</td>\n",
       "    </tr>\n",
       "    <tr>\n",
       "      <th>378660</th>\n",
       "      <td>999988282</td>\n",
       "      <td>Nou Renmen Ayiti!  We Love Haiti!</td>\n",
       "      <td>Performance Art</td>\n",
       "      <td>Art</td>\n",
       "      <td>USD</td>\n",
       "      <td>2011-08-16</td>\n",
       "      <td>2000.0</td>\n",
       "      <td>2011-07-19 09:07:47</td>\n",
       "      <td>failed</td>\n",
       "      <td>US</td>\n",
       "      <td>...</td>\n",
       "      <td>0</td>\n",
       "      <td>0</td>\n",
       "      <td>0</td>\n",
       "      <td>0</td>\n",
       "      <td>0</td>\n",
       "      <td>0</td>\n",
       "      <td>0</td>\n",
       "      <td>0</td>\n",
       "      <td>0</td>\n",
       "      <td>1</td>\n",
       "    </tr>\n",
       "  </tbody>\n",
       "</table>\n",
       "<p>5 rows × 63 columns</p>\n",
       "</div>"
      ],
      "text/plain": [
       "               ID                                               name  \\\n",
       "378654  999975836              Homemade fresh dog food, Cleveland OH   \n",
       "378657  999977640                                          The Tribe   \n",
       "378658  999986353  Walls of Remedy- New lesbian Romantic Comedy f...   \n",
       "378659  999987933                           BioDefense Education Kit   \n",
       "378660  999988282                  Nou Renmen Ayiti!  We Love Haiti!   \n",
       "\n",
       "               category main_category currency    deadline     goal  \\\n",
       "378654      Small Batch          Food      USD  2017-04-19   6500.0   \n",
       "378657   Narrative Film  Film & Video      USD  2011-07-19   1500.0   \n",
       "378658   Narrative Film  Film & Video      USD  2010-08-16  15000.0   \n",
       "378659       Technology    Technology      USD  2016-02-13  15000.0   \n",
       "378660  Performance Art           Art      USD  2011-08-16   2000.0   \n",
       "\n",
       "                   launched   state country ...  JP  LU  MX  N,0\"  NL  NO  NZ  \\\n",
       "378654  2017-03-20 22:08:22  failed      US ...   0   0   0     0   0   0   0   \n",
       "378657  2011-06-22 03:35:14  failed      US ...   0   0   0     0   0   0   0   \n",
       "378658  2010-07-01 19:40:30  failed      US ...   0   0   0     0   0   0   0   \n",
       "378659  2016-01-13 18:13:53  failed      US ...   0   0   0     0   0   0   0   \n",
       "378660  2011-07-19 09:07:47  failed      US ...   0   0   0     0   0   0   0   \n",
       "\n",
       "        SE  SG  US  \n",
       "378654   0   0   1  \n",
       "378657   0   0   1  \n",
       "378658   0   0   1  \n",
       "378659   0   0   1  \n",
       "378660   0   0   1  \n",
       "\n",
       "[5 rows x 63 columns]"
      ]
     },
     "execution_count": 18,
     "metadata": {},
     "output_type": "execute_result"
    }
   ],
   "source": [
    "df_input = pd.concat([df_input, pd.get_dummies(df_input['main_category'])], axis=1)\n",
    "df_input = pd.concat([df_input, pd.get_dummies(df_input['currency'])], axis=1)\n",
    "df_input = pd.concat([df_input, pd.get_dummies(df_input['country'])], axis=1)\n",
    "df_input.tail()"
   ]
  },
  {
   "cell_type": "markdown",
   "metadata": {},
   "source": [
    "特徴量が63次元になった。\n",
    "若干多すぎると思われるが、現状はこのまま進めてみる。"
   ]
  },
  {
   "cell_type": "markdown",
   "metadata": {},
   "source": [
    "### 疑問点\n",
    "- 63次元になると散布図行列の計算がまともにできない　→　何かうまい方法がないか？\n",
    "- カテゴリ変数同士の関係はどうみればよいか？"
   ]
  },
  {
   "cell_type": "markdown",
   "metadata": {
    "collapsed": true
   },
   "source": [
    "#### 判定アルゴリズムの実装\n",
    "ロジスティック回帰モデルを用いて判定を行う。"
   ]
  },
  {
   "cell_type": "code",
   "execution_count": 28,
   "metadata": {},
   "outputs": [
    {
     "data": {
      "text/plain": [
       "SGDClassifier(alpha=0.0001, average=False, class_weight=None, epsilon=0.1,\n",
       "       eta0=0.0, fit_intercept=True, l1_ratio=0.15,\n",
       "       learning_rate='optimal', loss='log', max_iter=10000, n_iter=None,\n",
       "       n_jobs=1, penalty='none', power_t=0.5, random_state=1234,\n",
       "       shuffle=True, tol=None, verbose=0, warm_start=False)"
      ]
     },
     "execution_count": 28,
     "metadata": {},
     "output_type": "execute_result"
    }
   ],
   "source": [
    "y = df_input[\"state\"] == 'successful'\n",
    "X = df_input.drop(['state','ID', 'name','category','deadline','launched', 'main_category', 'currency', 'country'], axis=1).values\n",
    "clf = SGDClassifier(loss='log', penalty='none', max_iter=10000, fit_intercept=True, random_state=1234)\n",
    "clf.fit(X, y)\n",
    "\n",
    "#1 iterationあたり100msecくらい？\n",
    "#いろいろためすのでいったん1000くらいにしておく？\n"
   ]
  },
  {
   "cell_type": "code",
   "execution_count": 24,
   "metadata": {
    "collapsed": true
   },
   "outputs": [],
   "source": [
    "y_est = clf.predict(X)"
   ]
  },
  {
   "cell_type": "code",
   "execution_count": 33,
   "metadata": {},
   "outputs": [
    {
     "name": "stdout",
     "output_type": "stream",
     "text": [
      "対数尤度 = -15.977\n",
      "正答率 = 53.744%\n"
     ]
    }
   ],
   "source": [
    "# 対数尤度を表示\n",
    "print('対数尤度 = {:.3f}'.format(- log_loss(y, y_est)))\n",
    "\n",
    "# 正答率を表示\n",
    "print('正答率 = {:.3f}%'.format(100 * accuracy_score(y, y_est)))"
   ]
  },
  {
   "cell_type": "code",
   "execution_count": 34,
   "metadata": {},
   "outputs": [
    {
     "data": {
      "text/html": [
       "<div>\n",
       "<style scoped>\n",
       "    .dataframe tbody tr th:only-of-type {\n",
       "        vertical-align: middle;\n",
       "    }\n",
       "\n",
       "    .dataframe tbody tr th {\n",
       "        vertical-align: top;\n",
       "    }\n",
       "\n",
       "    .dataframe thead th {\n",
       "        text-align: right;\n",
       "    }\n",
       "</style>\n",
       "<table border=\"1\" class=\"dataframe\">\n",
       "  <thead>\n",
       "    <tr style=\"text-align: right;\">\n",
       "      <th></th>\n",
       "      <th>予測 = successful</th>\n",
       "      <th>予測 = failed</th>\n",
       "    </tr>\n",
       "  </thead>\n",
       "  <tbody>\n",
       "    <tr>\n",
       "      <th>正解 = successful</th>\n",
       "      <td>64801</td>\n",
       "      <td>132918</td>\n",
       "    </tr>\n",
       "    <tr>\n",
       "      <th>正解 = failed</th>\n",
       "      <td>20502</td>\n",
       "      <td>113454</td>\n",
       "    </tr>\n",
       "  </tbody>\n",
       "</table>\n",
       "</div>"
      ],
      "text/plain": [
       "                 予測 = successful  予測 = failed\n",
       "正解 = successful            64801       132918\n",
       "正解 = failed                20502       113454"
      ]
     },
     "execution_count": 34,
     "metadata": {},
     "output_type": "execute_result"
    }
   ],
   "source": [
    "# 予測値と正解のクロス集計\n",
    "conf_mat = pd.DataFrame(confusion_matrix(y, y_est), \n",
    "                        index=['正解 = successful', '正解 = failed'], \n",
    "                        columns=['予測 = successful', '予測 = failed'])\n",
    "conf_mat"
   ]
  },
  {
   "cell_type": "markdown",
   "metadata": {},
   "source": [
    "単純にiterationが足りていないか、データの作り方がまずかったのか検証が必要"
   ]
  },
  {
   "cell_type": "code",
   "execution_count": null,
   "metadata": {
    "collapsed": true
   },
   "outputs": [],
   "source": []
  }
 ],
 "metadata": {
  "kernelspec": {
   "display_name": "Python 3",
   "language": "python",
   "name": "python3"
  },
  "language_info": {
   "codemirror_mode": {
    "name": "ipython",
    "version": 3
   },
   "file_extension": ".py",
   "mimetype": "text/x-python",
   "name": "python",
   "nbconvert_exporter": "python",
   "pygments_lexer": "ipython3",
   "version": "3.6.3"
  }
 },
 "nbformat": 4,
 "nbformat_minor": 2
}
