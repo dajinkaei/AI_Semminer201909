{
 "cells": [
  {
   "cell_type": "markdown",
   "metadata": {},
   "source": [
    "# 通し課題 Day2\n",
    "## 目的\n",
    " 課題①　KickStarter Project　\n",
    " https://www.kaggle.com/kemical/kickstarter-projects\n",
    " \n",
    " について分類アルゴリズムを実装評価する。\n",
    " \n",
    "　DAY１で発生していた状況は以下の通り\n",
    "- logistic回帰の精度が悪い 50%程度しかない\n",
    "\n",
    " \n",
    " DAY2で学んだ以下の項目についてkickstarterでも実施する\n",
    "- 各データについて標準化を行う\n",
    "- 訓練誤差/汎化誤差をLogistic回帰でもう一度解いてみて確認する\n",
    "- SVMのお試し\n",
    "\n",
    "\n",
    " "
   ]
  },
  {
   "cell_type": "markdown",
   "metadata": {},
   "source": [
    "## 前準備\n",
    "DAY1と同様にデータの読込＋加工を行う"
   ]
  },
  {
   "cell_type": "code",
   "execution_count": 1,
   "metadata": {},
   "outputs": [],
   "source": [
    "#各種必要ライブラリのロード\n",
    "%matplotlib inline\n",
    "import pandas as pd\n",
    "import numpy as np\n",
    "import matplotlib.pyplot as plt\n",
    "import seaborn as sns\n",
    "from sklearn.linear_model import SGDClassifier\n",
    "from sklearn.metrics import log_loss, accuracy_score, confusion_matrix\n",
    "from sklearn.svm import SVC\n",
    "from sklearn.preprocessing import StandardScaler\n",
    "from sklearn.model_selection import train_test_split, GridSearchCV\n",
    "from common_func import plot_decision_regions"
   ]
  },
  {
   "cell_type": "code",
   "execution_count": 2,
   "metadata": {},
   "outputs": [],
   "source": [
    "#データの読込\n",
    "df = pd.read_csv(\"./ks-projects-201801.csv\")"
   ]
  },
  {
   "cell_type": "code",
   "execution_count": 3,
   "metadata": {},
   "outputs": [],
   "source": [
    "#開始時にはわからないデータを除去する\n",
    "df = df.drop('pledged', axis=1)\n",
    "df = df.drop('backers', axis=1)\n",
    "df = df.drop('usd pledged', axis=1)\n",
    "df = df.drop('usd_pledged_real', axis=1)"
   ]
  },
  {
   "cell_type": "code",
   "execution_count": 4,
   "metadata": {},
   "outputs": [
    {
     "name": "stdout",
     "output_type": "stream",
     "text": [
      "failed :  197719\n",
      "successful :  133956\n"
     ]
    }
   ],
   "source": [
    "#stateについてsuccesful及びfailed以外のデータを除去する\n",
    "df_success = df[df['state'] == 'successful']\n",
    "df_failed = df[df['state'] == 'failed']\n",
    "\n",
    "df_input = pd.concat([df_success, df_failed])\n",
    "\n",
    "for index, value in df_input['state'].value_counts().iteritems():\n",
    "    print(index, ': ', value)"
   ]
  },
  {
   "cell_type": "markdown",
   "metadata": {},
   "source": [
    "次にカテゴリ変数のdummy変数化を行う。"
   ]
  },
  {
   "cell_type": "code",
   "execution_count": 5,
   "metadata": {
    "scrolled": true
   },
   "outputs": [
    {
     "data": {
      "text/html": [
       "<div>\n",
       "<style scoped>\n",
       "    .dataframe tbody tr th:only-of-type {\n",
       "        vertical-align: middle;\n",
       "    }\n",
       "\n",
       "    .dataframe tbody tr th {\n",
       "        vertical-align: top;\n",
       "    }\n",
       "\n",
       "    .dataframe thead th {\n",
       "        text-align: right;\n",
       "    }\n",
       "</style>\n",
       "<table border=\"1\" class=\"dataframe\">\n",
       "  <thead>\n",
       "    <tr style=\"text-align: right;\">\n",
       "      <th></th>\n",
       "      <th>ID</th>\n",
       "      <th>name</th>\n",
       "      <th>category</th>\n",
       "      <th>main_category</th>\n",
       "      <th>currency</th>\n",
       "      <th>deadline</th>\n",
       "      <th>goal</th>\n",
       "      <th>launched</th>\n",
       "      <th>state</th>\n",
       "      <th>country</th>\n",
       "      <th>...</th>\n",
       "      <th>JP</th>\n",
       "      <th>LU</th>\n",
       "      <th>MX</th>\n",
       "      <th>N,0\"</th>\n",
       "      <th>NL</th>\n",
       "      <th>NO</th>\n",
       "      <th>NZ</th>\n",
       "      <th>SE</th>\n",
       "      <th>SG</th>\n",
       "      <th>US</th>\n",
       "    </tr>\n",
       "  </thead>\n",
       "  <tbody>\n",
       "    <tr>\n",
       "      <th>378654</th>\n",
       "      <td>999975836</td>\n",
       "      <td>Homemade fresh dog food, Cleveland OH</td>\n",
       "      <td>Small Batch</td>\n",
       "      <td>Food</td>\n",
       "      <td>USD</td>\n",
       "      <td>2017-04-19</td>\n",
       "      <td>6500.0</td>\n",
       "      <td>2017-03-20 22:08:22</td>\n",
       "      <td>failed</td>\n",
       "      <td>US</td>\n",
       "      <td>...</td>\n",
       "      <td>0</td>\n",
       "      <td>0</td>\n",
       "      <td>0</td>\n",
       "      <td>0</td>\n",
       "      <td>0</td>\n",
       "      <td>0</td>\n",
       "      <td>0</td>\n",
       "      <td>0</td>\n",
       "      <td>0</td>\n",
       "      <td>1</td>\n",
       "    </tr>\n",
       "    <tr>\n",
       "      <th>378657</th>\n",
       "      <td>999977640</td>\n",
       "      <td>The Tribe</td>\n",
       "      <td>Narrative Film</td>\n",
       "      <td>Film &amp; Video</td>\n",
       "      <td>USD</td>\n",
       "      <td>2011-07-19</td>\n",
       "      <td>1500.0</td>\n",
       "      <td>2011-06-22 03:35:14</td>\n",
       "      <td>failed</td>\n",
       "      <td>US</td>\n",
       "      <td>...</td>\n",
       "      <td>0</td>\n",
       "      <td>0</td>\n",
       "      <td>0</td>\n",
       "      <td>0</td>\n",
       "      <td>0</td>\n",
       "      <td>0</td>\n",
       "      <td>0</td>\n",
       "      <td>0</td>\n",
       "      <td>0</td>\n",
       "      <td>1</td>\n",
       "    </tr>\n",
       "    <tr>\n",
       "      <th>378658</th>\n",
       "      <td>999986353</td>\n",
       "      <td>Walls of Remedy- New lesbian Romantic Comedy f...</td>\n",
       "      <td>Narrative Film</td>\n",
       "      <td>Film &amp; Video</td>\n",
       "      <td>USD</td>\n",
       "      <td>2010-08-16</td>\n",
       "      <td>15000.0</td>\n",
       "      <td>2010-07-01 19:40:30</td>\n",
       "      <td>failed</td>\n",
       "      <td>US</td>\n",
       "      <td>...</td>\n",
       "      <td>0</td>\n",
       "      <td>0</td>\n",
       "      <td>0</td>\n",
       "      <td>0</td>\n",
       "      <td>0</td>\n",
       "      <td>0</td>\n",
       "      <td>0</td>\n",
       "      <td>0</td>\n",
       "      <td>0</td>\n",
       "      <td>1</td>\n",
       "    </tr>\n",
       "    <tr>\n",
       "      <th>378659</th>\n",
       "      <td>999987933</td>\n",
       "      <td>BioDefense Education Kit</td>\n",
       "      <td>Technology</td>\n",
       "      <td>Technology</td>\n",
       "      <td>USD</td>\n",
       "      <td>2016-02-13</td>\n",
       "      <td>15000.0</td>\n",
       "      <td>2016-01-13 18:13:53</td>\n",
       "      <td>failed</td>\n",
       "      <td>US</td>\n",
       "      <td>...</td>\n",
       "      <td>0</td>\n",
       "      <td>0</td>\n",
       "      <td>0</td>\n",
       "      <td>0</td>\n",
       "      <td>0</td>\n",
       "      <td>0</td>\n",
       "      <td>0</td>\n",
       "      <td>0</td>\n",
       "      <td>0</td>\n",
       "      <td>1</td>\n",
       "    </tr>\n",
       "    <tr>\n",
       "      <th>378660</th>\n",
       "      <td>999988282</td>\n",
       "      <td>Nou Renmen Ayiti!  We Love Haiti!</td>\n",
       "      <td>Performance Art</td>\n",
       "      <td>Art</td>\n",
       "      <td>USD</td>\n",
       "      <td>2011-08-16</td>\n",
       "      <td>2000.0</td>\n",
       "      <td>2011-07-19 09:07:47</td>\n",
       "      <td>failed</td>\n",
       "      <td>US</td>\n",
       "      <td>...</td>\n",
       "      <td>0</td>\n",
       "      <td>0</td>\n",
       "      <td>0</td>\n",
       "      <td>0</td>\n",
       "      <td>0</td>\n",
       "      <td>0</td>\n",
       "      <td>0</td>\n",
       "      <td>0</td>\n",
       "      <td>0</td>\n",
       "      <td>1</td>\n",
       "    </tr>\n",
       "  </tbody>\n",
       "</table>\n",
       "<p>5 rows × 63 columns</p>\n",
       "</div>"
      ],
      "text/plain": [
       "               ID                                               name  \\\n",
       "378654  999975836              Homemade fresh dog food, Cleveland OH   \n",
       "378657  999977640                                          The Tribe   \n",
       "378658  999986353  Walls of Remedy- New lesbian Romantic Comedy f...   \n",
       "378659  999987933                           BioDefense Education Kit   \n",
       "378660  999988282                  Nou Renmen Ayiti!  We Love Haiti!   \n",
       "\n",
       "               category main_category currency    deadline     goal  \\\n",
       "378654      Small Batch          Food      USD  2017-04-19   6500.0   \n",
       "378657   Narrative Film  Film & Video      USD  2011-07-19   1500.0   \n",
       "378658   Narrative Film  Film & Video      USD  2010-08-16  15000.0   \n",
       "378659       Technology    Technology      USD  2016-02-13  15000.0   \n",
       "378660  Performance Art           Art      USD  2011-08-16   2000.0   \n",
       "\n",
       "                   launched   state country ...  JP  LU  MX  N,0\"  NL  NO  NZ  \\\n",
       "378654  2017-03-20 22:08:22  failed      US ...   0   0   0     0   0   0   0   \n",
       "378657  2011-06-22 03:35:14  failed      US ...   0   0   0     0   0   0   0   \n",
       "378658  2010-07-01 19:40:30  failed      US ...   0   0   0     0   0   0   0   \n",
       "378659  2016-01-13 18:13:53  failed      US ...   0   0   0     0   0   0   0   \n",
       "378660  2011-07-19 09:07:47  failed      US ...   0   0   0     0   0   0   0   \n",
       "\n",
       "        SE  SG  US  \n",
       "378654   0   0   1  \n",
       "378657   0   0   1  \n",
       "378658   0   0   1  \n",
       "378659   0   0   1  \n",
       "378660   0   0   1  \n",
       "\n",
       "[5 rows x 63 columns]"
      ]
     },
     "execution_count": 5,
     "metadata": {},
     "output_type": "execute_result"
    }
   ],
   "source": [
    "df_input = pd.concat([df_input, pd.get_dummies(df_input['main_category'])], axis=1)\n",
    "df_input = pd.concat([df_input, pd.get_dummies(df_input['currency'])], axis=1)\n",
    "df_input = pd.concat([df_input, pd.get_dummies(df_input['country'])], axis=1)\n",
    "df_input.tail()"
   ]
  },
  {
   "cell_type": "markdown",
   "metadata": {},
   "source": [
    " ### DAY1で発生していた状況の原因確認\n",
    " - 仮説：パラメータの標準化ができていないため、極端なrangeを持つデータに引っ張られた？"
   ]
  },
  {
   "cell_type": "code",
   "execution_count": 6,
   "metadata": {},
   "outputs": [
    {
     "data": {
      "text/plain": [
       "SGDClassifier(alpha=0.0001, average=False, class_weight=None, epsilon=0.1,\n",
       "       eta0=0.0, fit_intercept=True, l1_ratio=0.15,\n",
       "       learning_rate='optimal', loss='log', max_iter=1000, n_iter=None,\n",
       "       n_jobs=1, penalty='none', power_t=0.5, random_state=1234,\n",
       "       shuffle=True, tol=None, verbose=0, warm_start=False)"
      ]
     },
     "execution_count": 6,
     "metadata": {},
     "output_type": "execute_result"
    }
   ],
   "source": [
    "y = df_input[\"state\"] == 'successful'\n",
    "inp = df_input.drop(['state','ID', 'name','category','deadline','launched', 'main_category', 'currency', 'country'], axis=1)\n",
    "X = inp.values\n",
    "clf = SGDClassifier(loss='log', penalty='none', max_iter=1000, fit_intercept=True, random_state=1234)\n",
    "clf.fit(X, y)"
   ]
  },
  {
   "cell_type": "code",
   "execution_count": 7,
   "metadata": {},
   "outputs": [],
   "source": [
    "y_est = clf.predict(X)"
   ]
  },
  {
   "cell_type": "code",
   "execution_count": 8,
   "metadata": {},
   "outputs": [
    {
     "name": "stdout",
     "output_type": "stream",
     "text": [
      "対数尤度 = -17.018\n",
      "正答率 = 50.729%\n"
     ]
    }
   ],
   "source": [
    "# 対数尤度を表示\n",
    "print('対数尤度 = {:.3f}'.format(- log_loss(y, y_est)))\n",
    "\n",
    "# 正答率を表示\n",
    "print('正答率 = {:.3f}%'.format(100 * accuracy_score(y, y_est)))"
   ]
  },
  {
   "cell_type": "code",
   "execution_count": 9,
   "metadata": {},
   "outputs": [
    {
     "data": {
      "text/html": [
       "<div>\n",
       "<style scoped>\n",
       "    .dataframe tbody tr th:only-of-type {\n",
       "        vertical-align: middle;\n",
       "    }\n",
       "\n",
       "    .dataframe tbody tr th {\n",
       "        vertical-align: top;\n",
       "    }\n",
       "\n",
       "    .dataframe thead th {\n",
       "        text-align: right;\n",
       "    }\n",
       "</style>\n",
       "<table border=\"1\" class=\"dataframe\">\n",
       "  <thead>\n",
       "    <tr style=\"text-align: right;\">\n",
       "      <th></th>\n",
       "      <th>予測 = successful</th>\n",
       "      <th>予測 = failed</th>\n",
       "    </tr>\n",
       "  </thead>\n",
       "  <tbody>\n",
       "    <tr>\n",
       "      <th>正解 = successful</th>\n",
       "      <td>46368</td>\n",
       "      <td>151351</td>\n",
       "    </tr>\n",
       "    <tr>\n",
       "      <th>正解 = failed</th>\n",
       "      <td>12070</td>\n",
       "      <td>121886</td>\n",
       "    </tr>\n",
       "  </tbody>\n",
       "</table>\n",
       "</div>"
      ],
      "text/plain": [
       "                 予測 = successful  予測 = failed\n",
       "正解 = successful            46368       151351\n",
       "正解 = failed                12070       121886"
      ]
     },
     "execution_count": 9,
     "metadata": {},
     "output_type": "execute_result"
    }
   ],
   "source": [
    "# 予測値と正解のクロス集計\n",
    "conf_mat = pd.DataFrame(confusion_matrix(y, y_est), \n",
    "                        index=['正解 = successful', '正解 = failed'], \n",
    "                        columns=['予測 = successful', '予測 = failed'])\n",
    "conf_mat"
   ]
  },
  {
   "cell_type": "code",
   "execution_count": 10,
   "metadata": {},
   "outputs": [
    {
     "data": {
      "text/plain": [
       "array([[1.10517369e-01, 3.26444512e+00, 2.68701018e+03, 1.59767171e+03,\n",
       "        2.53490111e+02, 6.50068979e+02, 2.66192850e+03, 1.01341110e+03,\n",
       "        5.78666124e+03, 1.19999538e+03, 3.23476447e+03, 1.35316354e+02,\n",
       "        6.44939986e+03, 6.79251379e+02, 2.51417870e+03, 1.16076244e+03,\n",
       "        1.83680369e+03, 4.52701146e+02, 9.61884874e+02, 3.60328508e+01,\n",
       "        9.26653824e+01, 6.01488218e+02, 2.25893942e+03, 3.83056715e+01,\n",
       "        1.85835869e+00, 7.00553484e+01, 3.77455741e+01, 9.76160728e+01,\n",
       "        9.78593744e+01, 3.59432069e+01, 2.70776186e+04, 1.36562166e+01,\n",
       "        4.52566376e+02, 2.13702186e+01, 9.60543866e+02, 3.60328508e+01,\n",
       "        1.41861553e+02, 9.09164549e+01, 6.18078908e+01, 1.97073750e+02,\n",
       "        2.25431701e+03, 3.83056715e+01, 3.47658094e+01, 4.46054791e+01,\n",
       "        1.85835869e+00, 5.24006322e+00, 7.00553484e+01, 3.23752467e+01,\n",
       "        8.11011882e+01, 3.75821101e+01, 9.76160728e+01, 9.79187102e+01,\n",
       "        3.59432069e+01, 2.70532006e+04]])"
      ]
     },
     "execution_count": 10,
     "metadata": {},
     "output_type": "execute_result"
    }
   ],
   "source": [
    "# 係数を棒グラフで表示\n",
    "abs_coef = abs(clf.coef_)\n",
    "#plt.barh(np.arange(0, len(clf.coef_)), abs_coef, tick_label=inp.columns.values)\n",
    "#plt.show()\n",
    "abs_coef"
   ]
  },
  {
   "cell_type": "code",
   "execution_count": 11,
   "metadata": {},
   "outputs": [
    {
     "data": {
      "image/png": "[encoded data removed]",
      "text/plain": [
       "<matplotlib.figure.Figure at 0x1a1bd3fda0>"
      ]
     },
     "metadata": {},
     "output_type": "display_data"
    }
   ],
   "source": [
    "plt.barh(np.arange(0, len(clf.coef_[0])), abs_coef[0], tick_label=inp.columns.values)\n",
    "plt.tight_layout()\n",
    "plt.show()"
   ]
  },
  {
   "cell_type": "markdown",
   "metadata": {
    "collapsed": true
   },
   "source": [
    "- 極端な重みが付いている変数がある\n",
    "- 変数を標準化する必要がある"
   ]
  },
  {
   "cell_type": "markdown",
   "metadata": {
    "collapsed": true
   },
   "source": [
    "### 学習用データと評価用データに分割する\n",
    "- 以後正しく汎化性能を測るため、データを訓練用と評価用に分割する。\n",
    "- データ数が多いため一旦はホールドアウト法で実装してみる\n"
   ]
  },
  {
   "cell_type": "code",
   "execution_count": 13,
   "metadata": {},
   "outputs": [],
   "source": [
    "test_size = 0.2        # 全データのうち、何%をテストデータにするか（今回は20%に設定）\n",
    "X_train, X_test, y_train, y_test = train_test_split(X, y, test_size=test_size, random_state=1234) # ホールドアウト法を実行（テストデータはランダム選択）"
   ]
  },
  {
   "cell_type": "code",
   "execution_count": 14,
   "metadata": {},
   "outputs": [
    {
     "name": "stdout",
     "output_type": "stream",
     "text": [
      "(265340, 54)\n",
      "(265340,)\n",
      "(66335, 54)\n",
      "(66335,)\n"
     ]
    }
   ],
   "source": [
    "print(X_train.shape)\n",
    "print(y_train.shape)\n",
    "print(X_test.shape)\n",
    "print(y_test.shape)"
   ]
  },
  {
   "cell_type": "code",
   "execution_count": 15,
   "metadata": {},
   "outputs": [
    {
     "data": {
      "text/plain": [
       "SGDClassifier(alpha=0.0001, average=False, class_weight=None, epsilon=0.1,\n",
       "       eta0=0.0, fit_intercept=True, l1_ratio=0.15,\n",
       "       learning_rate='optimal', loss='log', max_iter=1000, n_iter=None,\n",
       "       n_jobs=1, penalty='none', power_t=0.5, random_state=1234,\n",
       "       shuffle=True, tol=None, verbose=0, warm_start=False)"
      ]
     },
     "execution_count": 15,
     "metadata": {},
     "output_type": "execute_result"
    }
   ],
   "source": [
    "clf = SGDClassifier(loss='log', penalty='none', max_iter=1000, fit_intercept=True, random_state=1234)\n",
    "clf.fit(X_train, y_train)\n"
   ]
  },
  {
   "cell_type": "code",
   "execution_count": 16,
   "metadata": {},
   "outputs": [
    {
     "name": "stdout",
     "output_type": "stream",
     "text": [
      "対数尤度 = -15.175\n",
      "正答率 = 56.065%\n"
     ]
    }
   ],
   "source": [
    "y_est = clf.predict(X_test)\n",
    "\n",
    "# 対数尤度を表示\n",
    "print('対数尤度 = {:.3f}'.format(- log_loss(y_test, y_est)))\n",
    "\n",
    "# 正答率を表示\n",
    "print('正答率 = {:.3f}%'.format(100 * accuracy_score(y_test, y_est)))"
   ]
  },
  {
   "cell_type": "code",
   "execution_count": 17,
   "metadata": {},
   "outputs": [
    {
     "data": {
      "text/html": [
       "<div>\n",
       "<style scoped>\n",
       "    .dataframe tbody tr th:only-of-type {\n",
       "        vertical-align: middle;\n",
       "    }\n",
       "\n",
       "    .dataframe tbody tr th {\n",
       "        vertical-align: top;\n",
       "    }\n",
       "\n",
       "    .dataframe thead th {\n",
       "        text-align: right;\n",
       "    }\n",
       "</style>\n",
       "<table border=\"1\" class=\"dataframe\">\n",
       "  <thead>\n",
       "    <tr style=\"text-align: right;\">\n",
       "      <th></th>\n",
       "      <th>予測 = successful</th>\n",
       "      <th>予測 = failed</th>\n",
       "    </tr>\n",
       "  </thead>\n",
       "  <tbody>\n",
       "    <tr>\n",
       "      <th>正解 = successful</th>\n",
       "      <td>16966</td>\n",
       "      <td>22771</td>\n",
       "    </tr>\n",
       "    <tr>\n",
       "      <th>正解 = failed</th>\n",
       "      <td>6373</td>\n",
       "      <td>20225</td>\n",
       "    </tr>\n",
       "  </tbody>\n",
       "</table>\n",
       "</div>"
      ],
      "text/plain": [
       "                 予測 = successful  予測 = failed\n",
       "正解 = successful            16966        22771\n",
       "正解 = failed                 6373        20225"
      ]
     },
     "execution_count": 17,
     "metadata": {},
     "output_type": "execute_result"
    }
   ],
   "source": [
    "# 予測値と正解のクロス集計\n",
    "conf_mat = pd.DataFrame(confusion_matrix(y_test, y_est), \n",
    "                        index=['正解 = successful', '正解 = failed'], \n",
    "                        columns=['予測 = successful', '予測 = failed'])\n",
    "conf_mat"
   ]
  },
  {
   "cell_type": "code",
   "execution_count": 18,
   "metadata": {},
   "outputs": [
    {
     "data": {
      "image/png": "[encoded data removed]",
      "text/plain": [
       "<matplotlib.figure.Figure at 0x112402208>"
      ]
     },
     "metadata": {},
     "output_type": "display_data"
    }
   ],
   "source": [
    "plt.barh(np.arange(0, len(clf.coef_[0])), abs_coef[0], tick_label=inp.columns.values)\n",
    "plt.tight_layout()\n",
    "plt.show()"
   ]
  },
  {
   "cell_type": "markdown",
   "metadata": {},
   "source": [
    "### 標準化の実行\n",
    "- 一部の係数が異常に大きいため、判定がうまく行っていない可能性がある\n",
    "- 標準化を行い係数の重みを均一にしてみる"
   ]
  },
  {
   "cell_type": "code",
   "execution_count": null,
   "metadata": {},
   "outputs": [],
   "source": [
    "# 標準化\n",
    "from sklearn.preprocessing import StandardScaler\n",
    "stdsc = StandardScaler()\n",
    "X_train_std = stdsc.fit_transform(X_train)"
   ]
  },
  {
   "cell_type": "code",
   "execution_count": null,
   "metadata": {},
   "outputs": [],
   "source": [
    "X_test_std = stdsc.transform(X_test)"
   ]
  },
  {
   "cell_type": "code",
   "execution_count": 10,
   "metadata": {},
   "outputs": [
    {
     "data": {
      "text/plain": [
       "SGDClassifier(alpha=0.0001, average=False, class_weight=None, epsilon=0.1,\n",
       "       eta0=0.0, fit_intercept=True, l1_ratio=0.15,\n",
       "       learning_rate='optimal', loss='log', max_iter=1000, n_iter=None,\n",
       "       n_jobs=1, penalty='none', power_t=0.5, random_state=1234,\n",
       "       shuffle=True, tol=None, verbose=0, warm_start=False)"
      ]
     },
     "execution_count": 10,
     "metadata": {},
     "output_type": "execute_result"
    }
   ],
   "source": [
    "clf = SGDClassifier(loss='log', penalty='none', max_iter=1000, fit_intercept=True, random_state=1234)\n",
    "clf.fit(X_train_std, y_train)"
   ]
  },
  {
   "cell_type": "code",
   "execution_count": 11,
   "metadata": {},
   "outputs": [
    {
     "name": "stdout",
     "output_type": "stream",
     "text": [
      "対数尤度 = -12.604\n",
      "正答率 = 63.508%\n"
     ]
    }
   ],
   "source": [
    "y_est = clf.predict(X_test_std)\n",
    "\n",
    "# 対数尤度を表示\n",
    "print('対数尤度 = {:.3f}'.format(- log_loss(y_test, y_est)))\n",
    "\n",
    "# 正答率を表示\n",
    "print('正答率 = {:.3f}%'.format(100 * accuracy_score(y_test, y_est)))"
   ]
  },
  {
   "cell_type": "code",
   "execution_count": 12,
   "metadata": {},
   "outputs": [
    {
     "data": {
      "text/html": [
       "<div>\n",
       "<style scoped>\n",
       "    .dataframe tbody tr th:only-of-type {\n",
       "        vertical-align: middle;\n",
       "    }\n",
       "\n",
       "    .dataframe tbody tr th {\n",
       "        vertical-align: top;\n",
       "    }\n",
       "\n",
       "    .dataframe thead th {\n",
       "        text-align: right;\n",
       "    }\n",
       "</style>\n",
       "<table border=\"1\" class=\"dataframe\">\n",
       "  <thead>\n",
       "    <tr style=\"text-align: right;\">\n",
       "      <th></th>\n",
       "      <th>予測 = successful</th>\n",
       "      <th>予測 = failed</th>\n",
       "    </tr>\n",
       "  </thead>\n",
       "  <tbody>\n",
       "    <tr>\n",
       "      <th>正解 = successful</th>\n",
       "      <td>33308</td>\n",
       "      <td>6429</td>\n",
       "    </tr>\n",
       "    <tr>\n",
       "      <th>正解 = failed</th>\n",
       "      <td>17778</td>\n",
       "      <td>8820</td>\n",
       "    </tr>\n",
       "  </tbody>\n",
       "</table>\n",
       "</div>"
      ],
      "text/plain": [
       "                 予測 = successful  予測 = failed\n",
       "正解 = successful            33308         6429\n",
       "正解 = failed                17778         8820"
      ]
     },
     "execution_count": 12,
     "metadata": {},
     "output_type": "execute_result"
    }
   ],
   "source": [
    "# 予測値と正解のクロス集計\n",
    "conf_mat = pd.DataFrame(confusion_matrix(y_test, y_est), \n",
    "                        index=['正解 = successful', '正解 = failed'], \n",
    "                        columns=['予測 = successful', '予測 = failed'])\n",
    "conf_mat"
   ]
  },
  {
   "cell_type": "markdown",
   "metadata": {},
   "source": [
    "- 精度は50% →　63％まで改善した\n",
    "- 他の条件は一緒のため、標準化の効果だと思われる"
   ]
  },
  {
   "cell_type": "markdown",
   "metadata": {},
   "source": [
    "### SVMの実装\n",
    "- SVMを実装し精度を確認する\n",
    "- GridSearchでハイパーパラメータのチューニングを行う\n",
    "- KickStarterでSVMを実行した場合、時間がかかりすぎるため、20%程度に削減したデータで検証してみる\n",
    "- もっとも良い性能がでるハイパーパラメータで全量を学習してみて精度を確認する\n"
   ]
  },
  {
   "cell_type": "code",
   "execution_count": 1,
   "metadata": {},
   "outputs": [],
   "source": [
    "#必要なライブラリのインポート\n",
    "#各種必要ライブラリのロード\n",
    "%matplotlib inline\n",
    "import pandas as pd\n",
    "import numpy as np\n",
    "import matplotlib.pyplot as plt\n",
    "import seaborn as sns\n",
    "from sklearn.linear_model import SGDClassifier\n",
    "from sklearn.metrics import log_loss, accuracy_score, confusion_matrix\n",
    "from sklearn.svm import SVC\n",
    "from sklearn.preprocessing import StandardScaler\n",
    "from sklearn.model_selection import train_test_split, GridSearchCV\n",
    "from common_func import plot_decision_regions\n",
    "from sklearn.svm import SVC\n",
    "from sklearn.model_selection import GridSearchCV"
   ]
  },
  {
   "cell_type": "code",
   "execution_count": 2,
   "metadata": {},
   "outputs": [],
   "source": [
    "#データの読込\n",
    "df = pd.read_csv(\"./ks-projects-201801.csv\")\n",
    "#開始時にはわからないデータを除去する\n",
    "df = df.drop('pledged', axis=1)\n",
    "df = df.drop('backers', axis=1)\n",
    "df = df.drop('usd pledged', axis=1)\n",
    "df = df.drop('usd_pledged_real', axis=1)\n",
    "#stateについてsuccesful及びfailed以外のデータを除去する\n",
    "df_success = df[df['state'] == 'successful']\n",
    "df_failed = df[df['state'] == 'failed']\n",
    "\n",
    "df_input = pd.concat([df_success, df_failed])\n",
    "    \n",
    "df_input = pd.concat([df_input, pd.get_dummies(df_input['main_category'])], axis=1)\n",
    "df_input = pd.concat([df_input, pd.get_dummies(df_input['currency'])], axis=1)\n",
    "df_input = pd.concat([df_input, pd.get_dummies(df_input['country'])], axis=1)\n",
    "\n",
    "y = df_input[\"state\"] == 'successful'\n",
    "inp = df_input.drop(['state','ID', 'name','category','deadline','launched', 'main_category', 'currency', 'country'], axis=1)\n",
    "X = inp.values"
   ]
  },
  {
   "cell_type": "code",
   "execution_count": 3,
   "metadata": {},
   "outputs": [],
   "source": [
    "#学習用データと検証用データ\n",
    "test_size = 0.2        # 全データのうち、何%をテストデータにするか（今回は20%に設定）\n",
    "X_train, X_test, y_train, y_test = train_test_split(X, y, test_size=test_size, random_state=1234) # ホールドアウト法を実行（テストデータはランダム選択）"
   ]
  },
  {
   "cell_type": "code",
   "execution_count": 4,
   "metadata": {},
   "outputs": [],
   "source": [
    "# 標準化\n",
    "from sklearn.preprocessing import StandardScaler\n",
    "stdsc = StandardScaler()\n",
    "X_train_std = stdsc.fit_transform(X_train)\n",
    "X_test_std = stdsc.transform(X_test)"
   ]
  },
  {
   "cell_type": "code",
   "execution_count": 5,
   "metadata": {},
   "outputs": [],
   "source": [
    "test_size = 0.015        # 全データを学習させるのは難しいため、1％程度のデータを抽出する\n",
    "_, X_train_std_sample, _, y_train_std_sample = train_test_split(X_train_std, y_train, test_size=test_size, random_state=1234) # ホールドアウト法を実行（テストデータはランダム選択）"
   ]
  },
  {
   "cell_type": "code",
   "execution_count": 6,
   "metadata": {},
   "outputs": [
    {
     "name": "stdout",
     "output_type": "stream",
     "text": [
      "(3981, 54)\n",
      "(3981,)\n"
     ]
    }
   ],
   "source": [
    "print(X_train_std_sample.shape)\n",
    "print(y_train_std_sample.shape)"
   ]
  },
  {
   "cell_type": "code",
   "execution_count": 7,
   "metadata": {},
   "outputs": [
    {
     "data": {
      "text/plain": [
       "SVC(C=5, cache_size=2000, class_weight=None, coef0=0.0,\n",
       "  decision_function_shape='ovr', degree=3, gamma='auto', kernel='linear',\n",
       "  max_iter=-1, probability=False, random_state=None, shrinking=True,\n",
       "  tol=0.001, verbose=False)"
      ]
     },
     "execution_count": 7,
     "metadata": {},
     "output_type": "execute_result"
    }
   ],
   "source": [
    "# SVMの実行\n",
    "C = 5\n",
    "svm_clf = SVC(C=C, kernel=\"linear\", cache_size=2000)\n",
    "svm_clf.fit(X_train_std_sample, y_train_std_sample)"
   ]
  },
  {
   "cell_type": "code",
   "execution_count": 8,
   "metadata": {},
   "outputs": [
    {
     "name": "stdout",
     "output_type": "stream",
     "text": [
      "正答率 = 62.009%\n"
     ]
    }
   ],
   "source": [
    "y_est = svm_clf.predict(X_test_std)\n",
    "\n",
    "# 正答率を表示\n",
    "print('正答率 = {:.3f}%'.format(100 * accuracy_score(y_test, y_est)))"
   ]
  },
  {
   "cell_type": "code",
   "execution_count": 9,
   "metadata": {},
   "outputs": [
    {
     "data": {
      "text/html": [
       "<div>\n",
       "<style scoped>\n",
       "    .dataframe tbody tr th:only-of-type {\n",
       "        vertical-align: middle;\n",
       "    }\n",
       "\n",
       "    .dataframe tbody tr th {\n",
       "        vertical-align: top;\n",
       "    }\n",
       "\n",
       "    .dataframe thead th {\n",
       "        text-align: right;\n",
       "    }\n",
       "</style>\n",
       "<table border=\"1\" class=\"dataframe\">\n",
       "  <thead>\n",
       "    <tr style=\"text-align: right;\">\n",
       "      <th></th>\n",
       "      <th>予測 = successful</th>\n",
       "      <th>予測 = failed</th>\n",
       "    </tr>\n",
       "  </thead>\n",
       "  <tbody>\n",
       "    <tr>\n",
       "      <th>正解 = successful</th>\n",
       "      <td>33394</td>\n",
       "      <td>6343</td>\n",
       "    </tr>\n",
       "    <tr>\n",
       "      <th>正解 = failed</th>\n",
       "      <td>18858</td>\n",
       "      <td>7740</td>\n",
       "    </tr>\n",
       "  </tbody>\n",
       "</table>\n",
       "</div>"
      ],
      "text/plain": [
       "                 予測 = successful  予測 = failed\n",
       "正解 = successful            33394         6343\n",
       "正解 = failed                18858         7740"
      ]
     },
     "execution_count": 9,
     "metadata": {},
     "output_type": "execute_result"
    }
   ],
   "source": [
    "# 予測値と正解のクロス集計\n",
    "conf_mat = pd.DataFrame(confusion_matrix(y_test, y_est), \n",
    "                        index=['正解 = successful', '正解 = failed'], \n",
    "                        columns=['予測 = successful', '予測 = failed'])\n",
    "conf_mat"
   ]
  },
  {
   "cell_type": "markdown",
   "metadata": {},
   "source": [
    "- 1%程度の学習データしか使っていないが汎化性能がlogistic回帰と同等になった\n",
    "- ハイパーパラメータを変更し精度がどの程度変わるかを確認する"
   ]
  },
  {
   "cell_type": "code",
   "execution_count": 14,
   "metadata": {},
   "outputs": [
    {
     "name": "stdout",
     "output_type": "stream",
     "text": [
      "{'C': 0.5, 'gamma': 0.5, 'kernel': 'rbf'} 0.608641044963577\n",
      "CPU times: user 27 s, sys: 121 ms, total: 27.1 s\n",
      "Wall time: 27.3 s\n"
     ]
    }
   ],
   "source": [
    "%%time\n",
    "parameters = {'kernel':['rbf'], 'C':[0.5,1,2], 'gamma':[0.1,0.3,0.5]} # ここを編集する\n",
    "model = SVC()\n",
    "clf = GridSearchCV(model, parameters, cv=3,)\n",
    "clf.fit(X_train_std_sample, y_train_std_sample)\n",
    "print(clf.best_params_, clf.best_score_)"
   ]
  },
  {
   "cell_type": "code",
   "execution_count": 15,
   "metadata": {},
   "outputs": [
    {
     "name": "stdout",
     "output_type": "stream",
     "text": [
      "{'C': 0.25, 'gamma': 0.5, 'kernel': 'rbf'} 0.6106505903039438\n",
      "CPU times: user 27.3 s, sys: 116 ms, total: 27.4 s\n",
      "Wall time: 27.6 s\n"
     ]
    }
   ],
   "source": [
    "%%time\n",
    "parameters = {'kernel':['rbf'], 'C':[0.1,0.25,0.5], 'gamma':[0.5,0.6,0.7]} # ここを編集する\n",
    "model = SVC()\n",
    "clf = GridSearchCV(model, parameters, cv=3,)\n",
    "clf.fit(X_train_std_sample, y_train_std_sample)\n",
    "print(clf.best_params_, clf.best_score_)"
   ]
  },
  {
   "cell_type": "code",
   "execution_count": 16,
   "metadata": {},
   "outputs": [
    {
     "name": "stdout",
     "output_type": "stream",
     "text": [
      "{'C': 0.2, 'gamma': 0.5, 'kernel': 'rbf'} 0.6121577493092187\n",
      "CPU times: user 20.1 s, sys: 125 ms, total: 20.3 s\n",
      "Wall time: 20.5 s\n"
     ]
    }
   ],
   "source": [
    "%%time\n",
    "parameters = {'kernel':['rbf'], 'C':[0.2,0.25,0.3], 'gamma':[0.5,0.6]} # ここを編集する\n",
    "model = SVC()\n",
    "clf = GridSearchCV(model, parameters, cv=3,)\n",
    "clf.fit(X_train_std_sample, y_train_std_sample)\n",
    "print(clf.best_params_, clf.best_score_)"
   ]
  },
  {
   "cell_type": "code",
   "execution_count": 17,
   "metadata": {},
   "outputs": [
    {
     "name": "stdout",
     "output_type": "stream",
     "text": [
      "識別精度= 0.5990352001206\n"
     ]
    }
   ],
   "source": [
    "# 最適パラメータを用いて識別する\n",
    "clf2 = SVC(**clf.best_params_)\n",
    "clf2.fit(X_train_std_sample, y_train_std_sample)\n",
    "print(\"識別精度=\",clf2.score(X_test, y_test))"
   ]
  },
  {
   "cell_type": "markdown",
   "metadata": {},
   "source": [
    "- グリッドサーチでハイパーパラメータ探索を行なったが精度は改善しなかった\n",
    "- 学習に用いたデータ数が少なすぎる？"
   ]
  },
  {
   "cell_type": "markdown",
   "metadata": {},
   "source": [
    "- もう少し、データを増やせないか確認する\n",
    "- カテゴリ変数が多く次元が大きくなってしまっている。特徴量削減の効果を試してみる（特に計算量が減ることを期待したい）"
   ]
  },
  {
   "cell_type": "code",
   "execution_count": null,
   "metadata": {},
   "outputs": [],
   "source": []
  }
 ],
 "metadata": {
  "kernelspec": {
   "display_name": "Python 3",
   "language": "python",
   "name": "python3"
  },
  "language_info": {
   "codemirror_mode": {
    "name": "ipython",
    "version": 3
   },
   "file_extension": ".py",
   "mimetype": "text/x-python",
   "name": "python",
   "nbconvert_exporter": "python",
   "pygments_lexer": "ipython3",
   "version": "3.6.4"
  }
 },
 "nbformat": 4,
 "nbformat_minor": 2
}
