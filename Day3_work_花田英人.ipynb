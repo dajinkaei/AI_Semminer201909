{
 "cells": [
  {
   "cell_type": "markdown",
   "metadata": {},
   "source": [
    "# 通し課題 Day３\n",
    "## 目的\n",
    " 課題①　KickStarter Project　\n",
    " https://www.kaggle.com/kemical/kickstarter-projects\n",
    " \n",
    " について分類アルゴリズムを実装評価する。\n",
    " \n",
    "　DAY2で発生していた状況は以下の通り\n",
    "- SVMであまり精度が出ない\n",
    "\n",
    "対策として、もう少しハイパーパラメータ探索の幅を広げてみる\n",
    "\n",
    " \n",
    " また、DAY3で学んだ以下の項目についてkickstarterでも実施する\n",
    "- 特徴量削減\n",
    "- 決定木、ランダムフォレスト、アダブーストの実装\n",
    "- ニューラルネットの実装\n",
    " "
   ]
  },
  {
   "cell_type": "markdown",
   "metadata": {},
   "source": [
    "## 前準備\n",
    "DAY2と同様にデータの読込＋加工+標準化を行う"
   ]
  },
  {
   "cell_type": "code",
   "execution_count": 1,
   "metadata": {},
   "outputs": [],
   "source": [
    "#必要なライブラリのインポート\n",
    "#各種必要ライブラリのロード\n",
    "%matplotlib inline\n",
    "import pandas as pd\n",
    "import numpy as np\n",
    "import matplotlib.pyplot as plt\n",
    "import seaborn as sns\n",
    "from sklearn.linear_model import SGDClassifier\n",
    "from sklearn.metrics import log_loss, accuracy_score, confusion_matrix\n",
    "from sklearn.svm import SVC\n",
    "from sklearn.preprocessing import StandardScaler\n",
    "from sklearn.model_selection import train_test_split, GridSearchCV\n",
    "from common_func import plot_decision_regions\n",
    "from sklearn.svm import SVC\n",
    "from sklearn.model_selection import GridSearchCV"
   ]
  },
  {
   "cell_type": "code",
   "execution_count": 2,
   "metadata": {},
   "outputs": [],
   "source": [
    "#データの読込\n",
    "df = pd.read_csv(\"./ks-projects-201801.csv\")\n",
    "\n",
    "#評価基準の統一のため、データの加工方法を統一する\n",
    "df = df[df[\"state\"]!=\"live\"]\n",
    "df[\"state\"] = df[\"state\"]==\"successful\"\n",
    "\n",
    "#開始時にはわからないデータを除去する\n",
    "df = df.drop('pledged', axis=1)\n",
    "df = df.drop('backers', axis=1)\n",
    "df = df.drop('usd pledged', axis=1)\n",
    "df = df.drop('usd_pledged_real', axis=1)\n",
    "\n",
    "df_input = pd.concat([df, pd.get_dummies(df['main_category'])], axis=1)\n",
    "df_input = pd.concat([df_input, pd.get_dummies(df_input['currency'])], axis=1)\n",
    "df_input = pd.concat([df_input, pd.get_dummies(df_input['country'])], axis=1)\n",
    "\n",
    "y = df_input[\"state\"].values\n",
    "\n",
    "inp = df_input.drop(['state','ID', 'name','category','deadline','launched', 'main_category', 'currency', 'country'], axis=1)\n",
    "X = inp.values\n",
    "test_size = 0.2\n",
    "X_train, X_test, y_train, y_test = train_test_split(X, y, test_size=test_size, random_state=1234)"
   ]
  },
  {
   "cell_type": "markdown",
   "metadata": {},
   "source": [
    "## DAY2の続き\n",
    "- 学習用を1%にし、評価用を99%にする（使用しないデータが勿体無い）\n",
    "- 上記の分割をした上でSVMのハイパーパラメータ探索範囲を広げ、もう少し精度が上がらないかどうかをみてみる"
   ]
  },
  {
   "cell_type": "code",
   "execution_count": 3,
   "metadata": {},
   "outputs": [],
   "source": [
    "#学習用データと検証用データ\n",
    "test_size = 0.01        # 全データのうち、何%をテストデータにするか（今回は20%に設定）\n",
    "X_test2, X_train2, y_test2, y_train2 = train_test_split(X_train, y_train, test_size=test_size, random_state=1234) # ホールドアウト法を実行（テストデータはランダム選択）"
   ]
  },
  {
   "cell_type": "code",
   "execution_count": 7,
   "metadata": {},
   "outputs": [],
   "source": [
    "# 標準化\n",
    "from sklearn.preprocessing import StandardScaler\n",
    "stdsc = StandardScaler()\n",
    "X_train_std = stdsc.fit_transform(X_train2)\n",
    "X_test_std = stdsc.transform(X_test2)\n",
    "#最終評価用データの標準化\n",
    "X_fin_Test_std = stdsc.transform(X_test)"
   ]
  },
  {
   "cell_type": "code",
   "execution_count": 8,
   "metadata": {},
   "outputs": [
    {
     "name": "stdout",
     "output_type": "stream",
     "text": [
      "(3007, 54)\n",
      "(3007,)\n"
     ]
    }
   ],
   "source": [
    "print(X_train_std.shape)\n",
    "print(y_train2.shape)"
   ]
  },
  {
   "cell_type": "code",
   "execution_count": 13,
   "metadata": {},
   "outputs": [
    {
     "name": "stdout",
     "output_type": "stream",
     "text": [
      "{'C': 0.3, 'gamma': 0.5, 'kernel': 'rbf'} 0.6501496508147655\n",
      "CPU times: user 11 s, sys: 67.6 ms, total: 11.1 s\n",
      "Wall time: 11.3 s\n"
     ]
    }
   ],
   "source": [
    "%%time\n",
    "parameters = {'kernel':['rbf'], 'C':[0.2,0.25,0.3], 'gamma':[0.5,0.6]} # ここを編集する\n",
    "model = SVC()\n",
    "clf = GridSearchCV(model, parameters, cv=3,)\n",
    "clf.fit(X_train_std, y_train2)\n",
    "print(clf.best_params_, clf.best_score_)"
   ]
  },
  {
   "cell_type": "code",
   "execution_count": 14,
   "metadata": {},
   "outputs": [
    {
     "name": "stdout",
     "output_type": "stream",
     "text": [
      "識別精度= 0.6514706077980126\n"
     ]
    }
   ],
   "source": [
    "# 最適パラメータを用いて識別する\n",
    "clf2 = SVC(**clf.best_params_)\n",
    "clf2.fit(X_train_std, y_train2)\n",
    "print(\"識別精度=\",clf2.score(X_fin_Test_std, y_test))"
   ]
  },
  {
   "cell_type": "markdown",
   "metadata": {},
   "source": [
    "## DAY2の再検討\n",
    "- ハイパーパラメータの探索範囲を増やす"
   ]
  },
  {
   "cell_type": "code",
   "execution_count": 15,
   "metadata": {},
   "outputs": [
    {
     "name": "stdout",
     "output_type": "stream",
     "text": [
      "{'C': 0.5, 'gamma': 30, 'kernel': 'rbf'} 0.660458929165281\n",
      "CPU times: user 2min 20s, sys: 546 ms, total: 2min 21s\n",
      "Wall time: 2min 23s\n"
     ]
    }
   ],
   "source": [
    "%%time\n",
    "parameters = {'kernel':['rbf'], 'C':[0.01, 0.1, 0.5, 1, 1.5, 2.0, 2.5, 3.0, 10, 20, 30], 'gamma':[0.01,0.1, 1.0, 5.0, 10, 20, 30]} # ここを編集する\n",
    "model = SVC()\n",
    "clf = GridSearchCV(model, parameters, cv=3,)\n",
    "clf.fit(X_train_std, y_train2)\n",
    "print(clf.best_params_, clf.best_score_)"
   ]
  },
  {
   "cell_type": "code",
   "execution_count": 16,
   "metadata": {},
   "outputs": [
    {
     "name": "stdout",
     "output_type": "stream",
     "text": [
      "識別精度= 0.6576031287829407\n"
     ]
    }
   ],
   "source": [
    "\n",
    "# 最適パラメータを用いて識別する\n",
    "clf2 = SVC(**clf.best_params_)\n",
    "clf2.fit(X_train_std, y_train2)\n",
    "print(\"識別精度=\",clf2.score(X_fin_Test_std, y_test))"
   ]
  },
  {
   "cell_type": "code",
   "execution_count": 17,
   "metadata": {},
   "outputs": [
    {
     "name": "stdout",
     "output_type": "stream",
     "text": [
      "{'C': 0.5, 'gamma': 100, 'kernel': 'rbf'} 0.662454273362155\n",
      "CPU times: user 2min 26s, sys: 1.07 s, total: 2min 27s\n",
      "Wall time: 2min 34s\n"
     ]
    }
   ],
   "source": [
    "%%time\n",
    "parameters = {'kernel':['rbf'], 'C':[0.01, 0.1, 0.5, 1, 1.5, 2.0, 2.5, 3.0, 10, 20, 30], 'gamma':[10, 20, 30, 50, 100, 200, 300]} # ここを編集する\n",
    "model = SVC()\n",
    "clf = GridSearchCV(model, parameters, cv=3,)\n",
    "clf.fit(X_train_std, y_train2)\n",
    "print(clf.best_params_, clf.best_score_)"
   ]
  },
  {
   "cell_type": "code",
   "execution_count": 19,
   "metadata": {},
   "outputs": [
    {
     "name": "stdout",
     "output_type": "stream",
     "text": [
      "識別精度= 0.6586141300732976\n"
     ]
    }
   ],
   "source": [
    "# 最適パラメータを用いて識別する\n",
    "clf2 = SVC(**clf.best_params_)\n",
    "clf2.fit(X_train_std, y_train2)\n",
    "print(\"識別精度=\",clf2.score(X_fin_Test_std, y_test))"
   ]
  },
  {
   "cell_type": "markdown",
   "metadata": {},
   "source": [
    "### 結果の考察\n",
    "- ハイパーパラメータを調整することにより、精度は65.2% から　65.8% に向上した。\n",
    "- ハイパーパラメータが極端な値になっているように見える\n",
    "- SVMとパラメータ調整のみでは,これ以上の精度向上は厳しい"
   ]
  },
  {
   "cell_type": "code",
   "execution_count": null,
   "metadata": {},
   "outputs": [],
   "source": []
  },
  {
   "cell_type": "markdown",
   "metadata": {},
   "source": [
    "### DAY3の項目の実装"
   ]
  },
  {
   "cell_type": "markdown",
   "metadata": {},
   "source": [
    "### LASSOによる特徴量削減\n",
    "- Logistic回帰（LASSO）を行い、特徴量削減を行う"
   ]
  },
  {
   "cell_type": "code",
   "execution_count": 21,
   "metadata": {},
   "outputs": [
    {
     "name": "stdout",
     "output_type": "stream",
     "text": [
      "[False False False False False False False  True False False False False\n",
      "  True False False  True False False False False False False False False\n",
      " False False False False False False False False False False False False\n",
      " False False False False False False False False False False False  True\n",
      " False False False False False  True]\n",
      "(3007, 5)\n",
      "(3007, 54)\n",
      "C:0.01, score = 0.644180756388597\n",
      "[ True False False  True False  True False  True False  True False False\n",
      "  True False  True  True  True False False False False False False False\n",
      " False  True False False False False False False False False  True False\n",
      " False False False False False False False  True False False  True  True\n",
      " False False False False False  True]\n",
      "(3007, 15)\n",
      "(3007, 54)\n",
      "C:0.02, score = 0.6626847405318399\n",
      "[ True False False  True False  True  True  True False  True False  True\n",
      "  True  True  True  True  True False False False False False  True False\n",
      " False  True False False False False False False False False  True False\n",
      " False False False False False False  True  True False False  True  True\n",
      "  True False False False False  True]\n",
      "(3007, 21)\n",
      "(3007, 54)\n",
      "C:0.03, score = 0.6541311375094782\n",
      "[ True False False  True False  True  True  True False  True False  True\n",
      "  True  True  True  True  True False False False False False  True False\n",
      " False  True  True False False False False False False False  True False\n",
      "  True False False False False False  True  True False False  True  True\n",
      "  True False False False False  True]\n",
      "(3007, 23)\n",
      "(3007, 54)\n",
      "C:0.04, score = 0.6532797680018092\n",
      "[ True False False  True  True  True  True  True False  True False  True\n",
      "  True  True  True  True  True  True False False False False  True False\n",
      " False  True  True False False False False False False False  True False\n",
      "  True False False  True False False  True  True False False  True  True\n",
      "  True False False False False  True]\n",
      "(3007, 26)\n",
      "(3007, 54)\n",
      "C:0.05, score = 0.6538251765926596\n",
      "[ True False False  True  True  True  True  True False  True False  True\n",
      "  True  True  True  True  True  True False  True False False  True  True\n",
      " False  True  True False False False False  True False False  True  True\n",
      "  True False False  True False  True  True  True False False  True  True\n",
      "  True False  True False False  True]\n",
      "(3007, 32)\n",
      "(3007, 54)\n",
      "C:0.06, score = 0.6539715057267902\n",
      "[ True False False  True  True  True  True  True False  True False  True\n",
      "  True  True  True  True  True  True False  True False False  True  True\n",
      " False  True  True False False False False  True False False  True  True\n",
      "  True False False  True False  True  True  True False False  True  True\n",
      "  True  True  True False False  True]\n",
      "(3007, 33)\n",
      "(3007, 54)\n",
      "C:0.07, score = 0.6539715057267902\n",
      "[ True False False  True  True  True  True  True False  True  True  True\n",
      "  True  True  True  True  True  True False  True False False  True  True\n",
      " False  True  True False False False False  True False False  True  True\n",
      "  True False False  True False  True  True  True False False  True  True\n",
      "  True  True  True False False  True]\n",
      "(3007, 34)\n",
      "(3007, 54)\n",
      "C:0.08, score = 0.6543572825349527\n",
      "[ True  True False  True  True  True  True  True False  True  True  True\n",
      "  True  True  True  True  True  True False  True False False  True  True\n",
      " False  True  True False False False False  True False False  True False\n",
      "  True False False  True False  True  True  True False False  True  True\n",
      "  True  True  True False False  True]\n",
      "(3007, 34)\n",
      "(3007, 54)\n",
      "C:0.09, score = 0.6557008500392428\n",
      "[ True  True False  True  True  True  True  True False  True  True  True\n",
      "  True  True  True  True  True  True False  True False False  True  True\n",
      " False  True False False False False False  True False False  True  True\n",
      "  True False False  True False False  True  True False False False  True\n",
      "  True  True  True False False  True]\n",
      "(3007, 32)\n",
      "(3007, 54)\n",
      "C:0.1, score = 0.6557008500392428\n",
      "[ True  True False  True  True  True  True  True False  True  True  True\n",
      "  True  True  True  True  True  True False  True False False  True  True\n",
      " False  True False False False False False  True False False  True  True\n",
      "  True False False  True False  True  True  True False False  True  True\n",
      "  True  True  True False False  True]\n",
      "(3007, 34)\n",
      "(3007, 54)\n",
      "C:0.11, score = 0.6557008500392428\n",
      "[ True  True False  True  True  True  True  True False  True  True  True\n",
      "  True  True  True  True  True  True False  True False False  True  True\n",
      " False  True  True False False False False  True False False  True  True\n",
      "  True False False  True False  True  True  True False False  True  True\n",
      "  True  True  True False False  True]\n",
      "(3007, 35)\n",
      "(3007, 54)\n",
      "C:0.12, score = 0.6557008500392428\n",
      "[ True  True False  True  True  True  True  True False  True  True  True\n",
      "  True  True  True  True  True  True False  True False False  True  True\n",
      " False  True False False False False False  True False False  True  True\n",
      "  True False False  True False  True  True  True False False  True  True\n",
      "  True  True  True False False  True]\n",
      "(3007, 34)\n",
      "(3007, 54)\n",
      "C:0.13, score = 0.6557008500392428\n",
      "[ True  True False  True  True  True  True  True False  True  True  True\n",
      "  True  True  True  True  True  True False  True False False  True  True\n",
      " False  True  True False False False False  True False False  True  True\n",
      "  True False False  True False  True  True  True False False  True  True\n",
      "  True  True  True False False  True]\n",
      "(3007, 35)\n",
      "(3007, 54)\n",
      "C:0.14, score = 0.6557008500392428\n",
      "[ True  True False  True  True  True  True  True False  True  True  True\n",
      "  True  True  True  True  True  True False  True False False  True  True\n",
      " False  True  True False False False False  True False False  True  True\n",
      "  True False False  True False  True  True  True False False  True  True\n",
      "  True False  True False False  True]\n",
      "(3007, 34)\n",
      "(3007, 54)\n",
      "C:0.15, score = 0.6557008500392428\n",
      "[ True  True False  True  True  True  True  True False  True  True  True\n",
      "  True  True  True  True  True  True False  True False False  True  True\n",
      " False  True  True False False False False  True False False  True  True\n",
      "  True False False  True False  True  True  True False False  True  True\n",
      "  True  True  True False False  True]\n",
      "(3007, 35)\n",
      "(3007, 54)\n",
      "C:0.16, score = 0.6557008500392428\n",
      "[ True  True False  True  True  True  True  True False  True  True  True\n",
      "  True  True  True  True  True  True False  True False False  True False\n",
      " False  True  True False False False False  True False False  True  True\n",
      "  True False False  True False  True  True  True False False  True  True\n",
      "  True  True  True False False  True]\n",
      "(3007, 34)\n",
      "(3007, 54)\n",
      "C:0.17, score = 0.6557008500392428\n",
      "[ True  True False  True  True  True  True  True False  True  True  True\n",
      "  True  True  True  True  True  True False  True False False  True  True\n",
      " False  True  True False False False False  True False False  True  True\n",
      "  True False False  True False  True  True  True False False  True  True\n",
      "  True  True  True False False  True]\n",
      "(3007, 35)\n",
      "(3007, 54)\n",
      "C:0.18, score = 0.6557008500392428\n",
      "[ True  True False  True  True  True  True  True False  True  True  True\n",
      "  True  True  True  True  True  True False  True False False  True  True\n",
      " False  True  True False False False False  True False False  True  True\n",
      "  True False  True  True False  True  True  True False False  True  True\n",
      "  True  True  True False False  True]\n",
      "(3007, 36)\n",
      "(3007, 54)\n",
      "C:0.19, score = 0.6555944288507842\n",
      "[ True  True False  True  True  True  True  True False  True  True  True\n",
      "  True  True  True  True  True  True False  True False False  True  True\n",
      " False  True  True False False False False  True False False  True  True\n",
      "  True False  True  True False  True  True  True False False  True  True\n",
      "  True  True  True False False  True]\n",
      "(3007, 36)\n",
      "(3007, 54)\n",
      "C:0.2, score = 0.6555944288507842\n",
      "[ True  True False  True  True  True  True  True  True  True  True  True\n",
      "  True  True  True  True  True  True False  True False False  True False\n",
      " False  True  True False False False False  True False False  True  True\n",
      "  True False  True  True False  True  True  True False False False  True\n",
      "  True  True  True False False  True]\n",
      "(3007, 35)\n",
      "(3007, 54)\n",
      "C:0.21, score = 0.6536655448099716\n",
      "[ True  True False  True  True  True  True  True  True  True  True  True\n",
      "  True  True  True  True  True  True False  True False False  True  True\n",
      " False  True  True False False False False  True False False  True  True\n",
      "  True False  True  True False  True  True  True False False  True  True\n",
      "  True False  True False False  True]\n",
      "(3007, 36)\n",
      "(3007, 54)\n"
     ]
    },
    {
     "name": "stdout",
     "output_type": "stream",
     "text": [
      "C:0.22, score = 0.6536655448099716\n",
      "[ True  True False  True  True  True  True  True  True  True  True  True\n",
      "  True  True  True  True  True  True False  True False False  True  True\n",
      " False  True  True False False False False  True False False  True  True\n",
      "  True False  True  True False  True  True  True False False  True  True\n",
      "  True  True  True False False  True]\n",
      "(3007, 37)\n",
      "(3007, 54)\n",
      "C:0.23, score = 0.6536655448099716\n",
      "[ True  True False  True  True  True  True  True  True  True  True  True\n",
      "  True  True  True  True  True  True False  True False False  True  True\n",
      " False  True  True False False False False  True False False  True  True\n",
      "  True False  True  True False  True  True  True False False  True  True\n",
      "  True  True  True False False  True]\n",
      "(3007, 37)\n",
      "(3007, 54)\n",
      "C:0.24, score = 0.6536655448099716\n",
      "[ True  True False  True  True  True  True  True  True  True  True  True\n",
      "  True  True  True  True  True  True False  True False False  True  True\n",
      " False  True  True False False False False  True False False  True  True\n",
      "  True False  True  True False  True  True  True False False  True  True\n",
      "  True False  True False False  True]\n",
      "(3007, 36)\n",
      "(3007, 54)\n",
      "C:0.25, score = 0.6536655448099716\n",
      "[ True  True False  True  True  True  True  True  True  True  True  True\n",
      "  True  True  True  True  True  True False  True False False  True  True\n",
      " False  True  True False False False False  True False False  True  True\n",
      "  True False  True  True False  True  True  True False False  True  True\n",
      "  True  True  True False False  True]\n",
      "(3007, 37)\n",
      "(3007, 54)\n",
      "C:0.26, score = 0.6536655448099716\n",
      "[ True  True False  True  True  True  True  True  True  True  True  True\n",
      "  True  True  True  True  True  True False  True False False  True  True\n",
      " False  True  True False False False False  True False False  True  True\n",
      "  True False  True  True False  True  True  True False False  True  True\n",
      "  True  True  True False False  True]\n",
      "(3007, 37)\n",
      "(3007, 54)\n",
      "C:0.27, score = 0.6536655448099716\n",
      "[ True  True False  True  True  True  True  True  True  True  True  True\n",
      "  True  True  True  True  True  True False  True False False  True  True\n",
      " False  True  True False False False False  True False False  True  True\n",
      "  True False  True  True False  True  True  True False False  True  True\n",
      "  True  True  True False False  True]\n",
      "(3007, 37)\n",
      "(3007, 54)\n",
      "C:0.28, score = 0.6536655448099716\n",
      "[ True  True False  True  True  True  True  True  True  True  True  True\n",
      "  True  True  True  True  True  True False  True False False  True  True\n",
      " False  True  True False False False False  True False False  True  True\n",
      "  True False  True  True False  True  True  True False False  True  True\n",
      "  True  True  True False False  True]\n",
      "(3007, 37)\n",
      "(3007, 54)\n",
      "C:0.29, score = 0.6536655448099716\n",
      "[ True  True False  True  True  True  True  True  True  True  True  True\n",
      "  True  True  True  True  True  True False False False False  True  True\n",
      " False  True  True False False False False  True False False  True  True\n",
      "  True False  True  True False  True  True  True False False  True  True\n",
      "  True  True  True False False  True]\n",
      "(3007, 36)\n",
      "(3007, 54)\n",
      "C:0.3, score = 0.6536655448099716\n",
      "[ True  True False  True  True  True  True  True  True  True  True  True\n",
      "  True  True  True  True  True  True False  True False False  True  True\n",
      " False False  True False False False False  True False False  True  True\n",
      "  True False  True  True False  True  True  True False False  True  True\n",
      "  True False  True False False  True]\n",
      "(3007, 35)\n",
      "(3007, 54)\n",
      "C:0.31, score = 0.6536655448099716\n",
      "[ True  True False  True  True  True  True  True  True  True  True  True\n",
      "  True  True  True  True  True  True False  True False False  True  True\n",
      " False False  True False False False False  True False False  True  True\n",
      "  True False  True  True False  True  True  True False False  True  True\n",
      "  True  True  True False False  True]\n",
      "(3007, 36)\n",
      "(3007, 54)\n",
      "C:0.32, score = 0.6536655448099716\n",
      "[ True  True False  True  True  True  True  True  True  True  True  True\n",
      "  True  True  True  True  True  True False  True False False  True  True\n",
      " False  True  True False False False False  True False False  True  True\n",
      "  True False  True  True False  True  True  True False False  True  True\n",
      "  True  True  True False False  True]\n",
      "(3007, 37)\n",
      "(3007, 54)\n",
      "C:0.33, score = 0.6536655448099716\n",
      "[ True  True False  True  True  True  True  True  True  True  True  True\n",
      "  True  True  True  True  True  True False  True False False  True  True\n",
      " False  True  True False False False False  True False False  True  True\n",
      "  True False  True  True False  True  True  True False False  True  True\n",
      "  True  True  True False False  True]\n",
      "(3007, 37)\n",
      "(3007, 54)\n",
      "C:0.34, score = 0.6536655448099716\n",
      "[ True  True False  True  True  True  True  True  True  True  True  True\n",
      "  True  True  True  True  True  True False  True False False  True  True\n",
      " False  True  True False False False False  True False False  True  True\n",
      "  True False  True  True False  True  True  True False False  True  True\n",
      "  True False  True False False  True]\n",
      "(3007, 36)\n",
      "(3007, 54)\n",
      "C:0.35000000000000003, score = 0.6536655448099716\n",
      "[ True  True False  True  True  True  True  True  True  True  True  True\n",
      "  True  True  True  True  True  True False  True False False  True  True\n",
      " False  True  True False False False False  True False False  True  True\n",
      "  True False  True  True False  True  True  True False False  True  True\n",
      "  True  True  True False False  True]\n",
      "(3007, 37)\n",
      "(3007, 54)\n",
      "C:0.36, score = 0.6536655448099716\n",
      "[ True  True False  True  True  True  True  True  True  True  True  True\n",
      "  True  True  True  True  True  True False  True False False  True  True\n",
      " False  True  True False False False False  True False False  True  True\n",
      "  True False  True  True False  True  True  True False False  True  True\n",
      "  True  True  True False False  True]\n",
      "(3007, 37)\n",
      "(3007, 54)\n",
      "C:0.37, score = 0.6536655448099716\n",
      "[ True  True False  True  True  True  True  True  True  True  True  True\n",
      "  True  True  True  True  True  True False  True False False  True False\n",
      " False  True  True False False False False  True False False  True  True\n",
      "  True False  True  True False  True  True  True False False  True  True\n",
      "  True  True  True False False  True]\n",
      "(3007, 36)\n",
      "(3007, 54)\n",
      "C:0.38, score = 0.6536655448099716\n",
      "[ True  True False  True  True  True  True  True  True  True  True  True\n",
      "  True  True  True  True  True  True False  True False False  True  True\n",
      " False  True  True False False False False  True False False  True  True\n",
      "  True False  True  True False False  True  True False False  True  True\n",
      "  True  True  True False False  True]\n",
      "(3007, 36)\n",
      "(3007, 54)\n",
      "C:0.39, score = 0.6536655448099716\n",
      "[ True  True False  True  True  True  True  True  True  True  True  True\n",
      "  True  True  True  True  True  True False  True False False  True  True\n",
      " False  True  True False False False False  True False False  True  True\n",
      "  True False  True  True False  True  True  True False False  True  True\n",
      "  True  True  True False False  True]\n",
      "(3007, 37)\n",
      "(3007, 54)\n",
      "C:0.4, score = 0.6536655448099716\n",
      "[ True  True False  True  True  True  True  True  True  True  True  True\n",
      "  True  True  True  True  True  True False  True False False  True  True\n",
      " False  True  True False False False False  True False False  True  True\n",
      "  True False  True  True False  True  True  True False False  True  True\n",
      "  True False  True False False  True]\n",
      "(3007, 36)\n",
      "(3007, 54)\n",
      "C:0.41000000000000003, score = 0.6536655448099716\n",
      "[ True  True False  True  True  True  True  True  True  True  True  True\n",
      "  True  True  True  True  True  True False  True False False  True  True\n",
      " False  True  True False False False False  True False False  True  True\n",
      "  True False  True  True False  True  True  True False False  True  True\n",
      "  True  True  True False False  True]\n",
      "(3007, 37)\n",
      "(3007, 54)\n",
      "C:0.42, score = 0.6536655448099716\n",
      "[ True  True False  True  True  True  True  True  True  True  True  True\n",
      "  True  True  True  True  True  True False  True False False  True  True\n",
      " False  True False False False False False  True False False  True  True\n",
      "  True False  True  True False  True  True  True False False  True  True\n",
      "  True  True  True False False  True]\n",
      "(3007, 36)\n",
      "(3007, 54)\n",
      "C:0.43, score = 0.6536655448099716\n",
      "[ True  True False  True  True  True  True  True  True  True  True  True\n",
      "  True  True  True  True  True  True False  True False False  True  True\n",
      " False  True  True False False False False  True False False  True  True\n",
      "  True False  True  True False  True  True  True False False  True  True\n",
      "  True  True  True False False  True]\n",
      "(3007, 37)\n",
      "(3007, 54)\n"
     ]
    },
    {
     "name": "stdout",
     "output_type": "stream",
     "text": [
      "C:0.44, score = 0.6536655448099716\n",
      "[ True  True False  True  True  True  True  True  True  True  True  True\n",
      "  True  True  True  True  True  True False  True False False  True  True\n",
      " False  True  True False False False False  True False False  True  True\n",
      "  True False  True  True False  True  True  True False False  True  True\n",
      "  True  True  True False False  True]\n",
      "(3007, 37)\n",
      "(3007, 54)\n",
      "C:0.45, score = 0.6536655448099716\n",
      "[ True  True False  True  True  True  True  True  True  True  True  True\n",
      "  True  True  True  True  True  True False  True False False  True  True\n",
      " False  True  True False False False False  True False False  True  True\n",
      "  True False  True  True False  True  True  True False False  True  True\n",
      "  True  True  True False False  True]\n",
      "(3007, 37)\n",
      "(3007, 54)\n",
      "C:0.46, score = 0.6536655448099716\n",
      "[ True  True False  True  True  True  True  True  True  True  True  True\n",
      "  True  True  True  True  True  True False  True False False  True  True\n",
      " False  True  True False False False False  True False False  True  True\n",
      "  True False  True  True False  True  True  True False False  True  True\n",
      "  True False  True False False  True]\n",
      "(3007, 36)\n",
      "(3007, 54)\n",
      "C:0.47000000000000003, score = 0.6536655448099716\n",
      "[ True  True False  True  True  True  True  True  True  True  True  True\n",
      "  True  True  True  True  True  True False  True False False  True  True\n",
      " False  True  True False False False False  True False False  True  True\n",
      "  True False  True  True False  True  True  True False False  True  True\n",
      "  True  True  True False False  True]\n",
      "(3007, 37)\n",
      "(3007, 54)\n",
      "C:0.48, score = 0.6536655448099716\n",
      "[ True  True False  True  True  True  True  True  True  True  True  True\n",
      "  True  True  True  True  True  True False False False False  True  True\n",
      " False  True  True False False False False  True False False  True  True\n",
      "  True False  True  True False  True  True  True False False  True  True\n",
      "  True  True  True False False  True]\n",
      "(3007, 36)\n",
      "(3007, 54)\n",
      "C:0.49, score = 0.6536655448099716\n",
      "[ True  True False  True  True  True  True  True  True  True  True  True\n",
      "  True  True  True  True  True  True False  True False False  True  True\n",
      " False  True False False False False False  True False False  True  True\n",
      "  True False  True  True False  True  True  True False False  True  True\n",
      "  True  True  True False False  True]\n",
      "(3007, 36)\n",
      "(3007, 54)\n",
      "C:0.5, score = 0.6536655448099716\n",
      "[ True  True False  True  True  True  True  True  True  True  True  True\n",
      "  True  True  True  True  True  True False  True False False  True  True\n",
      " False  True False False False False False  True False False  True  True\n",
      "  True False  True  True False  True  True  True False False  True  True\n",
      "  True  True  True False False  True]\n",
      "(3007, 36)\n",
      "(3007, 54)\n",
      "C:0.51, score = 0.6536655448099716\n",
      "[ True  True False  True  True  True  True  True  True  True  True  True\n",
      "  True  True  True  True  True  True False  True False False  True False\n",
      " False  True  True False False False False  True False False  True  True\n",
      "  True False  True  True False  True  True  True False False  True  True\n",
      "  True  True  True False False  True]\n",
      "(3007, 36)\n",
      "(3007, 54)\n",
      "C:0.52, score = 0.6536655448099716\n",
      "[ True  True False  True  True  True  True  True  True  True  True  True\n",
      "  True  True  True  True  True  True False  True False False  True  True\n",
      " False  True  True False False False False  True False False  True  True\n",
      "  True False  True  True False  True  True  True False False  True  True\n",
      "  True False  True False False  True]\n",
      "(3007, 36)\n",
      "(3007, 54)\n",
      "C:0.53, score = 0.6536655448099716\n",
      "[ True  True False  True  True  True  True  True  True  True  True  True\n",
      "  True  True  True  True  True  True False  True False False  True  True\n",
      " False  True  True False False False False  True False False  True  True\n",
      "  True False  True  True False  True  True  True False False  True  True\n",
      "  True  True  True False False  True]\n",
      "(3007, 37)\n",
      "(3007, 54)\n",
      "C:0.54, score = 0.6536655448099716\n",
      "[ True  True False  True  True  True  True  True  True  True  True  True\n",
      "  True  True  True  True  True  True False  True False False  True  True\n",
      " False  True  True False False False False  True False False  True  True\n",
      "  True False  True  True False  True  True  True False False  True  True\n",
      "  True  True  True False False  True]\n",
      "(3007, 37)\n",
      "(3007, 54)\n",
      "C:0.55, score = 0.6536655448099716\n",
      "[ True  True False  True  True  True  True  True  True  True  True  True\n",
      "  True  True  True  True  True  True False  True False False  True  True\n",
      " False  True  True False False False False  True False False  True  True\n",
      "  True False  True  True False  True  True  True False False  True  True\n",
      "  True  True  True False False  True]\n",
      "(3007, 37)\n",
      "(3007, 54)\n",
      "C:0.56, score = 0.6536655448099716\n",
      "[ True  True False  True  True  True  True  True  True  True  True  True\n",
      "  True  True  True  True  True  True False  True False False  True  True\n",
      " False  True  True False False False False  True False False  True  True\n",
      "  True False  True  True False  True  True  True False False  True  True\n",
      "  True  True  True False False  True]\n",
      "(3007, 37)\n",
      "(3007, 54)\n",
      "C:0.5700000000000001, score = 0.6536655448099716\n",
      "[ True  True False  True  True  True  True  True  True  True  True  True\n",
      "  True  True  True  True  True  True False  True False False  True  True\n",
      " False  True  True False False False False  True False False  True  True\n",
      "  True False  True  True False  True  True  True False False  True  True\n",
      "  True  True  True False False  True]\n",
      "(3007, 37)\n",
      "(3007, 54)\n",
      "C:0.58, score = 0.6536655448099716\n",
      "[ True  True False  True  True  True  True  True  True  True  True  True\n",
      "  True  True  True  True  True  True False  True False False  True  True\n",
      " False  True False False False False False  True False False  True  True\n",
      "  True False  True  True False  True  True  True False False  True  True\n",
      "  True  True  True False False  True]\n",
      "(3007, 36)\n",
      "(3007, 54)\n",
      "C:0.59, score = 0.6536655448099716\n",
      "[ True  True False  True  True  True  True  True  True  True  True  True\n",
      "  True  True  True  True  True  True False  True False False  True  True\n",
      " False  True  True False False False False  True False False  True  True\n",
      "  True False  True  True False  True  True  True False False  True  True\n",
      "  True  True  True False False  True]\n",
      "(3007, 37)\n",
      "(3007, 54)\n",
      "C:0.6, score = 0.6536655448099716\n",
      "[ True  True False  True  True  True  True  True  True  True  True  True\n",
      "  True  True  True  True  True  True False  True False False  True  True\n",
      " False  True False False False False False  True False False  True  True\n",
      "  True False  True  True False  True  True  True False False  True  True\n",
      "  True  True  True False False  True]\n",
      "(3007, 36)\n",
      "(3007, 54)\n",
      "C:0.61, score = 0.6536655448099716\n",
      "[ True  True False  True  True  True  True  True  True  True  True  True\n",
      "  True  True  True  True  True  True False  True False False  True  True\n",
      " False  True  True False False False False  True False False  True  True\n",
      "  True False  True  True False  True  True  True False False  True  True\n",
      "  True False  True False False  True]\n",
      "(3007, 36)\n",
      "(3007, 54)\n",
      "C:0.62, score = 0.6536655448099716\n",
      "[ True  True False  True  True  True  True  True  True  True  True  True\n",
      "  True  True  True  True  True  True False  True False False  True  True\n",
      " False  True False False False False False  True False False  True  True\n",
      "  True False  True  True False  True  True  True False False False  True\n",
      "  True  True  True False False  True]\n",
      "(3007, 35)\n",
      "(3007, 54)\n",
      "C:0.63, score = 0.6536655448099716\n",
      "[ True  True False  True  True  True  True  True  True  True  True  True\n",
      "  True  True  True  True  True  True False  True False False  True  True\n",
      " False False  True False False False False  True False False  True  True\n",
      "  True False  True  True False  True  True  True False False  True  True\n",
      "  True  True  True False False  True]\n",
      "(3007, 36)\n",
      "(3007, 54)\n",
      "C:0.64, score = 0.6536655448099716\n",
      "[ True  True False  True  True  True  True  True  True  True  True  True\n",
      "  True  True  True  True  True  True  True  True False False  True  True\n",
      " False  True False False False False False  True False False  True  True\n",
      "  True False  True  True False  True  True  True False False  True  True\n",
      "  True  True  True False False  True]\n",
      "(3007, 37)\n",
      "(3007, 54)\n",
      "C:0.65, score = 0.653638939512857\n",
      "[ True  True False  True  True  True  True  True  True  True  True  True\n",
      "  True  True  True  True  True  True  True  True False False  True  True\n",
      " False  True  True False False False False  True False False  True  True\n",
      "  True False  True  True False  True  True  True False False  True  True\n",
      "  True  True  True False False  True]\n",
      "(3007, 38)\n",
      "(3007, 54)\n"
     ]
    },
    {
     "name": "stdout",
     "output_type": "stream",
     "text": [
      "C:0.66, score = 0.653638939512857\n",
      "[ True  True False  True  True  True  True  True  True  True  True  True\n",
      "  True  True  True  True  True  True  True  True False False  True  True\n",
      " False  True  True False False False False  True False False  True  True\n",
      "  True False  True  True False  True  True  True False False  True  True\n",
      "  True  True  True False False  True]\n",
      "(3007, 38)\n",
      "(3007, 54)\n",
      "C:0.67, score = 0.653638939512857\n",
      "[ True  True False  True  True  True  True  True  True  True  True  True\n",
      "  True  True  True  True  True  True  True  True False False  True  True\n",
      " False  True  True False False False False  True False False  True  True\n",
      "  True False  True  True False  True  True  True False False  True  True\n",
      "  True  True  True False False  True]\n",
      "(3007, 38)\n",
      "(3007, 54)\n",
      "C:0.68, score = 0.653638939512857\n",
      "[ True  True False  True  True  True  True  True  True  True  True  True\n",
      "  True  True  True  True  True  True  True  True False False  True  True\n",
      " False  True  True False False False False  True False False  True  True\n",
      "  True False  True  True False  True  True  True False False  True  True\n",
      "  True  True  True False False  True]\n",
      "(3007, 38)\n",
      "(3007, 54)\n",
      "C:0.6900000000000001, score = 0.653638939512857\n",
      "[ True  True False  True  True  True  True  True  True  True  True  True\n",
      "  True  True  True  True  True  True  True  True False False  True  True\n",
      " False  True  True False False False False  True False False  True  True\n",
      "  True False  True  True False  True  True  True False False  True  True\n",
      "  True  True  True False False  True]\n",
      "(3007, 38)\n",
      "(3007, 54)\n",
      "C:0.7000000000000001, score = 0.653638939512857\n",
      "[ True  True False  True  True  True  True  True  True  True  True  True\n",
      "  True  True  True  True  True  True  True  True False False  True  True\n",
      " False  True  True False False False False  True False False  True  True\n",
      "  True False  True  True False  True  True  True False False  True  True\n",
      "  True  True  True False False  True]\n",
      "(3007, 38)\n",
      "(3007, 54)\n",
      "C:0.71, score = 0.653638939512857\n",
      "[ True  True False  True  True  True  True  True  True  True  True  True\n",
      "  True  True  True  True  True  True  True  True False False  True  True\n",
      " False  True  True False False False False  True False False  True  True\n",
      "  True False  True  True False  True  True  True False False  True  True\n",
      "  True False  True False False  True]\n",
      "(3007, 37)\n",
      "(3007, 54)\n",
      "C:0.72, score = 0.653638939512857\n",
      "[ True  True False  True  True  True  True  True  True  True  True  True\n",
      "  True  True  True  True  True  True  True  True False False  True  True\n",
      " False  True False False False False False  True False False  True  True\n",
      "  True False  True  True False  True  True  True False False  True  True\n",
      "  True  True  True False False  True]\n",
      "(3007, 37)\n",
      "(3007, 54)\n",
      "C:0.73, score = 0.653638939512857\n",
      "[ True  True False  True  True  True  True  True  True  True  True  True\n",
      "  True  True  True  True  True  True  True  True False False  True  True\n",
      " False  True  True False False False False  True False  True  True  True\n",
      "  True False  True  True False  True  True  True False False  True  True\n",
      "  True  True  True False False  True]\n",
      "(3007, 39)\n",
      "(3007, 54)\n",
      "C:0.74, score = 0.6538251765926596\n",
      "[ True  True False  True  True  True  True  True  True  True  True  True\n",
      "  True  True  True  True  True  True  True  True False False  True  True\n",
      " False  True  True False False False False  True False  True  True  True\n",
      "  True False  True  True False  True  True  True False False  True  True\n",
      "  True  True  True False False  True]\n",
      "(3007, 39)\n",
      "(3007, 54)\n",
      "C:0.75, score = 0.6538251765926596\n",
      "[ True  True False  True  True  True  True  True  True  True  True  True\n",
      "  True  True  True  True  True  True  True  True False False  True  True\n",
      " False  True  True False False False False  True False  True  True  True\n",
      "  True False  True  True False  True  True  True False False  True  True\n",
      "  True  True  True False False  True]\n",
      "(3007, 39)\n",
      "(3007, 54)\n",
      "C:0.76, score = 0.6538251765926596\n",
      "[ True  True False  True  True  True  True  True  True  True  True  True\n",
      "  True  True  True  True  True  True  True  True False False  True  True\n",
      " False  True  True False False False False  True False  True  True  True\n",
      "  True False  True  True False  True  True  True False False  True  True\n",
      "  True  True  True  True False  True]\n",
      "(3007, 40)\n",
      "(3007, 54)\n",
      "C:0.77, score = 0.653918295132561\n",
      "[ True  True False  True  True  True  True  True  True  True  True  True\n",
      "  True  True  True  True  True  True  True  True False False  True  True\n",
      " False  True  True False False False False  True False  True  True  True\n",
      "  True False  True  True False  True  True  True False False  True  True\n",
      "  True  True  True  True False  True]\n",
      "(3007, 40)\n",
      "(3007, 54)\n",
      "C:0.78, score = 0.653918295132561\n",
      "[ True  True False  True  True  True  True  True  True  True  True  True\n",
      "  True  True  True  True  True  True  True  True False False  True  True\n",
      " False False  True False  True False False  True False  True  True  True\n",
      "  True False  True  True False False  True  True False False  True  True\n",
      "  True  True  True  True False  True]\n",
      "(3007, 39)\n",
      "(3007, 54)\n",
      "C:0.79, score = 0.653918295132561\n",
      "[ True  True False  True  True  True  True  True  True  True  True  True\n",
      "  True  True  True  True  True  True  True  True False False  True  True\n",
      " False  True False False  True False False  True False  True  True  True\n",
      "  True False  True  True False  True  True  True False False False  True\n",
      "  True  True  True  True False  True]\n",
      "(3007, 39)\n",
      "(3007, 54)\n",
      "C:0.8, score = 0.653918295132561\n",
      "[ True  True False  True  True  True  True  True  True  True  True  True\n",
      "  True  True  True  True  True  True  True  True False False  True  True\n",
      " False  True  True False  True False False  True False  True  True  True\n",
      "  True False  True  True False  True  True  True False False  True  True\n",
      "  True  True  True  True False  True]\n",
      "(3007, 41)\n",
      "(3007, 54)\n",
      "C:0.81, score = 0.653918295132561\n",
      "[ True  True False  True  True  True  True  True  True  True  True  True\n",
      "  True  True  True  True  True  True  True  True False False  True  True\n",
      " False  True  True False  True False False  True False  True  True  True\n",
      "  True False  True  True False False  True  True False False  True  True\n",
      "  True False  True  True False  True]\n",
      "(3007, 39)\n",
      "(3007, 54)\n",
      "C:0.8200000000000001, score = 0.653918295132561\n",
      "[ True  True False  True  True  True  True  True  True  True  True  True\n",
      "  True  True  True  True  True  True  True  True False False  True  True\n",
      " False  True  True False  True False False  True False  True  True  True\n",
      "  True False  True  True False  True  True  True False False  True  True\n",
      "  True False  True  True False  True]\n",
      "(3007, 40)\n",
      "(3007, 54)\n",
      "C:0.8300000000000001, score = 0.653918295132561\n",
      "[ True  True False  True  True  True  True  True  True  True  True  True\n",
      "  True  True  True  True  True  True  True  True False False  True  True\n",
      " False  True False False  True  True False  True False  True  True  True\n",
      "  True False  True  True False  True  True  True False False False  True\n",
      "  True  True  True  True  True  True]\n",
      "(3007, 41)\n",
      "(3007, 54)\n",
      "C:0.84, score = 0.6539315977811182\n",
      "[ True  True False  True  True  True  True  True  True  True  True  True\n",
      "  True  True  True  True  True  True  True  True False False  True  True\n",
      " False  True  True False  True  True False  True False  True  True  True\n",
      "  True False  True  True False  True  True  True False False  True  True\n",
      "  True  True  True  True  True  True]\n",
      "(3007, 43)\n",
      "(3007, 54)\n",
      "C:0.85, score = 0.6539315977811182\n",
      "[ True  True False  True  True  True  True  True  True  True  True  True\n",
      "  True  True  True  True  True  True  True  True False False  True  True\n",
      " False  True  True False  True  True False  True False  True  True  True\n",
      "  True False  True  True False  True  True  True False False  True  True\n",
      "  True False  True  True  True  True]\n",
      "(3007, 42)\n",
      "(3007, 54)\n",
      "C:0.86, score = 0.6539315977811182\n",
      "[ True  True False  True  True  True  True  True  True  True  True  True\n",
      "  True  True  True  True  True  True  True  True False False  True  True\n",
      " False False False False  True  True False  True False  True  True  True\n",
      "  True False  True  True False  True  True  True False False  True  True\n",
      "  True  True  True  True  True  True]\n",
      "(3007, 41)\n",
      "(3007, 54)\n",
      "C:0.87, score = 0.6539315977811182\n",
      "[ True  True False  True  True  True  True  True  True  True  True  True\n",
      "  True  True  True  True  True  True  True  True False False  True  True\n",
      " False  True  True False  True  True False  True False  True  True  True\n",
      "  True  True  True  True False  True  True  True False False  True  True\n",
      "  True  True  True  True  True  True]\n",
      "(3007, 44)\n",
      "(3007, 54)\n"
     ]
    },
    {
     "name": "stdout",
     "output_type": "stream",
     "text": [
      "C:0.88, score = 0.6539315977811182\n",
      "[ True  True False  True  True  True  True  True  True  True  True  True\n",
      "  True  True  True  True  True  True  True  True  True False  True False\n",
      " False  True  True False  True  True False  True False  True  True  True\n",
      "  True  True  True  True False  True  True  True False False  True  True\n",
      "  True  True  True  True  True  True]\n",
      "(3007, 44)\n",
      "(3007, 54)\n",
      "C:0.89, score = 0.6539315977811182\n",
      "[ True  True False  True  True  True  True  True  True  True  True  True\n",
      "  True  True  True  True  True  True  True  True  True False  True  True\n",
      " False  True  True False  True  True False  True False  True  True  True\n",
      "  True  True  True  True False  True  True  True False False  True  True\n",
      "  True  True  True  True  True  True]\n",
      "(3007, 45)\n",
      "(3007, 54)\n",
      "C:0.9, score = 0.6539315977811182\n",
      "[ True  True False  True  True  True  True  True  True  True  True  True\n",
      "  True  True  True  True  True  True  True  True  True False  True  True\n",
      " False  True  True False  True  True False  True False  True  True  True\n",
      "  True  True  True  True False  True  True  True False False  True  True\n",
      "  True  True  True  True  True  True]\n",
      "(3007, 45)\n",
      "(3007, 54)\n",
      "C:0.91, score = 0.6539315977811182\n",
      "[ True  True False  True  True  True  True  True  True  True  True  True\n",
      "  True  True  True  True  True  True  True  True  True False  True  True\n",
      " False  True  True False  True  True False  True False  True  True  True\n",
      "  True  True  True  True False  True  True  True False False  True  True\n",
      "  True  True  True  True  True  True]\n",
      "(3007, 45)\n",
      "(3007, 54)\n",
      "C:0.92, score = 0.6539315977811182\n",
      "[ True  True False  True  True  True  True  True  True  True  True  True\n",
      "  True  True  True  True  True  True  True  True  True False  True  True\n",
      " False  True False False  True  True False  True False  True  True  True\n",
      "  True  True  True  True False  True  True  True False False  True  True\n",
      "  True  True  True  True  True  True]\n",
      "(3007, 44)\n",
      "(3007, 54)\n",
      "C:0.93, score = 0.6539315977811182\n",
      "[ True  True False  True  True  True  True  True  True  True  True  True\n",
      "  True  True  True  True  True  True  True  True  True False  True  True\n",
      " False  True  True False  True  True False  True False  True  True  True\n",
      "  True  True  True  True False  True  True  True False False  True  True\n",
      "  True  True  True  True  True  True]\n",
      "(3007, 45)\n",
      "(3007, 54)\n",
      "C:0.9400000000000001, score = 0.6539315977811182\n",
      "[ True  True False  True  True  True  True  True  True  True  True  True\n",
      "  True  True  True  True  True  True  True  True  True False  True  True\n",
      " False  True False False  True  True False  True False  True  True  True\n",
      "  True  True  True  True False False  True  True False False  True  True\n",
      "  True  True  True  True  True  True]\n",
      "(3007, 43)\n",
      "(3007, 54)\n",
      "C:0.9500000000000001, score = 0.6539315977811182\n",
      "[ True  True False  True  True  True  True  True  True  True  True  True\n",
      "  True  True  True  True  True  True  True  True  True False  True  True\n",
      " False  True  True False  True  True False  True False  True  True  True\n",
      "  True  True  True  True False  True  True  True False False  True  True\n",
      "  True False  True  True  True  True]\n",
      "(3007, 44)\n",
      "(3007, 54)\n",
      "C:0.96, score = 0.6539315977811182\n",
      "[ True  True False  True  True  True  True  True  True  True  True  True\n",
      "  True  True  True  True  True  True  True  True  True False  True  True\n",
      " False  True  True False  True  True False  True False  True  True  True\n",
      "  True  True  True  True False  True  True  True False False  True  True\n",
      "  True  True  True  True  True  True]\n",
      "(3007, 45)\n",
      "(3007, 54)\n",
      "C:0.97, score = 0.6539315977811182\n",
      "[ True  True False  True  True  True  True  True  True  True  True  True\n",
      "  True  True  True  True  True  True  True  True  True False  True  True\n",
      " False  True  True False  True  True False  True False  True  True  True\n",
      "  True  True  True  True False  True  True  True False False  True  True\n",
      "  True  True  True  True  True  True]\n",
      "(3007, 45)\n",
      "(3007, 54)\n",
      "C:0.98, score = 0.6539315977811182\n",
      "[ True  True False  True  True  True  True  True  True  True  True  True\n",
      "  True  True  True  True  True  True  True  True  True False  True  True\n",
      " False  True  True False  True  True False  True False  True  True  True\n",
      "  True  True  True  True False  True  True  True False False  True  True\n",
      "  True  True  True  True  True  True]\n",
      "(3007, 45)\n",
      "(3007, 54)\n",
      "C:0.99, score = 0.6539315977811182\n"
     ]
    }
   ],
   "source": [
    "#logistic回帰＋LASSOで変数選択し、SVCで学習する\n",
    "from sklearn.linear_model import LogisticRegression\n",
    "from sklearn.feature_selection import SelectFromModel\n",
    "\n",
    "model = SVC(kernel='rbf', C=30, gamma=300)\n",
    "C_list = [i*0.01 for i in range(1, 100, 1)]\n",
    "result_pf = pd.DataFrame(columns=['C', 'SCORE'])\n",
    "\n",
    "for C in C_list:\n",
    "    clf = LogisticRegression(C=C, penalty='l1')\n",
    "    clf.fit(X_train_std, y_train2)\n",
    "    slm = SelectFromModel(clf, prefit=True)\n",
    "    \n",
    "    print(slm.get_support())\n",
    "    \n",
    "    #選択特徴量の抽出\n",
    "    train_x_data = X_train_std[:, slm.get_support()]\n",
    "    test_x_dat = X_fin_Test_std[:, slm.get_support()]\n",
    "    print(train_x_data.shape)\n",
    "    print(X_train_std.shape)\n",
    "    \n",
    "    #SVC\n",
    "    model.fit(train_x_data, y_train2)\n",
    "    score = model.score(test_x_dat, y_test)\n",
    "    print(\"C:\" + str(C) + \", score = \" + str(score))\n",
    "    \n",
    "    tmp_se = pd.Series( [ C, score ], index=result_pf.columns )\n",
    "    result_pf = result_pf.append( tmp_se , ignore_index=True)"
   ]
  },
  {
   "cell_type": "code",
   "execution_count": 22,
   "metadata": {},
   "outputs": [
    {
     "data": {
      "text/plain": [
       "<matplotlib.axes._subplots.AxesSubplot at 0x1a0db42908>"
      ]
     },
     "execution_count": 22,
     "metadata": {},
     "output_type": "execute_result"
    },
    {
     "data": {
      "image/png": "[encoded data removed]",
      "text/plain": [
       "<matplotlib.figure.Figure at 0x104ee9588>"
      ]
     },
     "metadata": {},
     "output_type": "display_data"
    }
   ],
   "source": [
    "result_pf.plot.scatter(x='C', y='SCORE')"
   ]
  },
  {
   "cell_type": "markdown",
   "metadata": {},
   "source": [
    "- LASSOによる変数選択によっても, SVMでは大きく精度が向上はしていない"
   ]
  },
  {
   "cell_type": "markdown",
   "metadata": {},
   "source": [
    "## 決定木\n",
    "本データに対して、決定木で学習し、変数の重要度を確認してみる"
   ]
  },
  {
   "cell_type": "code",
   "execution_count": 42,
   "metadata": {},
   "outputs": [
    {
     "name": "stdout",
     "output_type": "stream",
     "text": [
      "validation score= 0.6540912295638062\n",
      "training score= 0.744885912022056\n"
     ]
    }
   ],
   "source": [
    "from sklearn.tree import DecisionTreeClassifier, export_graphviz\n",
    "clf = DecisionTreeClassifier(criterion=\"gini\", max_depth=None, min_samples_split=2, min_samples_leaf=1, random_state=1234)\n",
    "#決定木の場合は標準化が不要のため、標準化を実施せずに実行する\n",
    "clf = clf.fit(X_train, y_train)\n",
    "print(\"validation score=\", clf.score(X_test, y_test))\n",
    "print(\"training score=\", clf.score(X_train, y_train))"
   ]
  },
  {
   "cell_type": "code",
   "execution_count": 43,
   "metadata": {},
   "outputs": [
    {
     "name": "stdout",
     "output_type": "stream",
     "text": [
      "[1.84789200e-01 5.81066370e-01 7.18398489e-03 1.17308174e-02\n",
      " 6.42264133e-03 8.88197977e-03 8.38470678e-03 1.21718417e-02\n",
      " 1.15717943e-02 5.48452843e-03 9.93905692e-03 2.58446211e-03\n",
      " 1.97737199e-02 4.58102450e-03 6.18818295e-03 9.15041545e-03\n",
      " 1.91770898e-02 2.62124178e-03 2.90914293e-03 7.40260185e-04\n",
      " 4.43672608e-04 5.19536073e-03 2.54169379e-03 2.82744612e-04\n",
      " 7.76726799e-06 3.16221785e-04 4.67926323e-04 1.08887841e-03\n",
      " 6.25434373e-04 7.99614846e-04 3.95698703e-03 1.07651037e-03\n",
      " 2.94275177e-03 1.19175133e-03 3.65967903e-03 5.97324620e-04\n",
      " 2.93628956e-03 7.21788773e-04 3.23032452e-03 3.13386033e-03\n",
      " 2.11513687e-03 9.24539411e-04 1.91917634e-03 2.99968624e-03\n",
      " 9.46120660e-05 3.48024386e-04 5.43403381e-04 2.54417136e-02\n",
      " 3.17348756e-03 5.45650811e-04 1.31943485e-03 1.11895105e-03\n",
      " 6.62081476e-04 8.22505920e-03]\n"
     ]
    },
    {
     "data": {
      "image/png": "[encoded data removed]",
      "text/plain": [
       "<matplotlib.figure.Figure at 0x1a0eaf0470>"
      ]
     },
     "metadata": {},
     "output_type": "display_data"
    }
   ],
   "source": [
    "column = inp.columns\n",
    "print(clf.feature_importances_)\n",
    "pd.DataFrame(clf.feature_importances_, index=column).plot.bar(figsize=(10,10))\n",
    "plt.ylabel(\"Importance\")\n",
    "plt.xlabel(\"Features\")\n",
    "plt.show()"
   ]
  },
  {
   "cell_type": "markdown",
   "metadata": {},
   "source": [
    "#### 決定木の考察\n",
    "- 3種のアルゴリズムで同様の結果となっているため、データに起因した要因によって精度が悪化している可能性がある\n",
    "- 決定木でTrainigScoreを最大にするように学習したが、74%の精度しかない（＝アンダーフィッティングの状態）\n",
    "\n",
    "- 変数重要度を確認すると、極端にgoalの値に偏ったモデルになっているように見える\n",
    "- DAY1の解析結果から金額の大小は正否に多少の影響があるが、金額が大きくなるほど差が小さくなっており、これだけに依存しているのはよくないと判断する\n",
    "- SVMなど他のアルゴリズムでも金額以外のデータがうまく使えていない可能性がある\n",
    "\n",
    "- 一度金額を外したデータで学習し、他のデータが分類にどの程度影響しているのかを確認する\n",
    "- 過学習が原因であるならば、random forestなどの弱識別器による学習を試してみる"
   ]
  },
  {
   "cell_type": "markdown",
   "metadata": {},
   "source": [
    "### 金額を除去したデータでの決定木解析\n",
    "- goalに依存しないモデルを作成し、結果を確認する"
   ]
  },
  {
   "cell_type": "code",
   "execution_count": 33,
   "metadata": {},
   "outputs": [
    {
     "name": "stdout",
     "output_type": "stream",
     "text": [
      "(300689, 52)\n",
      "(75173, 52)\n"
     ]
    }
   ],
   "source": [
    "#goalの値を除去したデータを作成する\n",
    "X_train_g = X_train[:,2:]\n",
    "X_test_g = X_test[:,2:]\n",
    "print(X_train_g.shape)\n",
    "print(X_test_g.shape)"
   ]
  },
  {
   "cell_type": "code",
   "execution_count": 44,
   "metadata": {},
   "outputs": [
    {
     "name": "stdout",
     "output_type": "stream",
     "text": [
      "Validation score= 0.6557540606334721\n",
      "Training score= 0.6562627831413853\n"
     ]
    }
   ],
   "source": [
    "clf = DecisionTreeClassifier(criterion=\"gini\", max_depth=None, min_samples_split=2, min_samples_leaf=1, random_state=1234)\n",
    "#決定木の場合は標準化が不要のため、標準化を実施せずに実行する\n",
    "clf = clf.fit(X_train_g, y_train)\n",
    "print(\"Validation score=\", clf.score(X_test_g, y_test))\n",
    "print(\"Training score=\", clf.score(X_train_g, y_train))"
   ]
  },
  {
   "cell_type": "code",
   "execution_count": 45,
   "metadata": {},
   "outputs": [
    {
     "name": "stdout",
     "output_type": "stream",
     "text": [
      "[1.18076540e-02 8.82134115e-02 2.20480300e-02 6.26637424e-02\n",
      " 4.29908303e-03 4.06767922e-02 1.08557682e-03 3.88893312e-02\n",
      " 1.58036800e-03 1.90101307e-02 1.38756854e-01 6.68389850e-03\n",
      " 1.95701210e-02 1.74045421e-01 1.19304415e-01 1.24237592e-03\n",
      " 6.58801569e-03 1.18610606e-03 1.89099029e-03 2.37065242e-02\n",
      " 5.17875012e-03 1.67944702e-04 2.81157125e-04 1.27354962e-03\n",
      " 2.90611122e-04 3.74354306e-04 6.07004671e-04 4.66597603e-04\n",
      " 1.58000700e-02 5.39988934e-04 4.50379581e-03 6.38662907e-04\n",
      " 1.40990882e-03 1.59518774e-04 2.37099060e-03 5.28026952e-04\n",
      " 1.21096485e-03 4.27874164e-03 5.54910328e-03 3.22552342e-03\n",
      " 3.15323153e-04 4.17475674e-03 1.41518636e-04 7.15878219e-04\n",
      " 2.17918169e-03 1.29200211e-01 5.01798085e-04 1.14013263e-03\n",
      " 8.23793860e-04 1.40017062e-03 1.20470347e-03 2.60984258e-02]\n"
     ]
    },
    {
     "data": {
      "image/png": "[encoded data removed]",
      "text/plain": [
       "<matplotlib.figure.Figure at 0x10c4168d0>"
      ]
     },
     "metadata": {},
     "output_type": "display_data"
    }
   ],
   "source": [
    "column = inp.columns\n",
    "print(clf.feature_importances_)\n",
    "pd.DataFrame(clf.feature_importances_, index=column[2:]).plot.bar(figsize=(10,10))\n",
    "plt.ylabel(\"Importance\")\n",
    "plt.xlabel(\"Features\")\n",
    "plt.show()"
   ]
  },
  {
   "cell_type": "markdown",
   "metadata": {},
   "source": [
    "#### 結果の考察\n",
    "- 変数重要度について、多少の変動はあるものの概ね同じに見える\n",
    "- goalを外した状態では、TraingScoreは悪化し、Validation Scoreはほとんど変動しなかった\n",
    "- モデルとしては説明変数が足りていない可能性がある\n",
    "- モデルの表現力が不足している？（もう少し複雑なモデルで試してみる）\n"
   ]
  },
  {
   "cell_type": "markdown",
   "metadata": {},
   "source": [
    "### RandomForest\n",
    "モデルの表現力が不足しているため、精度が落ちているのかどうかをRandomForestと比較することで確認する"
   ]
  },
  {
   "cell_type": "code",
   "execution_count": 51,
   "metadata": {},
   "outputs": [
    {
     "name": "stdout",
     "output_type": "stream",
     "text": [
      "Validation score= 0.6448591914650207\n",
      "Training score= 0.6432892456990446\n",
      "Validation score= 0.6617003445385976\n",
      "Training score= 0.6632134863596606\n",
      "Validation score= 0.6516036342835858\n",
      "Training score= 0.7120978818646508\n",
      "Validation score= 0.6523219773056815\n",
      "Training score= 0.7120978818646508\n",
      "Validation score= 0.6448591914650207\n",
      "Training score= 0.6432892456990446\n",
      "Validation score= 0.669469091296077\n",
      "Training score= 0.6706098327507823\n",
      "Validation score= 0.6576031287829407\n",
      "Training score= 0.7366248848477995\n",
      "Validation score= 0.6575898261343833\n",
      "Training score= 0.7365350910741664\n",
      "Validation score= 0.6448591914650207\n",
      "Training score= 0.6432892456990446\n",
      "Validation score= 0.6679924973062137\n",
      "Training score= 0.6701941208358138\n",
      "Validation score= 0.6564058904127812\n",
      "Training score= 0.7443870577240936\n",
      "Validation score= 0.655953600361832\n",
      "Training score= 0.744383732028774\n",
      "Validation score= 0.6448591914650207\n",
      "Training score= 0.6432892456990446\n",
      "Validation score= 0.6684713926542775\n",
      "Training score= 0.6693028344901211\n",
      "Validation score= 0.6563659824671092\n",
      "Training score= 0.7448160724203413\n",
      "Validation score= 0.6559802056589467\n",
      "Training score= 0.7448094210297018\n"
     ]
    }
   ],
   "source": [
    "from sklearn.ensemble import RandomForestClassifier\n",
    "\n",
    "n_est_list = [1,10,50,100]\n",
    "max_depth_list = [1,10,50,100]\n",
    "\n",
    "res_df = pd.DataFrame(columns=['n_est', 'max_dep', 'validation', 'training'])\n",
    "\n",
    "\n",
    "for n_est in n_est_list:\n",
    "    for max_dep in max_depth_list:\n",
    "        clf = RandomForestClassifier(n_estimators=n_est, max_depth=max_dep, criterion=\"gini\",\n",
    "                                                 min_samples_leaf=1, min_samples_split=2, random_state=1234)\n",
    "        clf.fit(X_train, y_train)\n",
    "        print(\"Validation score=\", clf.score(X_test, y_test))\n",
    "        print(\"Training score=\", clf.score(X_train, y_train))\n",
    "        tmp_se = pd.Series( [ n_est, max_dep, clf.score(X_test, y_test), clf.score(X_train, y_train) ], index=res_df.columns )\n",
    "        res_df = res_df.append( tmp_se , ignore_index=True)\n"
   ]
  },
  {
   "cell_type": "code",
   "execution_count": 55,
   "metadata": {},
   "outputs": [
    {
     "data": {
      "text/plain": [
       "array([[0.64328925, 0.66321349, 0.71209788, 0.71209788],\n",
       "       [0.64328925, 0.67060983, 0.73662488, 0.73653509],\n",
       "       [0.64328925, 0.67019412, 0.74438706, 0.74438373],\n",
       "       [0.64328925, 0.66930283, 0.74481607, 0.74480942]])"
      ]
     },
     "execution_count": 55,
     "metadata": {},
     "output_type": "execute_result"
    }
   ],
   "source": [
    "#TrainingScoreが大きくなる組み合わせを探すためにTraingScoreを整形して確認\n",
    "res_df['training'].values.reshape(4,4)"
   ]
  },
  {
   "cell_type": "code",
   "execution_count": 58,
   "metadata": {},
   "outputs": [
    {
     "name": "stdout",
     "output_type": "stream",
     "text": [
      "[2.59281124e-01 5.48681787e-01 3.47889085e-03 9.98627392e-03\n",
      " 8.78771375e-03 8.05231472e-03 4.64579476e-03 1.22388884e-02\n",
      " 5.37952490e-03 8.22772548e-03 4.40203473e-03 4.30941263e-03\n",
      " 2.02630730e-02 4.29559381e-03 8.21737878e-03 1.48449577e-02\n",
      " 1.91388647e-02 9.06472578e-04 1.05775218e-03 3.88468733e-04\n",
      " 4.24481115e-04 3.51145199e-03 2.08492471e-03 4.77115782e-04\n",
      " 4.26803514e-05 4.36994525e-04 3.21493754e-04 5.66860247e-04\n",
      " 4.48024207e-04 4.01420678e-04 4.52730855e-03 6.57266497e-04\n",
      " 9.46110941e-04 7.72015428e-04 1.10427912e-03 3.75113096e-04\n",
      " 1.29751956e-03 4.35165642e-04 1.15130292e-03 1.49292426e-03\n",
      " 2.58986998e-03 3.95560935e-04 8.88674574e-04 1.57501789e-03\n",
      " 3.37907258e-05 2.38144558e-04 4.42939527e-04 1.33119610e-02\n",
      " 1.31294373e-03 3.15070925e-04 5.44320470e-04 4.59257158e-04\n",
      " 4.23093362e-04 9.41085516e-03]\n"
     ]
    },
    {
     "data": {
      "image/png": "[encoded data removed]",
      "text/plain": [
       "<matplotlib.figure.Figure at 0x1a1066c358>"
      ]
     },
     "metadata": {},
     "output_type": "display_data"
    }
   ],
   "source": [
    "# 説明変数の重要度を出力する\n",
    "# scikit-learnで算出される重要度は、ある説明変数による不純度の減少量合計である。\n",
    "print(clf.feature_importances_)\n",
    "pd.DataFrame(clf.feature_importances_, index=inp.columns).plot.bar(figsize=(10,10))\n",
    "plt.ylabel(\"Importance\")\n",
    "plt.xlabel(\"Features\")\n",
    "plt.show()"
   ]
  },
  {
   "cell_type": "markdown",
   "metadata": {},
   "source": [
    "### Ada Boostでの確認"
   ]
  },
  {
   "cell_type": "code",
   "execution_count": 62,
   "metadata": {},
   "outputs": [
    {
     "name": "stdout",
     "output_type": "stream",
     "text": [
      "Train score= 0.6432892456990446\n",
      "Validation score= 0.6448591914650207\n",
      "Train score= 0.6708758883763623\n",
      "Validation score= 0.6672608516355606\n",
      "Train score= 0.7210972133998916\n",
      "Validation score= 0.6589333936386734\n",
      "Train score= 0.72191200875323\n",
      "Validation score= 0.6589999068814602\n",
      "Train score= 0.6620661214743473\n",
      "Validation score= 0.6635361100395089\n",
      "Train score= 0.6832441492705087\n",
      "Validation score= 0.6705066978835487\n",
      "Train score= 0.7439680201138053\n",
      "Validation score= 0.6544770063719687\n",
      "Train score= 0.744885912022056\n",
      "Validation score= 0.655873784470488\n",
      "Train score= 0.6706696952665379\n",
      "Validation score= 0.6701342237239435\n",
      "Train score= 0.6955691761254984\n",
      "Validation score= 0.6659172841312705\n",
      "Train score= 0.744885912022056\n",
      "Validation score= 0.6549159937743605\n",
      "Train score= 0.744885912022056\n",
      "Validation score= 0.6555811262022269\n",
      "Train score= 0.6708426314231648\n",
      "Validation score= 0.6706397243691219\n",
      "Train score= 0.7090981046862372\n",
      "Validation score= 0.6619930028068588\n",
      "Train score= 0.744885912022056\n",
      "Validation score= 0.655261862636851\n",
      "Train score= 0.744885912022056\n",
      "Validation score= 0.6554081917709816\n"
     ]
    }
   ],
   "source": [
    "from sklearn.ensemble import AdaBoostClassifier\n",
    "from sklearn.tree import DecisionTreeClassifier\n",
    "\n",
    "n_est_list = [1,10,50,100]\n",
    "max_depth_list = [1,10,50,100]\n",
    "\n",
    "res_df = pd.DataFrame(columns=['n_est', 'max_dep', 'validation', 'training'])\n",
    "\n",
    "for n_est in n_est_list:\n",
    "    for max_dep in max_depth_list:\n",
    "        clf = AdaBoostClassifier(DecisionTreeClassifier(max_depth=max_dep,\n",
    "                                                                                 min_samples_leaf=2,\n",
    "                                                                                 min_samples_split=2, \n",
    "                                                                                 random_state=1234,\n",
    "                                                                                 criterion=\"gini\"),\n",
    "                                           n_estimators=n_est, random_state=1234)\n",
    "        clf.fit(X_train, y_train)\n",
    "        print(\"Train score=\", clf.score(X_train, y_train))\n",
    "        print(\"Validation score=\", clf.score(X_test, y_test))\n",
    "        tmp_se = pd.Series( [ n_est, max_dep, clf.score(X_test, y_test), clf.score(X_train, y_train) ], index=res_df.columns )\n",
    "        res_df = res_df.append( tmp_se , ignore_index=True)\n"
   ]
  },
  {
   "cell_type": "code",
   "execution_count": 63,
   "metadata": {},
   "outputs": [
    {
     "data": {
      "text/plain": [
       "array([[0.64328925, 0.67087589, 0.72109721, 0.72191201],\n",
       "       [0.66206612, 0.68324415, 0.74396802, 0.74488591],\n",
       "       [0.6706697 , 0.69556918, 0.74488591, 0.74488591],\n",
       "       [0.67084263, 0.7090981 , 0.74488591, 0.74488591]])"
      ]
     },
     "execution_count": 63,
     "metadata": {},
     "output_type": "execute_result"
    }
   ],
   "source": [
    "#TrainingScoreが大きくなる組み合わせを探すためにTraingScoreを整形して確認\n",
    "res_df['training'].values.reshape(4,4)"
   ]
  },
  {
   "cell_type": "code",
   "execution_count": 64,
   "metadata": {},
   "outputs": [
    {
     "name": "stdout",
     "output_type": "stream",
     "text": [
      "[           nan            nan            nan            nan\n",
      "            nan 1.28263806e-04            inf            nan\n",
      "            nan            nan            nan            nan\n",
      "            nan            nan            nan            nan\n",
      "            nan 3.60613841e-05 5.82879046e-05 3.20552868e-06\n",
      " 6.21568929e-06            nan            nan            nan\n",
      "            nan            nan            nan            nan\n",
      " 6.21569746e-06 1.40268424e-05            nan 1.78305238e-05\n",
      "            nan 9.95377076e-06            nan 9.13955756e-06\n",
      "            nan 4.86600369e-06            nan 9.39261287e-05\n",
      "            nan            nan 3.10729685e-05            nan\n",
      " 0.00000000e+00 5.20100482e-06 4.02575801e-06 3.15264732e-04\n",
      " 5.01549960e-05            nan 7.47006977e-06            nan\n",
      " 4.46507825e-06            nan]\n"
     ]
    },
    {
     "data": {
      "image/png": "[encoded data removed]",
      "text/plain": [
       "<matplotlib.figure.Figure at 0x1a0ff221d0>"
      ]
     },
     "metadata": {},
     "output_type": "display_data"
    }
   ],
   "source": [
    "# 説明変数の重要度を出力する\n",
    "# scikit-learnで算出される重要度は、ある説明変数による不純度の減少量合計である。\n",
    "print(clf.feature_importances_)\n",
    "pd.DataFrame(clf.feature_importances_, index=inp.columns).plot.bar(figsize=(10,10))\n",
    "plt.ylabel(\"Importance\")\n",
    "plt.xlabel(\"Features\")\n",
    "plt.show()"
   ]
  },
  {
   "cell_type": "markdown",
   "metadata": {},
   "source": [
    "- AdaBoostでも特に精度の改善は見られなかった"
   ]
  },
  {
   "cell_type": "markdown",
   "metadata": {},
   "source": [
    "### ニューラルネットワーク\n",
    "ニューラルネットワークでの精度を確認する"
   ]
  },
  {
   "cell_type": "code",
   "execution_count": 67,
   "metadata": {},
   "outputs": [],
   "source": [
    "#y を　one-hot vectorに変換する\n",
    "from keras.utils import np_utils\n",
    "y_train_one_hot = np_utils.to_categorical(y_train)\n",
    "y_test_one_hot = np_utils.to_categorical(y_test)"
   ]
  },
  {
   "cell_type": "code",
   "execution_count": 73,
   "metadata": {},
   "outputs": [],
   "source": [
    "# 乱数シード値を固定する\n",
    "import os\n",
    "import numpy as np\n",
    "import random as rn\n",
    "import tensorflow as tf\n",
    "\n",
    "os.environ['PYTHONHASHSEED'] = '0'\n",
    "np.random.seed(7)\n",
    "rn.seed(7)\n",
    "\n",
    "session_conf = tf.ConfigProto(\n",
    "    intra_op_parallelism_threads=1,\n",
    "    inter_op_parallelism_threads=1\n",
    ")\n",
    "\n",
    "from keras import backend as K\n",
    "\n",
    "tf.set_random_seed(7)\n",
    "sess = tf.Session(graph=tf.get_default_graph(), config=session_conf)\n",
    "K.set_session(sess)"
   ]
  },
  {
   "cell_type": "code",
   "execution_count": 76,
   "metadata": {},
   "outputs": [
    {
     "name": "stdout",
     "output_type": "stream",
     "text": [
      "Train on 300689 samples, validate on 75173 samples\n",
      "Epoch 1/5\n",
      "300689/300689 [==============================] - 27s 90us/step - loss: 9.8911 - acc: 0.3860 - val_loss: 10.3890 - val_acc: 0.3552\n",
      "Epoch 2/5\n",
      "300689/300689 [==============================] - 27s 89us/step - loss: 6.7364 - acc: 0.5819 - val_loss: 5.7242 - val_acc: 0.6449\n",
      "Epoch 3/5\n",
      "300689/300689 [==============================] - 28s 92us/step - loss: 5.7495 - acc: 0.6433 - val_loss: 5.7242 - val_acc: 0.6449\n",
      "Epoch 4/5\n",
      "300689/300689 [==============================] - 28s 93us/step - loss: 5.7495 - acc: 0.6433 - val_loss: 5.7242 - val_acc: 0.6449\n",
      "Epoch 5/5\n",
      "300689/300689 [==============================] - 27s 90us/step - loss: 5.7495 - acc: 0.6433 - val_loss: 5.7242 - val_acc: 0.6449\n"
     ]
    },
    {
     "data": {
      "image/png": "[encoded data removed]",
      "text/plain": [
       "<matplotlib.figure.Figure at 0x1a18829cf8>"
      ]
     },
     "metadata": {},
     "output_type": "display_data"
    },
    {
     "data": {
      "image/png": "[encoded data removed]",
      "text/plain": [
       "<matplotlib.figure.Figure at 0x1a1883f470>"
      ]
     },
     "metadata": {},
     "output_type": "display_data"
    }
   ],
   "source": [
    "#epochを変えてみる\n",
    "import keras\n",
    "from keras.models import Sequential\n",
    "from keras.layers import Dense, Dropout, Activation\n",
    "from keras.optimizers import SGD,RMSprop, Adagrad, Adadelta, Adam\n",
    "from keras.utils import np_utils\n",
    "\n",
    "model = Sequential()\n",
    "model.add(Dense(200, activation='relu', input_dim=54))\n",
    "model.add(Dense(150, activation='relu', input_dim=200))\n",
    "model.add(Dense(2, activation='softmax'))#最終層のactivationは変更しないこと\n",
    "\n",
    "# ------ 最適化手法 ------\n",
    "sgd = SGD(lr=0.01, momentum=0.9, nesterov=False)\n",
    "# rms = RMSprop(lr=0.01)\n",
    "# adag = Adagrad(lr=0.01)\n",
    "# adad = Adadelta(lr=0.01)\n",
    "#adam = Adam(lr=0.01)\n",
    "# -----------------------------\n",
    "\n",
    "model.compile(loss='categorical_crossentropy',\n",
    "              optimizer=sgd,\n",
    "              metrics=['accuracy'])\n",
    "\n",
    "# 計算の実行\n",
    "fit = model.fit(X_train, y_train_one_hot,\n",
    "          epochs=5,\n",
    "          batch_size=20,validation_data=(X_test, y_test_one_hot))\n",
    "\n",
    "# 各epochにおける損失と精度をdfに入れる\n",
    "df = pd.DataFrame(fit.history)\n",
    "\n",
    "# グラフ化\n",
    "df[[\"loss\", \"val_loss\"]].plot()\n",
    "plt.ylabel(\"loss\")\n",
    "plt.xlabel(\"epoch\")\n",
    "plt.show()\n",
    "\n",
    "df[[\"acc\", \"val_acc\"]].plot()\n",
    "plt.ylabel(\"acc\")\n",
    "plt.xlabel(\"epoch\")\n",
    "plt.ylim([0,1.0])\n",
    "plt.show()"
   ]
  },
  {
   "cell_type": "markdown",
   "metadata": {},
   "source": [
    "### 考察\n",
    "いくつかのアルゴリズムで分類を行ったが、訓練誤差が減少しない。\n",
    "\n",
    "- 変数が不足しており、十分に学習できなかったことが原因と考えられる\n",
    "- 変数を追加して精度が向上するかどうかを確認する"
   ]
  },
  {
   "cell_type": "markdown",
   "metadata": {},
   "source": [
    "### 変数の追加"
   ]
  },
  {
   "cell_type": "code",
   "execution_count": 79,
   "metadata": {},
   "outputs": [
    {
     "data": {
      "text/html": [
       "<div>\n",
       "<style scoped>\n",
       "    .dataframe tbody tr th:only-of-type {\n",
       "        vertical-align: middle;\n",
       "    }\n",
       "\n",
       "    .dataframe tbody tr th {\n",
       "        vertical-align: top;\n",
       "    }\n",
       "\n",
       "    .dataframe thead th {\n",
       "        text-align: right;\n",
       "    }\n",
       "</style>\n",
       "<table border=\"1\" class=\"dataframe\">\n",
       "  <thead>\n",
       "    <tr style=\"text-align: right;\">\n",
       "      <th></th>\n",
       "      <th>ID</th>\n",
       "      <th>name</th>\n",
       "      <th>category</th>\n",
       "      <th>main_category</th>\n",
       "      <th>currency</th>\n",
       "      <th>deadline</th>\n",
       "      <th>goal</th>\n",
       "      <th>launched</th>\n",
       "      <th>state</th>\n",
       "      <th>country</th>\n",
       "      <th>usd_goal_real</th>\n",
       "    </tr>\n",
       "  </thead>\n",
       "  <tbody>\n",
       "    <tr>\n",
       "      <th>0</th>\n",
       "      <td>1000002330</td>\n",
       "      <td>The Songs of Adelaide &amp; Abullah</td>\n",
       "      <td>Poetry</td>\n",
       "      <td>Publishing</td>\n",
       "      <td>GBP</td>\n",
       "      <td>2015-10-09</td>\n",
       "      <td>1000.0</td>\n",
       "      <td>2015-08-11 12:12:28</td>\n",
       "      <td>False</td>\n",
       "      <td>GB</td>\n",
       "      <td>1533.95</td>\n",
       "    </tr>\n",
       "    <tr>\n",
       "      <th>1</th>\n",
       "      <td>1000003930</td>\n",
       "      <td>Greeting From Earth: ZGAC Arts Capsule For ET</td>\n",
       "      <td>Narrative Film</td>\n",
       "      <td>Film &amp; Video</td>\n",
       "      <td>USD</td>\n",
       "      <td>2017-11-01</td>\n",
       "      <td>30000.0</td>\n",
       "      <td>2017-09-02 04:43:57</td>\n",
       "      <td>False</td>\n",
       "      <td>US</td>\n",
       "      <td>30000.00</td>\n",
       "    </tr>\n",
       "    <tr>\n",
       "      <th>2</th>\n",
       "      <td>1000004038</td>\n",
       "      <td>Where is Hank?</td>\n",
       "      <td>Narrative Film</td>\n",
       "      <td>Film &amp; Video</td>\n",
       "      <td>USD</td>\n",
       "      <td>2013-02-26</td>\n",
       "      <td>45000.0</td>\n",
       "      <td>2013-01-12 00:20:50</td>\n",
       "      <td>False</td>\n",
       "      <td>US</td>\n",
       "      <td>45000.00</td>\n",
       "    </tr>\n",
       "    <tr>\n",
       "      <th>3</th>\n",
       "      <td>1000007540</td>\n",
       "      <td>ToshiCapital Rekordz Needs Help to Complete Album</td>\n",
       "      <td>Music</td>\n",
       "      <td>Music</td>\n",
       "      <td>USD</td>\n",
       "      <td>2012-04-16</td>\n",
       "      <td>5000.0</td>\n",
       "      <td>2012-03-17 03:24:11</td>\n",
       "      <td>False</td>\n",
       "      <td>US</td>\n",
       "      <td>5000.00</td>\n",
       "    </tr>\n",
       "    <tr>\n",
       "      <th>4</th>\n",
       "      <td>1000011046</td>\n",
       "      <td>Community Film Project: The Art of Neighborhoo...</td>\n",
       "      <td>Film &amp; Video</td>\n",
       "      <td>Film &amp; Video</td>\n",
       "      <td>USD</td>\n",
       "      <td>2015-08-29</td>\n",
       "      <td>19500.0</td>\n",
       "      <td>2015-07-04 08:35:03</td>\n",
       "      <td>False</td>\n",
       "      <td>US</td>\n",
       "      <td>19500.00</td>\n",
       "    </tr>\n",
       "  </tbody>\n",
       "</table>\n",
       "</div>"
      ],
      "text/plain": [
       "           ID                                               name  \\\n",
       "0  1000002330                    The Songs of Adelaide & Abullah   \n",
       "1  1000003930      Greeting From Earth: ZGAC Arts Capsule For ET   \n",
       "2  1000004038                                     Where is Hank?   \n",
       "3  1000007540  ToshiCapital Rekordz Needs Help to Complete Album   \n",
       "4  1000011046  Community Film Project: The Art of Neighborhoo...   \n",
       "\n",
       "         category main_category currency    deadline     goal  \\\n",
       "0          Poetry    Publishing      GBP  2015-10-09   1000.0   \n",
       "1  Narrative Film  Film & Video      USD  2017-11-01  30000.0   \n",
       "2  Narrative Film  Film & Video      USD  2013-02-26  45000.0   \n",
       "3           Music         Music      USD  2012-04-16   5000.0   \n",
       "4    Film & Video  Film & Video      USD  2015-08-29  19500.0   \n",
       "\n",
       "              launched  state country  usd_goal_real  \n",
       "0  2015-08-11 12:12:28  False      GB        1533.95  \n",
       "1  2017-09-02 04:43:57  False      US       30000.00  \n",
       "2  2013-01-12 00:20:50  False      US       45000.00  \n",
       "3  2012-03-17 03:24:11  False      US        5000.00  \n",
       "4  2015-07-04 08:35:03  False      US       19500.00  "
      ]
     },
     "execution_count": 79,
     "metadata": {},
     "output_type": "execute_result"
    }
   ],
   "source": [
    "#データの読込\n",
    "df = pd.read_csv(\"./ks-projects-201801.csv\")\n",
    "\n",
    "#評価基準の統一のため、データの加工方法を統一する\n",
    "df = df[df[\"state\"]!=\"live\"]\n",
    "df[\"state\"] = df[\"state\"]==\"successful\"\n",
    "\n",
    "#開始時にはわからないデータを除去する\n",
    "df = df.drop('pledged', axis=1)\n",
    "df = df.drop('backers', axis=1)\n",
    "df = df.drop('usd pledged', axis=1)\n",
    "df = df.drop('usd_pledged_real', axis=1)\n",
    "\n",
    "df_input = pd.concat([df, pd.get_dummies(df['main_category'])], axis=1)\n",
    "df_input = pd.concat([df_input, pd.get_dummies(df_input['currency'])], axis=1)\n",
    "df_input = pd.concat([df_input, pd.get_dummies(df_input['country'])], axis=1)\n",
    "\n",
    "df.head()"
   ]
  },
  {
   "cell_type": "markdown",
   "metadata": {},
   "source": [
    "#### データ変換の方針\n",
    "- deadline / launchedについて数値データに変換する　（それぞれについて頻度解析する）\n"
   ]
  },
  {
   "cell_type": "code",
   "execution_count": 106,
   "metadata": {},
   "outputs": [
    {
     "data": {
      "text/plain": [
       "count                  375862\n",
       "unique                   3149\n",
       "top       2014-08-08 00:00:00\n",
       "freq                      705\n",
       "first     2009-05-03 00:00:00\n",
       "last      2018-02-24 00:00:00\n",
       "Name: deadline, dtype: object"
      ]
     },
     "execution_count": 106,
     "metadata": {},
     "output_type": "execute_result"
    }
   ],
   "source": [
    "#deadlineを日付型に変換\n",
    "pd.to_datetime(df['deadline'],format='%Y-%m-%d').describe()"
   ]
  },
  {
   "cell_type": "code",
   "execution_count": 93,
   "metadata": {},
   "outputs": [
    {
     "data": {
      "text/plain": [
       "count                  375862\n",
       "unique                 375293\n",
       "top       1970-01-01 01:00:00\n",
       "freq                        7\n",
       "first     1970-01-01 01:00:00\n",
       "last      2018-01-02 03:05:10\n",
       "Name: launched, dtype: object"
      ]
     },
     "execution_count": 93,
     "metadata": {},
     "output_type": "execute_result"
    }
   ],
   "source": [
    "#deadlineを日付型に変換\n",
    "pd.to_datetime(df['launched'],format='%Y-%m-%d %H:%M:%S').describe()"
   ]
  },
  {
   "cell_type": "code",
   "execution_count": 91,
   "metadata": {},
   "outputs": [],
   "source": [
    "df['deadline_date'] = pd.to_datetime(df['deadline'],format='%Y-%m-%d')\n",
    "df['launched_date'] = pd.to_datetime(df['launched'],format='%Y-%m-%d %H:%M:%S')"
   ]
  },
  {
   "cell_type": "code",
   "execution_count": 92,
   "metadata": {},
   "outputs": [
    {
     "data": {
      "text/html": [
       "<div>\n",
       "<style scoped>\n",
       "    .dataframe tbody tr th:only-of-type {\n",
       "        vertical-align: middle;\n",
       "    }\n",
       "\n",
       "    .dataframe tbody tr th {\n",
       "        vertical-align: top;\n",
       "    }\n",
       "\n",
       "    .dataframe thead th {\n",
       "        text-align: right;\n",
       "    }\n",
       "</style>\n",
       "<table border=\"1\" class=\"dataframe\">\n",
       "  <thead>\n",
       "    <tr style=\"text-align: right;\">\n",
       "      <th></th>\n",
       "      <th>ID</th>\n",
       "      <th>name</th>\n",
       "      <th>category</th>\n",
       "      <th>main_category</th>\n",
       "      <th>currency</th>\n",
       "      <th>deadline</th>\n",
       "      <th>goal</th>\n",
       "      <th>launched</th>\n",
       "      <th>state</th>\n",
       "      <th>country</th>\n",
       "      <th>usd_goal_real</th>\n",
       "      <th>deadline_date</th>\n",
       "      <th>launched_date</th>\n",
       "    </tr>\n",
       "  </thead>\n",
       "  <tbody>\n",
       "    <tr>\n",
       "      <th>0</th>\n",
       "      <td>1000002330</td>\n",
       "      <td>The Songs of Adelaide &amp; Abullah</td>\n",
       "      <td>Poetry</td>\n",
       "      <td>Publishing</td>\n",
       "      <td>GBP</td>\n",
       "      <td>2015-10-09</td>\n",
       "      <td>1000.0</td>\n",
       "      <td>2015-08-11 12:12:28</td>\n",
       "      <td>False</td>\n",
       "      <td>GB</td>\n",
       "      <td>1533.95</td>\n",
       "      <td>2015-10-09</td>\n",
       "      <td>2015-08-11 12:12:28</td>\n",
       "    </tr>\n",
       "    <tr>\n",
       "      <th>1</th>\n",
       "      <td>1000003930</td>\n",
       "      <td>Greeting From Earth: ZGAC Arts Capsule For ET</td>\n",
       "      <td>Narrative Film</td>\n",
       "      <td>Film &amp; Video</td>\n",
       "      <td>USD</td>\n",
       "      <td>2017-11-01</td>\n",
       "      <td>30000.0</td>\n",
       "      <td>2017-09-02 04:43:57</td>\n",
       "      <td>False</td>\n",
       "      <td>US</td>\n",
       "      <td>30000.00</td>\n",
       "      <td>2017-11-01</td>\n",
       "      <td>2017-09-02 04:43:57</td>\n",
       "    </tr>\n",
       "    <tr>\n",
       "      <th>2</th>\n",
       "      <td>1000004038</td>\n",
       "      <td>Where is Hank?</td>\n",
       "      <td>Narrative Film</td>\n",
       "      <td>Film &amp; Video</td>\n",
       "      <td>USD</td>\n",
       "      <td>2013-02-26</td>\n",
       "      <td>45000.0</td>\n",
       "      <td>2013-01-12 00:20:50</td>\n",
       "      <td>False</td>\n",
       "      <td>US</td>\n",
       "      <td>45000.00</td>\n",
       "      <td>2013-02-26</td>\n",
       "      <td>2013-01-12 00:20:50</td>\n",
       "    </tr>\n",
       "    <tr>\n",
       "      <th>3</th>\n",
       "      <td>1000007540</td>\n",
       "      <td>ToshiCapital Rekordz Needs Help to Complete Album</td>\n",
       "      <td>Music</td>\n",
       "      <td>Music</td>\n",
       "      <td>USD</td>\n",
       "      <td>2012-04-16</td>\n",
       "      <td>5000.0</td>\n",
       "      <td>2012-03-17 03:24:11</td>\n",
       "      <td>False</td>\n",
       "      <td>US</td>\n",
       "      <td>5000.00</td>\n",
       "      <td>2012-04-16</td>\n",
       "      <td>2012-03-17 03:24:11</td>\n",
       "    </tr>\n",
       "    <tr>\n",
       "      <th>4</th>\n",
       "      <td>1000011046</td>\n",
       "      <td>Community Film Project: The Art of Neighborhoo...</td>\n",
       "      <td>Film &amp; Video</td>\n",
       "      <td>Film &amp; Video</td>\n",
       "      <td>USD</td>\n",
       "      <td>2015-08-29</td>\n",
       "      <td>19500.0</td>\n",
       "      <td>2015-07-04 08:35:03</td>\n",
       "      <td>False</td>\n",
       "      <td>US</td>\n",
       "      <td>19500.00</td>\n",
       "      <td>2015-08-29</td>\n",
       "      <td>2015-07-04 08:35:03</td>\n",
       "    </tr>\n",
       "  </tbody>\n",
       "</table>\n",
       "</div>"
      ],
      "text/plain": [
       "           ID                                               name  \\\n",
       "0  1000002330                    The Songs of Adelaide & Abullah   \n",
       "1  1000003930      Greeting From Earth: ZGAC Arts Capsule For ET   \n",
       "2  1000004038                                     Where is Hank?   \n",
       "3  1000007540  ToshiCapital Rekordz Needs Help to Complete Album   \n",
       "4  1000011046  Community Film Project: The Art of Neighborhoo...   \n",
       "\n",
       "         category main_category currency    deadline     goal  \\\n",
       "0          Poetry    Publishing      GBP  2015-10-09   1000.0   \n",
       "1  Narrative Film  Film & Video      USD  2017-11-01  30000.0   \n",
       "2  Narrative Film  Film & Video      USD  2013-02-26  45000.0   \n",
       "3           Music         Music      USD  2012-04-16   5000.0   \n",
       "4    Film & Video  Film & Video      USD  2015-08-29  19500.0   \n",
       "\n",
       "              launched  state country  usd_goal_real deadline_date  \\\n",
       "0  2015-08-11 12:12:28  False      GB        1533.95    2015-10-09   \n",
       "1  2017-09-02 04:43:57  False      US       30000.00    2017-11-01   \n",
       "2  2013-01-12 00:20:50  False      US       45000.00    2013-02-26   \n",
       "3  2012-03-17 03:24:11  False      US        5000.00    2012-04-16   \n",
       "4  2015-07-04 08:35:03  False      US       19500.00    2015-08-29   \n",
       "\n",
       "        launched_date  \n",
       "0 2015-08-11 12:12:28  \n",
       "1 2017-09-02 04:43:57  \n",
       "2 2013-01-12 00:20:50  \n",
       "3 2012-03-17 03:24:11  \n",
       "4 2015-07-04 08:35:03  "
      ]
     },
     "execution_count": 92,
     "metadata": {},
     "output_type": "execute_result"
    }
   ],
   "source": [
    "df.head()"
   ]
  },
  {
   "cell_type": "markdown",
   "metadata": {},
   "source": [
    "### 日付から得られそうなこと\n",
    "- 開始時期の景気に左右される？　→　launchedの年と成功失敗の関係で差が出ないか？\n",
    "- launchedが1970年になっているデータはそもそも設立できていない= failed?\n",
    "- ファンドの募集期間と失敗成功に相関はないか？"
   ]
  },
  {
   "cell_type": "code",
   "execution_count": 133,
   "metadata": {},
   "outputs": [
    {
     "data": {
      "text/plain": [
       "378642   2017-10-31\n",
       "378644   2015-12-15\n",
       "378646   2013-11-30\n",
       "378651   2014-03-22\n",
       "378652   2015-04-28\n",
       "Name: deadline_date, dtype: datetime64[ns]"
      ]
     },
     "execution_count": 133,
     "metadata": {},
     "output_type": "execute_result"
    }
   ],
   "source": [
    "#まずはdeadlineと失敗成功の関係を見てみる\n",
    "df[df['state']==True]['deadline_date'].tail()"
   ]
  },
  {
   "cell_type": "code",
   "execution_count": 125,
   "metadata": {},
   "outputs": [],
   "source": [
    "df_deadlinecnt_byYear = pd.DataFrame(columns=['success', 'failed', 'ratio'])\n",
    "df_deadlinecnt_byYear['success'] = df[df['state']==True].groupby(df.deadline_date.dt.year).count().deadline_date"
   ]
  },
  {
   "cell_type": "code",
   "execution_count": 126,
   "metadata": {},
   "outputs": [],
   "source": [
    "df[df['state']==False].groupby(df.deadline_date.dt.year).count().deadline_date\n",
    "df_deadlinecnt_byYear['failed'] = df[df['state']==False].groupby(df.deadline_date.dt.year).count().deadline_date"
   ]
  },
  {
   "cell_type": "code",
   "execution_count": 131,
   "metadata": {},
   "outputs": [],
   "source": [
    "#各年のプロジェクト成功率を出してみる\n",
    "df_deadlinecnt_byYear['ratio'] = df_deadlinecnt_byYear['success'] / (df_deadlinecnt_byYear['failed'] + df_deadlinecnt_byYear['success'])"
   ]
  },
  {
   "cell_type": "code",
   "execution_count": 132,
   "metadata": {},
   "outputs": [
    {
     "data": {
      "text/html": [
       "<div>\n",
       "<style scoped>\n",
       "    .dataframe tbody tr th:only-of-type {\n",
       "        vertical-align: middle;\n",
       "    }\n",
       "\n",
       "    .dataframe tbody tr th {\n",
       "        vertical-align: top;\n",
       "    }\n",
       "\n",
       "    .dataframe thead th {\n",
       "        text-align: right;\n",
       "    }\n",
       "</style>\n",
       "<table border=\"1\" class=\"dataframe\">\n",
       "  <thead>\n",
       "    <tr style=\"text-align: right;\">\n",
       "      <th></th>\n",
       "      <th>success</th>\n",
       "      <th>failed</th>\n",
       "      <th>ratio</th>\n",
       "    </tr>\n",
       "    <tr>\n",
       "      <th>deadline_date</th>\n",
       "      <th></th>\n",
       "      <th></th>\n",
       "      <th></th>\n",
       "    </tr>\n",
       "  </thead>\n",
       "  <tbody>\n",
       "    <tr>\n",
       "      <th>2009</th>\n",
       "      <td>384</td>\n",
       "      <td>518</td>\n",
       "      <td>0.425721</td>\n",
       "    </tr>\n",
       "    <tr>\n",
       "      <th>2010</th>\n",
       "      <td>4008</td>\n",
       "      <td>5090</td>\n",
       "      <td>0.440536</td>\n",
       "    </tr>\n",
       "    <tr>\n",
       "      <th>2011</th>\n",
       "      <td>11768</td>\n",
       "      <td>13339</td>\n",
       "      <td>0.468714</td>\n",
       "    </tr>\n",
       "    <tr>\n",
       "      <th>2012</th>\n",
       "      <td>18063</td>\n",
       "      <td>23497</td>\n",
       "      <td>0.434625</td>\n",
       "    </tr>\n",
       "    <tr>\n",
       "      <th>2013</th>\n",
       "      <td>19198</td>\n",
       "      <td>24980</td>\n",
       "      <td>0.434560</td>\n",
       "    </tr>\n",
       "    <tr>\n",
       "      <th>2014</th>\n",
       "      <td>21202</td>\n",
       "      <td>45029</td>\n",
       "      <td>0.320122</td>\n",
       "    </tr>\n",
       "    <tr>\n",
       "      <th>2015</th>\n",
       "      <td>21075</td>\n",
       "      <td>56423</td>\n",
       "      <td>0.271943</td>\n",
       "    </tr>\n",
       "    <tr>\n",
       "      <th>2016</th>\n",
       "      <td>18824</td>\n",
       "      <td>39248</td>\n",
       "      <td>0.324149</td>\n",
       "    </tr>\n",
       "    <tr>\n",
       "      <th>2017</th>\n",
       "      <td>19348</td>\n",
       "      <td>33388</td>\n",
       "      <td>0.366884</td>\n",
       "    </tr>\n",
       "    <tr>\n",
       "      <th>2018</th>\n",
       "      <td>86</td>\n",
       "      <td>394</td>\n",
       "      <td>0.179167</td>\n",
       "    </tr>\n",
       "  </tbody>\n",
       "</table>\n",
       "</div>"
      ],
      "text/plain": [
       "               success  failed     ratio\n",
       "deadline_date                           \n",
       "2009               384     518  0.425721\n",
       "2010              4008    5090  0.440536\n",
       "2011             11768   13339  0.468714\n",
       "2012             18063   23497  0.434625\n",
       "2013             19198   24980  0.434560\n",
       "2014             21202   45029  0.320122\n",
       "2015             21075   56423  0.271943\n",
       "2016             18824   39248  0.324149\n",
       "2017             19348   33388  0.366884\n",
       "2018                86     394  0.179167"
      ]
     },
     "execution_count": 132,
     "metadata": {},
     "output_type": "execute_result"
    }
   ],
   "source": [
    "df_deadlinecnt_byYear"
   ]
  },
  {
   "cell_type": "markdown",
   "metadata": {},
   "source": [
    "#### deadlineと失敗成功の関係についての考察\n",
    "- 年によって成功率が極端に低いケースがある　→　ある程度これを加えることによって効果はありそう"
   ]
  },
  {
   "cell_type": "code",
   "execution_count": 134,
   "metadata": {},
   "outputs": [
    {
     "data": {
      "text/html": [
       "<div>\n",
       "<style scoped>\n",
       "    .dataframe tbody tr th:only-of-type {\n",
       "        vertical-align: middle;\n",
       "    }\n",
       "\n",
       "    .dataframe tbody tr th {\n",
       "        vertical-align: top;\n",
       "    }\n",
       "\n",
       "    .dataframe thead th {\n",
       "        text-align: right;\n",
       "    }\n",
       "</style>\n",
       "<table border=\"1\" class=\"dataframe\">\n",
       "  <thead>\n",
       "    <tr style=\"text-align: right;\">\n",
       "      <th></th>\n",
       "      <th>success</th>\n",
       "      <th>failed</th>\n",
       "      <th>ratio</th>\n",
       "    </tr>\n",
       "    <tr>\n",
       "      <th>launched_date</th>\n",
       "      <th></th>\n",
       "      <th></th>\n",
       "      <th></th>\n",
       "    </tr>\n",
       "  </thead>\n",
       "  <tbody>\n",
       "    <tr>\n",
       "      <th>2009</th>\n",
       "      <td>579</td>\n",
       "      <td>750</td>\n",
       "      <td>0.435666</td>\n",
       "    </tr>\n",
       "    <tr>\n",
       "      <th>2010</th>\n",
       "      <td>4593</td>\n",
       "      <td>5926</td>\n",
       "      <td>0.436638</td>\n",
       "    </tr>\n",
       "    <tr>\n",
       "      <th>2011</th>\n",
       "      <td>12171</td>\n",
       "      <td>14066</td>\n",
       "      <td>0.463887</td>\n",
       "    </tr>\n",
       "    <tr>\n",
       "      <th>2012</th>\n",
       "      <td>17892</td>\n",
       "      <td>23273</td>\n",
       "      <td>0.434641</td>\n",
       "    </tr>\n",
       "    <tr>\n",
       "      <th>2013</th>\n",
       "      <td>19415</td>\n",
       "      <td>25436</td>\n",
       "      <td>0.432878</td>\n",
       "    </tr>\n",
       "    <tr>\n",
       "      <th>2014</th>\n",
       "      <td>21107</td>\n",
       "      <td>46638</td>\n",
       "      <td>0.311565</td>\n",
       "    </tr>\n",
       "    <tr>\n",
       "      <th>2015</th>\n",
       "      <td>20971</td>\n",
       "      <td>56329</td>\n",
       "      <td>0.271294</td>\n",
       "    </tr>\n",
       "    <tr>\n",
       "      <th>2016</th>\n",
       "      <td>18766</td>\n",
       "      <td>38416</td>\n",
       "      <td>0.328180</td>\n",
       "    </tr>\n",
       "    <tr>\n",
       "      <th>2017</th>\n",
       "      <td>18462</td>\n",
       "      <td>31063</td>\n",
       "      <td>0.372781</td>\n",
       "    </tr>\n",
       "  </tbody>\n",
       "</table>\n",
       "</div>"
      ],
      "text/plain": [
       "               success  failed     ratio\n",
       "launched_date                           \n",
       "2009               579     750  0.435666\n",
       "2010              4593    5926  0.436638\n",
       "2011             12171   14066  0.463887\n",
       "2012             17892   23273  0.434641\n",
       "2013             19415   25436  0.432878\n",
       "2014             21107   46638  0.311565\n",
       "2015             20971   56329  0.271294\n",
       "2016             18766   38416  0.328180\n",
       "2017             18462   31063  0.372781"
      ]
     },
     "execution_count": 134,
     "metadata": {},
     "output_type": "execute_result"
    }
   ],
   "source": [
    "df_launcedcnt_byYear = pd.DataFrame(columns=['success', 'failed', 'ratio'])\n",
    "df_launcedcnt_byYear['success'] = df[df['state']==True].groupby(df.launched_date.dt.year).count().launched_date\n",
    "df_launcedcnt_byYear['failed'] = df[df['state']==False].groupby(df.launched_date.dt.year).count().launched_date\n",
    "#各年のプロジェクト成功率を出してみる\n",
    "df_launcedcnt_byYear['ratio'] = df_launcedcnt_byYear['success'] / (df_launcedcnt_byYear['failed'] + df_launcedcnt_byYear['success'])\n",
    "df_launcedcnt_byYear"
   ]
  },
  {
   "cell_type": "code",
   "execution_count": 136,
   "metadata": {},
   "outputs": [
    {
     "data": {
      "text/plain": [
       "launched_date\n",
       "1970        7\n",
       "2009      750\n",
       "2010     5926\n",
       "2011    14066\n",
       "2012    23273\n",
       "2013    25436\n",
       "2014    46638\n",
       "2015    56329\n",
       "2016    38416\n",
       "2017    31063\n",
       "2018        2\n",
       "Name: launched_date, dtype: int64"
      ]
     },
     "execution_count": 136,
     "metadata": {},
     "output_type": "execute_result"
    }
   ],
   "source": [
    "df[df['state']==False].groupby(df.launched_date.dt.year).count().launched_date"
   ]
  },
  {
   "cell_type": "markdown",
   "metadata": {},
   "source": [
    "#### launched についての考察\n",
    "- launchedについてもdeadlineと同様の傾向\n",
    "- ただし、1970年（おそらく未入力）の項目は必ず失敗している（応募前にキャンセルされた？）"
   ]
  },
  {
   "cell_type": "code",
   "execution_count": 139,
   "metadata": {},
   "outputs": [],
   "source": [
    "# 募集期間という観点で　deadline　- launched の値が使えないか確認する\n",
    "df['duration'] = df['deadline_date'] - df['launched_date']"
   ]
  },
  {
   "cell_type": "code",
   "execution_count": 142,
   "metadata": {},
   "outputs": [
    {
     "data": {
      "text/plain": [
       "count                     375862\n",
       "mean     33 days 21:01:08.022633\n",
       "std      66 days 03:31:42.820764\n",
       "min              0 days 00:07:17\n",
       "25%             29 days 02:18:44\n",
       "50%      29 days 16:24:21.500000\n",
       "75%      36 days 07:35:12.750000\n",
       "max          16738 days 23:00:00\n",
       "Name: duration, dtype: object"
      ]
     },
     "execution_count": 142,
     "metadata": {},
     "output_type": "execute_result"
    }
   ],
   "source": [
    "#durationの範囲を見てみる\n",
    "df['duration'].describe()"
   ]
  },
  {
   "cell_type": "code",
   "execution_count": null,
   "metadata": {},
   "outputs": [],
   "source": []
  },
  {
   "cell_type": "code",
   "execution_count": null,
   "metadata": {},
   "outputs": [],
   "source": []
  },
  {
   "cell_type": "markdown",
   "metadata": {},
   "source": [
    "### 上記の解析結果を踏まえた分類結果"
   ]
  },
  {
   "cell_type": "code",
   "execution_count": 170,
   "metadata": {},
   "outputs": [],
   "source": [
    "#日付関連のデータを含めてデータを再構成する\n",
    "#データの読込\n",
    "df = pd.read_csv(\"./ks-projects-201801.csv\")\n",
    "\n",
    "#評価基準の統一のため、データの加工方法を統一する\n",
    "df = df[df[\"state\"]!=\"live\"]\n",
    "df[\"state\"] = df[\"state\"]==\"successful\"\n",
    "\n",
    "#開始時にはわからないデータを除去する\n",
    "df = df.drop('pledged', axis=1)\n",
    "df = df.drop('backers', axis=1)\n",
    "df = df.drop('usd pledged', axis=1)\n",
    "df = df.drop('usd_pledged_real', axis=1)\n",
    "\n",
    "df['deadline_date'] = pd.to_datetime(df['deadline'],format='%Y-%m-%d').astype('int64') // 10**9\n",
    "df['launched_date'] = pd.to_datetime(df['launched'],format='%Y-%m-%d %H:%M:%S').astype('int64') // 10**9\n",
    "# 募集期間という観点で　deadline　- launched の値が使えないか確認する\n",
    "df['duration'] = (df['deadline_date'] - df['launched_date']).astype('int64') // 10**9\n",
    "\n",
    "df_input = pd.concat([df, pd.get_dummies(df['main_category'])], axis=1)\n",
    "df_input = pd.concat([df_input, pd.get_dummies(df_input['currency'])], axis=1)\n",
    "df_input = pd.concat([df_input, pd.get_dummies(df_input['country'])], axis=1)\n",
    "\n",
    "y = df_input[\"state\"].values\n",
    "\n",
    "inp = df_input.drop(['state','ID', 'goal', 'launched', 'deadline','name','category','deadline','launched', 'main_category', 'currency', 'country'], axis=1)\n",
    "X = inp.values\n",
    "test_size = 0.2\n",
    "X_train, X_test, y_train, y_test = train_test_split(X, y, test_size=test_size, random_state=1234)"
   ]
  },
  {
   "cell_type": "code",
   "execution_count": 175,
   "metadata": {},
   "outputs": [],
   "source": [
    "#標準化を実行する\n",
    "# 標準化\n",
    "from sklearn.preprocessing import StandardScaler\n",
    "stdsc = StandardScaler()\n",
    "X_train_std = stdsc.fit_transform(X_train)\n",
    "X_test_std = stdsc.transform(X_test)"
   ]
  },
  {
   "cell_type": "code",
   "execution_count": 177,
   "metadata": {},
   "outputs": [
    {
     "name": "stdout",
     "output_type": "stream",
     "text": [
      "validation score= 0.6356803639604646\n",
      "training score= 0.7721466365580384\n"
     ]
    }
   ],
   "source": [
    "from sklearn.tree import DecisionTreeClassifier, export_graphviz\n",
    "clf = DecisionTreeClassifier(criterion=\"gini\", max_depth=None, min_samples_split=10, min_samples_leaf=10, random_state=1234)\n",
    "#決定木の場合は標準化が不要のため、標準化を実施せずに実行する\n",
    "clf = clf.fit(X_train_std, y_train)\n",
    "print(\"validation score=\", clf.score(X_test_std, y_test))\n",
    "print(\"training score=\", clf.score(X_train_std, y_train))"
   ]
  },
  {
   "cell_type": "code",
   "execution_count": 178,
   "metadata": {},
   "outputs": [
    {
     "name": "stdout",
     "output_type": "stream",
     "text": [
      "[2.92379373e-01 2.49780226e-01 2.96807702e-01 0.00000000e+00\n",
      " 4.06207537e-03 1.13712334e-02 6.15616822e-03 5.62670640e-03\n",
      " 5.93647810e-03 1.09002415e-02 7.42841774e-03 5.53739705e-03\n",
      " 5.68591469e-03 2.94346609e-03 1.32031793e-02 4.30470106e-03\n",
      " 1.33658636e-02 9.95170506e-03 1.37238202e-02 6.99947555e-04\n",
      " 1.61411720e-03 9.03113595e-05 6.44778931e-05 3.07967386e-03\n",
      " 3.85032310e-03 3.53589366e-04 0.00000000e+00 3.87349648e-04\n",
      " 0.00000000e+00 2.12065778e-04 2.23891042e-04 0.00000000e+00\n",
      " 4.29868780e-03 5.76155335e-05 3.41341393e-04 3.10535445e-06\n",
      " 9.69222313e-04 7.71259929e-05 5.70912469e-04 7.93946700e-05\n",
      " 2.13221129e-04 7.49215077e-04 1.56947255e-03 4.95054596e-05\n",
      " 1.46246324e-04 8.43588970e-04 0.00000000e+00 0.00000000e+00\n",
      " 8.08754610e-04 1.43605859e-02 3.21228998e-04 4.64161912e-05\n",
      " 6.35539548e-05 1.72188422e-04 8.61802535e-05 4.43202122e-03]\n"
     ]
    },
    {
     "data": {
      "image/png": "[encoded data removed]",
      "text/plain": [
       "<matplotlib.figure.Figure at 0x1a42c6d6d8>"
      ]
     },
     "metadata": {},
     "output_type": "display_data"
    }
   ],
   "source": [
    "# 説明変数の重要度を出力する\n",
    "# scikit-learnで算出される重要度は、ある説明変数による不純度の減少量合計である。\n",
    "print(clf.feature_importances_)\n",
    "pd.DataFrame(clf.feature_importances_, index=inp.columns).plot.bar(figsize=(10,10))\n",
    "plt.ylabel(\"Importance\")\n",
    "plt.xlabel(\"Features\")\n",
    "plt.show()"
   ]
  },
  {
   "cell_type": "markdown",
   "metadata": {},
   "source": [
    "- ある程度重要度がばらけた　→　多少の改善が期待できそう"
   ]
  },
  {
   "cell_type": "code",
   "execution_count": 179,
   "metadata": {},
   "outputs": [],
   "source": [
    "#y を　one-hot vectorに変換する\n",
    "from keras.utils import np_utils\n",
    "y_train_one_hot = np_utils.to_categorical(y_train)\n",
    "y_test_one_hot = np_utils.to_categorical(y_test)"
   ]
  },
  {
   "cell_type": "code",
   "execution_count": 180,
   "metadata": {},
   "outputs": [],
   "source": [
    "# 乱数シード値を固定する\n",
    "import os\n",
    "import numpy as np\n",
    "import random as rn\n",
    "import tensorflow as tf\n",
    "\n",
    "os.environ['PYTHONHASHSEED'] = '0'\n",
    "np.random.seed(7)\n",
    "rn.seed(7)\n",
    "\n",
    "session_conf = tf.ConfigProto(\n",
    "    intra_op_parallelism_threads=1,\n",
    "    inter_op_parallelism_threads=1\n",
    ")\n",
    "\n",
    "from keras import backend as K\n",
    "\n",
    "tf.set_random_seed(7)\n",
    "sess = tf.Session(graph=tf.get_default_graph(), config=session_conf)\n",
    "K.set_session(sess)"
   ]
  },
  {
   "cell_type": "code",
   "execution_count": 191,
   "metadata": {},
   "outputs": [
    {
     "name": "stdout",
     "output_type": "stream",
     "text": [
      "Train on 300689 samples, validate on 75173 samples\n",
      "Epoch 1/50\n",
      "300689/300689 [==============================] - 5s 18us/step - loss: 0.6180 - acc: 0.6604 - val_loss: 0.6108 - val_acc: 0.6659\n",
      "Epoch 2/50\n",
      "300689/300689 [==============================] - 4s 15us/step - loss: 0.6083 - acc: 0.6653 - val_loss: 0.6055 - val_acc: 0.6656\n",
      "Epoch 3/50\n",
      "300689/300689 [==============================] - 4s 15us/step - loss: 0.6159 - acc: 0.6670 - val_loss: 0.6157 - val_acc: 0.6677\n",
      "Epoch 4/50\n",
      "300689/300689 [==============================] - 4s 15us/step - loss: 0.6158 - acc: 0.6690 - val_loss: 0.6139 - val_acc: 0.6696\n",
      "Epoch 5/50\n",
      "300689/300689 [==============================] - 4s 15us/step - loss: 0.6144 - acc: 0.6696 - val_loss: 0.6138 - val_acc: 0.6664\n",
      "Epoch 6/50\n",
      "300689/300689 [==============================] - 5s 15us/step - loss: 0.6132 - acc: 0.6704 - val_loss: 0.6157 - val_acc: 0.6713\n",
      "Epoch 7/50\n",
      "300689/300689 [==============================] - 5s 15us/step - loss: 0.6038 - acc: 0.6722 - val_loss: 0.5976 - val_acc: 0.6773\n",
      "Epoch 8/50\n",
      "300689/300689 [==============================] - 5s 17us/step - loss: 0.5977 - acc: 0.6718 - val_loss: 0.6044 - val_acc: 0.6642\n",
      "Epoch 9/50\n",
      "300689/300689 [==============================] - 5s 16us/step - loss: 0.5975 - acc: 0.6730 - val_loss: 0.5962 - val_acc: 0.6771\n",
      "Epoch 10/50\n",
      "300689/300689 [==============================] - 5s 16us/step - loss: 0.5971 - acc: 0.6739 - val_loss: 0.6030 - val_acc: 0.6672\n",
      "Epoch 11/50\n",
      "300689/300689 [==============================] - 5s 16us/step - loss: 0.5968 - acc: 0.6729 - val_loss: 0.5981 - val_acc: 0.6725\n",
      "Epoch 12/50\n",
      "300689/300689 [==============================] - 5s 16us/step - loss: 0.5963 - acc: 0.6745 - val_loss: 0.5986 - val_acc: 0.6687\n",
      "Epoch 13/50\n",
      "300689/300689 [==============================] - 5s 16us/step - loss: 0.5960 - acc: 0.6746 - val_loss: 0.6001 - val_acc: 0.6704\n",
      "Epoch 14/50\n",
      "300689/300689 [==============================] - 5s 16us/step - loss: 0.5961 - acc: 0.6752 - val_loss: 0.5936 - val_acc: 0.6788\n",
      "Epoch 15/50\n",
      "300689/300689 [==============================] - 6s 19us/step - loss: 0.5953 - acc: 0.6745 - val_loss: 0.5967 - val_acc: 0.6754\n",
      "Epoch 16/50\n",
      "300689/300689 [==============================] - 6s 18us/step - loss: 0.5954 - acc: 0.6750 - val_loss: 0.5969 - val_acc: 0.6698\n",
      "Epoch 17/50\n",
      "300689/300689 [==============================] - 5s 17us/step - loss: 0.5953 - acc: 0.6755 - val_loss: 0.5977 - val_acc: 0.6765\n",
      "Epoch 18/50\n",
      "300689/300689 [==============================] - 5s 17us/step - loss: 0.5952 - acc: 0.6756 - val_loss: 0.5964 - val_acc: 0.6740\n",
      "Epoch 19/50\n",
      "300689/300689 [==============================] - 5s 17us/step - loss: 0.5948 - acc: 0.6748 - val_loss: 0.5944 - val_acc: 0.6772\n",
      "Epoch 20/50\n",
      "300689/300689 [==============================] - 5s 17us/step - loss: 0.5946 - acc: 0.6760 - val_loss: 0.5948 - val_acc: 0.6778\n",
      "Epoch 21/50\n",
      "300689/300689 [==============================] - 5s 17us/step - loss: 0.5948 - acc: 0.6758 - val_loss: 0.5998 - val_acc: 0.6716\n",
      "Epoch 22/50\n",
      "300689/300689 [==============================] - 5s 17us/step - loss: 0.5945 - acc: 0.6757 - val_loss: 0.5944 - val_acc: 0.6797\n",
      "Epoch 23/50\n",
      "300689/300689 [==============================] - 5s 17us/step - loss: 0.5941 - acc: 0.6763 - val_loss: 0.5937 - val_acc: 0.6778\n",
      "Epoch 24/50\n",
      "300689/300689 [==============================] - 5s 17us/step - loss: 0.5940 - acc: 0.6757 - val_loss: 0.5943 - val_acc: 0.6780\n",
      "Epoch 25/50\n",
      "300689/300689 [==============================] - 5s 18us/step - loss: 0.5941 - acc: 0.6763 - val_loss: 0.5985 - val_acc: 0.6707\n",
      "Epoch 26/50\n",
      "300689/300689 [==============================] - 5s 17us/step - loss: 0.5937 - acc: 0.6769 - val_loss: 0.5934 - val_acc: 0.6811\n",
      "Epoch 27/50\n",
      "300689/300689 [==============================] - 5s 17us/step - loss: 0.5935 - acc: 0.6768 - val_loss: 0.5950 - val_acc: 0.6760\n",
      "Epoch 28/50\n",
      "300689/300689 [==============================] - 5s 17us/step - loss: 0.5935 - acc: 0.6774 - val_loss: 0.5948 - val_acc: 0.6761\n",
      "Epoch 29/50\n",
      "300689/300689 [==============================] - 5s 17us/step - loss: 0.5946 - acc: 0.6771 - val_loss: 0.5948 - val_acc: 0.6768\n",
      "Epoch 30/50\n",
      "300689/300689 [==============================] - 5s 17us/step - loss: 0.5936 - acc: 0.6765 - val_loss: 0.5930 - val_acc: 0.6777\n",
      "Epoch 31/50\n",
      "300689/300689 [==============================] - 5s 17us/step - loss: 0.5933 - acc: 0.6776 - val_loss: 0.5931 - val_acc: 0.6797\n",
      "Epoch 32/50\n",
      "300689/300689 [==============================] - 5s 17us/step - loss: 0.5933 - acc: 0.6775 - val_loss: 0.5925 - val_acc: 0.6819\n",
      "Epoch 33/50\n",
      "300689/300689 [==============================] - 5s 17us/step - loss: 0.5930 - acc: 0.6777 - val_loss: 0.5960 - val_acc: 0.6757\n",
      "Epoch 34/50\n",
      "300689/300689 [==============================] - 5s 17us/step - loss: 0.5931 - acc: 0.6771 - val_loss: 0.5935 - val_acc: 0.6800\n",
      "Epoch 35/50\n",
      "300689/300689 [==============================] - 5s 17us/step - loss: 0.5931 - acc: 0.6776 - val_loss: 0.5941 - val_acc: 0.6797\n",
      "Epoch 36/50\n",
      "300689/300689 [==============================] - 5s 17us/step - loss: 0.5930 - acc: 0.6780 - val_loss: 0.6342 - val_acc: 0.6796\n",
      "Epoch 37/50\n",
      "300689/300689 [==============================] - 5s 17us/step - loss: 0.6109 - acc: 0.6771 - val_loss: 0.5934 - val_acc: 0.6789\n",
      "Epoch 38/50\n",
      "300689/300689 [==============================] - 6s 19us/step - loss: 0.5933 - acc: 0.6777 - val_loss: 0.5977 - val_acc: 0.6830\n",
      "Epoch 39/50\n",
      "300689/300689 [==============================] - 5s 18us/step - loss: 0.5966 - acc: 0.6774 - val_loss: 0.6055 - val_acc: 0.6708\n",
      "Epoch 40/50\n",
      "300689/300689 [==============================] - 6s 19us/step - loss: 0.5965 - acc: 0.6776 - val_loss: 0.5979 - val_acc: 0.6794\n",
      "Epoch 41/50\n",
      "300689/300689 [==============================] - 5s 17us/step - loss: 0.5967 - acc: 0.6781 - val_loss: 0.5996 - val_acc: 0.6772\n",
      "Epoch 42/50\n",
      "300689/300689 [==============================] - 5s 17us/step - loss: 0.6236 - acc: 0.6769 - val_loss: 0.9005 - val_acc: 0.6690\n",
      "Epoch 43/50\n",
      "300689/300689 [==============================] - 5s 17us/step - loss: 0.6411 - acc: 0.6762 - val_loss: 0.5995 - val_acc: 0.6789\n",
      "Epoch 44/50\n",
      "300689/300689 [==============================] - 5s 17us/step - loss: 0.5966 - acc: 0.6780 - val_loss: 0.6014 - val_acc: 0.6736\n",
      "Epoch 45/50\n",
      "300689/300689 [==============================] - 5s 17us/step - loss: 0.5960 - acc: 0.6792 - val_loss: 0.5992 - val_acc: 0.6799\n",
      "Epoch 46/50\n",
      "300689/300689 [==============================] - 5s 17us/step - loss: 0.5959 - acc: 0.6785 - val_loss: 0.5995 - val_acc: 0.6759\n",
      "Epoch 47/50\n",
      "300689/300689 [==============================] - 5s 17us/step - loss: 0.5958 - acc: 0.6784 - val_loss: 0.5991 - val_acc: 0.6761\n",
      "Epoch 48/50\n",
      "300689/300689 [==============================] - 5s 17us/step - loss: 0.5956 - acc: 0.6787 - val_loss: 0.5973 - val_acc: 0.6801\n",
      "Epoch 49/50\n",
      "300689/300689 [==============================] - 5s 18us/step - loss: 0.5960 - acc: 0.6779 - val_loss: 0.5976 - val_acc: 0.6806\n",
      "Epoch 50/50\n",
      "300689/300689 [==============================] - 5s 17us/step - loss: 0.5965 - acc: 0.6790 - val_loss: 0.5979 - val_acc: 0.6816\n"
     ]
    },
    {
     "data": {
      "image/png": "[encoded data removed]",
      "text/plain": [
       "<matplotlib.figure.Figure at 0x1a89cb36d8>"
      ]
     },
     "metadata": {},
     "output_type": "display_data"
    },
    {
     "data": {
      "image/png": "[encoded data removed]",
      "text/plain": [
       "<matplotlib.figure.Figure at 0x1a4380ea58>"
      ]
     },
     "metadata": {},
     "output_type": "display_data"
    }
   ],
   "source": [
    "#epochを変えてみる\n",
    "import keras\n",
    "from keras.models import Sequential\n",
    "from keras.layers import Dense, Dropout, Activation\n",
    "from keras.optimizers import SGD,RMSprop, Adagrad, Adadelta, Adam\n",
    "from keras.utils import np_utils\n",
    "\n",
    "model = Sequential()\n",
    "model.add(Dense(100, activation='relu', input_dim=56))\n",
    "model.add(Dense(200, activation='relu', input_dim=100))\n",
    "model.add(Dense(2, activation='softmax'))#最終層のactivationは変更しないこと\n",
    "\n",
    "# ------ 最適化手法 ------\n",
    "#sgd = SGD(lr=0.01, momentum=0.9, nesterov=False)\n",
    "# rms = RMSprop(lr=0.01)\n",
    "# adag = Adagrad(lr=0.01)\n",
    "# adad = Adadelta(lr=0.01)\n",
    "adam = Adam(lr=0.01)\n",
    "# -----------------------------\n",
    "\n",
    "model.compile(loss='categorical_crossentropy',\n",
    "              optimizer=adam,\n",
    "              metrics=['accuracy'])\n",
    "\n",
    "# 計算の実行\n",
    "fit = model.fit(X_train_std, y_train_one_hot,\n",
    "          epochs=50,\n",
    "          batch_size=256,validation_data=(X_test_std, y_test_one_hot))\n",
    "\n",
    "# 各epochにおける損失と精度をdfに入れる\n",
    "df_res = pd.DataFrame(fit.history)\n",
    "\n",
    "# グラフ化\n",
    "df_res[[\"loss\", \"val_loss\"]].plot()\n",
    "plt.ylabel(\"loss\")\n",
    "plt.xlabel(\"epoch\")\n",
    "plt.show()\n",
    "\n",
    "df_res[[\"acc\", \"val_acc\"]].plot()\n",
    "plt.ylabel(\"acc\")\n",
    "plt.xlabel(\"epoch\")\n",
    "plt.ylim([0,1.0])\n",
    "plt.show()"
   ]
  },
  {
   "cell_type": "code",
   "execution_count": null,
   "metadata": {},
   "outputs": [],
   "source": []
  },
  {
   "cell_type": "markdown",
   "metadata": {},
   "source": [
    "- 学習がうまくいっていない？"
   ]
  },
  {
   "cell_type": "code",
   "execution_count": null,
   "metadata": {},
   "outputs": [],
   "source": []
  },
  {
   "cell_type": "code",
   "execution_count": null,
   "metadata": {},
   "outputs": [],
   "source": []
  }
 ],
 "metadata": {
  "kernelspec": {
   "display_name": "Python 3",
   "language": "python",
   "name": "python3"
  },
  "language_info": {
   "codemirror_mode": {
    "name": "ipython",
    "version": 3
   },
   "file_extension": ".py",
   "mimetype": "text/x-python",
   "name": "python",
   "nbconvert_exporter": "python",
   "pygments_lexer": "ipython3",
   "version": "3.6.4"
  }
 },
 "nbformat": 4,
 "nbformat_minor": 2
}
